{
 "cells": [
  {
   "cell_type": "code",
   "execution_count": 2,
   "metadata": {},
   "outputs": [
    {
     "name": "stdout",
     "output_type": "stream",
     "text": [
      "Collecting tweepy\n",
      "  Downloading tweepy-3.9.0-py2.py3-none-any.whl (30 kB)\n",
      "Requirement already satisfied: requests[socks]>=2.11.1 in c:\\programdata\\anaconda3\\lib\\site-packages (from tweepy) (2.22.0)\n",
      "Requirement already satisfied: six>=1.10.0 in c:\\programdata\\anaconda3\\lib\\site-packages (from tweepy) (1.14.0)\n",
      "Collecting requests-oauthlib>=0.7.0\n",
      "  Downloading requests_oauthlib-1.3.0-py2.py3-none-any.whl (23 kB)\n",
      "Requirement already satisfied: urllib3!=1.25.0,!=1.25.1,<1.26,>=1.21.1 in c:\\programdata\\anaconda3\\lib\\site-packages (from requests[socks]>=2.11.1->tweepy) (1.25.8)\n",
      "Requirement already satisfied: chardet<3.1.0,>=3.0.2 in c:\\programdata\\anaconda3\\lib\\site-packages (from requests[socks]>=2.11.1->tweepy) (3.0.4)\n",
      "Requirement already satisfied: certifi>=2017.4.17 in c:\\programdata\\anaconda3\\lib\\site-packages (from requests[socks]>=2.11.1->tweepy) (2019.11.28)\n",
      "Requirement already satisfied: idna<2.9,>=2.5 in c:\\programdata\\anaconda3\\lib\\site-packages (from requests[socks]>=2.11.1->tweepy) (2.8)\n",
      "Requirement already satisfied: PySocks!=1.5.7,>=1.5.6; extra == \"socks\" in c:\\programdata\\anaconda3\\lib\\site-packages (from requests[socks]>=2.11.1->tweepy) (1.7.1)\n",
      "Collecting oauthlib>=3.0.0\n",
      "  Downloading oauthlib-3.1.0-py2.py3-none-any.whl (147 kB)\n",
      "Installing collected packages: oauthlib, requests-oauthlib, tweepy\n",
      "Successfully installed oauthlib-3.1.0 requests-oauthlib-1.3.0 tweepy-3.9.0\n"
     ]
    }
   ],
   "source": [
    "!pip install tweepy"
   ]
  },
  {
   "cell_type": "code",
   "execution_count": 3,
   "metadata": {},
   "outputs": [
    {
     "name": "stdout",
     "output_type": "stream",
     "text": [
      "Collecting textblob\n",
      "  Downloading textblob-0.15.3-py2.py3-none-any.whl (636 kB)\n",
      "Requirement already satisfied: nltk>=3.1 in c:\\programdata\\anaconda3\\lib\\site-packages (from textblob) (3.4.5)\n",
      "Requirement already satisfied: six in c:\\programdata\\anaconda3\\lib\\site-packages (from nltk>=3.1->textblob) (1.14.0)\n",
      "Installing collected packages: textblob\n",
      "Successfully installed textblob-0.15.3\n"
     ]
    }
   ],
   "source": [
    "!pip install textblob"
   ]
  },
  {
   "cell_type": "code",
   "execution_count": 113,
   "metadata": {},
   "outputs": [
    {
     "ename": "ModuleNotFoundError",
     "evalue": "No module named 'twitter'",
     "output_type": "error",
     "traceback": [
      "\u001b[1;31m---------------------------------------------------------------------------\u001b[0m",
      "\u001b[1;31mModuleNotFoundError\u001b[0m                       Traceback (most recent call last)",
      "\u001b[1;32m<ipython-input-113-819773557c9f>\u001b[0m in \u001b[0;36m<module>\u001b[1;34m\u001b[0m\n\u001b[1;32m----> 1\u001b[1;33m \u001b[1;32mimport\u001b[0m \u001b[0mtwitter\u001b[0m\u001b[1;33m\u001b[0m\u001b[1;33m\u001b[0m\u001b[0m\n\u001b[0m\u001b[0;32m      2\u001b[0m \u001b[1;33m\u001b[0m\u001b[0m\n\u001b[0;32m      3\u001b[0m \u001b[1;31m# initialize api instance\u001b[0m\u001b[1;33m\u001b[0m\u001b[1;33m\u001b[0m\u001b[1;33m\u001b[0m\u001b[0m\n\u001b[0;32m      4\u001b[0m twitter_api = twitter.Api(consumer_key='HOXs6dN9UApOrjdP3sDG8q7Bx',\n\u001b[0;32m      5\u001b[0m                         \u001b[0mconsumer_secret\u001b[0m\u001b[1;33m=\u001b[0m\u001b[1;34m'TzR3sATRX2FwL61Qhro1d4KenvLhKuCvYNS5OKzmxeK7HRkRg2'\u001b[0m\u001b[1;33m,\u001b[0m\u001b[1;33m\u001b[0m\u001b[1;33m\u001b[0m\u001b[0m\n",
      "\u001b[1;31mModuleNotFoundError\u001b[0m: No module named 'twitter'"
     ]
    }
   ],
   "source": [
    "import twitter\n",
    "\n",
    "# initialize api instance\n",
    "twitter_api = twitter.Api(consumer_key='HOXs6dN9UApOrjdP3sDG8q7Bx',\n",
    "                        consumer_secret='TzR3sATRX2FwL61Qhro1d4KenvLhKuCvYNS5OKzmxeK7HRkRg2',\n",
    "                        access_token_key='1301245220416188416-DvgyzLiFkYDfdozX0Afl2WR8eItktR',\n",
    "                        access_token_secret='ZjeOuGzFw440IkvbPlKUKshONinTU136UVU9twyG5cUhJ')\n",
    "\n",
    "# test authentication\n",
    "print(twitter_api.VerifyCredentials())"
   ]
  },
  {
   "cell_type": "code",
   "execution_count": 25,
   "metadata": {},
   "outputs": [
    {
     "name": "stdout",
     "output_type": "stream",
     "text": [
      "RT @Mediavenir: 🇫🇷 ALERTE - 9 843 cas de #coronavirus en 24h en France, un record absolu depuis le début de la pandémie et la première fois…\n",
      "Sentiment(polarity=0.0, subjectivity=0.0)\n",
      "RT @Mediavenir: 🇫🇷 ALERTE - 9 843 cas de #coronavirus en 24h en France, un record absolu depuis le début de la pandémie et la première fois…\n",
      "Sentiment(polarity=0.0, subjectivity=0.0)\n",
      "RT @Mediavenir: 🇫🇷 ALERTE - 9 843 cas de #coronavirus en 24h en France, un record absolu depuis le début de la pandémie et la première fois…\n",
      "Sentiment(polarity=0.0, subjectivity=0.0)\n",
      "RT @Mediavenir: 🇫🇷 ALERTE - 9 843 cas de #coronavirus en 24h en France, un record absolu depuis le début de la pandémie et la première fois…\n",
      "Sentiment(polarity=0.0, subjectivity=0.0)\n",
      "RT @Mediavenir: 🇫🇷 ALERTE - 9 843 cas de #coronavirus en 24h en France, un record absolu depuis le début de la pandémie et la première fois…\n",
      "Sentiment(polarity=0.0, subjectivity=0.0)\n",
      "RT @Mediavenir: 🇫🇷 ALERTE - 9 843 cas de #coronavirus en 24h en France, un record absolu depuis le début de la pandémie et la première fois…\n",
      "Sentiment(polarity=0.0, subjectivity=0.0)\n",
      "RT @Mediavenir: 🇫🇷 ALERTE - 9 843 cas de #coronavirus en 24h en France, un record absolu depuis le début de la pandémie et la première fois…\n",
      "Sentiment(polarity=0.0, subjectivity=0.0)\n",
      "RT @Mediavenir: 🇫🇷 ALERTE - 9 843 cas de #coronavirus en 24h en France, un record absolu depuis le début de la pandémie et la première fois…\n",
      "Sentiment(polarity=0.0, subjectivity=0.0)\n",
      "RT @Mediavenir: 🇫🇷 ALERTE - 9 843 cas de #coronavirus en 24h en France, un record absolu depuis le début de la pandémie et la première fois…\n",
      "Sentiment(polarity=0.0, subjectivity=0.0)\n",
      "RT @Mediavenir: 🇫🇷 ALERTE - 9 843 cas de #coronavirus en 24h en France, un record absolu depuis le début de la pandémie et la première fois…\n",
      "Sentiment(polarity=0.0, subjectivity=0.0)\n",
      "RT @Mediavenir: 🇫🇷 ALERTE - 9 843 cas de #coronavirus en 24h en France, un record absolu depuis le début de la pandémie et la première fois…\n",
      "Sentiment(polarity=0.0, subjectivity=0.0)\n",
      "RT @Mediavenir: 🇫🇷 ALERTE - 9 843 cas de #coronavirus en 24h en France, un record absolu depuis le début de la pandémie et la première fois…\n",
      "Sentiment(polarity=0.0, subjectivity=0.0)\n",
      "RT @Mediavenir: 🇫🇷 ALERTE - 9 843 cas de #coronavirus en 24h en France, un record absolu depuis le début de la pandémie et la première fois…\n",
      "Sentiment(polarity=0.0, subjectivity=0.0)\n",
      "RT @Mediavenir: 🇫🇷 ALERTE - 9 843 cas de #coronavirus en 24h en France, un record absolu depuis le début de la pandémie et la première fois…\n",
      "Sentiment(polarity=0.0, subjectivity=0.0)\n",
      "RT @Mediavenir: 🇫🇷 ALERTE - 9 843 cas de #coronavirus en 24h en France, un record absolu depuis le début de la pandémie et la première fois…\n",
      "Sentiment(polarity=0.0, subjectivity=0.0)\n"
     ]
    }
   ],
   "source": [
    "import tweepy\n",
    "from textblob import TextBlob\n",
    "consumer_key = 'HOXs6dN9UApOrjdP3sDG8q7Bx'\n",
    "consumer_secret = 'TzR3sATRX2FwL61Qhro1d4KenvLhKuCvYNS5OKzmxeK7HRkRg2'\n",
    "access_token = '1301245220416188416-DvgyzLiFkYDfdozX0Afl2WR8eItktR'\n",
    "access_token_secret = 'ZjeOuGzFw440IkvbPlKUKshONinTU136UVU9twyG5cUhJ'\n",
    "auth = tweepy.OAuthHandler(consumer_key,consumer_secret)\n",
    "auth.set_access_token(access_token,access_token_secret)\n",
    "api = tweepy.API(auth)\n",
    "public_tweets = api.search('Coronavirus')\n",
    "for tweets in public_tweets:\n",
    "    print(tweet.text)\n",
    "    analysis = TextBlob(tweet.text)\n",
    "    print(analysis.sentiment)"
   ]
  },
  {
   "cell_type": "code",
   "execution_count": 114,
   "metadata": {},
   "outputs": [],
   "source": [
    "def buildTestSet(search_keyword):\n",
    "    try:\n",
    "        tweets_fetched = twitter_api.GetSearch(search_keyword, count = 100)\n",
    "        \n",
    "        print(\"Fetched \" + str(len(tweets_fetched)) + \" tweets for the term \" + search_keyword)\n",
    "        \n",
    "        return [{\"coronavirus\":status.text, \"label\":None} for status in tweets_fetched]\n",
    "    except:\n",
    "        print(\"Unfortunately, something went wrong..\")\n",
    "        return None"
   ]
  },
  {
   "cell_type": "code",
   "execution_count": 116,
   "metadata": {},
   "outputs": [],
   "source": [
    "def buidTrainingSet(corpusFile, tweetDataFile):\n",
    "    import csv\n",
    "    import time\n",
    "    \n",
    "    corpus = []\n",
    "    \n",
    "    with open(corpusFile,'rb') as csvfile:\n",
    "        lineReader = csv.reader(csvfile,delimiter=',', quotechar=\"\\\"\")\n",
    "        for row in lineReader:\n",
    "            corpus.append({\"tweet_id\":row[2], \"label\":row[1], \"topic\":row[0]})\n",
    "            \n",
    "    rate_limit = 180\n",
    "    sleep_time = 900/180\n",
    "    \n",
    "    trainingDataSet = []\n",
    "    \n",
    "    for tweet in corpus:\n",
    "        try:\n",
    "            status = twitter_api.GetStatus(tweet[\"tweet_id\"])\n",
    "            print(\"Tweet fetched\" + status.text)\n",
    "            tweet[\"text\"] = status.text\n",
    "            trainingDataSet.append(tweet)\n",
    "            time.sleep(sleep_time) \n",
    "        except: \n",
    "            continue\n",
    "    # now we write them to the empty CSV file\n",
    "    with open(tweetDataFile,'wb') as csvfile:\n",
    "        linewriter = csv.writer(csvfile,delimiter=',',quotechar=\"\\\"\")\n",
    "        for tweet in trainingDataSet:\n",
    "            try:\n",
    "                linewriter.writerow([tweet[\"tweet_id\"], tweet[\"text\"], tweet[\"label\"], tweet[\"topic\"]])\n",
    "            except Exception as e:\n",
    "                print(e)\n",
    "    return trainingDataSet"
   ]
  },
  {
   "cell_type": "code",
   "execution_count": 26,
   "metadata": {},
   "outputs": [],
   "source": [
    "def get_tweet_sentiment(self, tweet):\n",
    "   # create TextBlob object of passed tweet text\n",
    "   analysis = TextBlob(self.trim_tweet(tweet))\n",
    "   # set sentiment\n",
    "   if analysis.sentiment.polarity > 0:\n",
    "      return 'positive'\n",
    "   elif analysis.sentiment.polarity == 0:\n",
    "      return 'neutral'\n",
    "   else:\n",
    "      return 'negative'"
   ]
  },
  {
   "cell_type": "code",
   "execution_count": 22,
   "metadata": {},
   "outputs": [
    {
     "name": "stdout",
     "output_type": "stream",
     "text": [
      "Finished.\n"
     ]
    },
    {
     "name": "stderr",
     "output_type": "stream",
     "text": [
      "[nltk_data] Downloading package brown to\n",
      "[nltk_data]     C:\\Users\\Soumya\\AppData\\Roaming\\nltk_data...\n",
      "[nltk_data]   Unzipping corpora\\brown.zip.\n",
      "[nltk_data] Downloading package punkt to\n",
      "[nltk_data]     C:\\Users\\Soumya\\AppData\\Roaming\\nltk_data...\n",
      "[nltk_data]   Package punkt is already up-to-date!\n",
      "[nltk_data] Downloading package wordnet to\n",
      "[nltk_data]     C:\\Users\\Soumya\\AppData\\Roaming\\nltk_data...\n",
      "[nltk_data]   Package wordnet is already up-to-date!\n",
      "[nltk_data] Downloading package averaged_perceptron_tagger to\n",
      "[nltk_data]     C:\\Users\\Soumya\\AppData\\Roaming\\nltk_data...\n",
      "[nltk_data]   Package averaged_perceptron_tagger is already up-to-\n",
      "[nltk_data]       date!\n",
      "[nltk_data] Downloading package conll2000 to\n",
      "[nltk_data]     C:\\Users\\Soumya\\AppData\\Roaming\\nltk_data...\n",
      "[nltk_data]   Unzipping corpora\\conll2000.zip.\n",
      "[nltk_data] Downloading package movie_reviews to\n",
      "[nltk_data]     C:\\Users\\Soumya\\AppData\\Roaming\\nltk_data...\n",
      "[nltk_data]   Package movie_reviews is already up-to-date!\n"
     ]
    }
   ],
   "source": [
    "!python -m textblob.download_corpora"
   ]
  },
  {
   "cell_type": "code",
   "execution_count": 28,
   "metadata": {},
   "outputs": [],
   "source": [
    "def buildTestSet(public_tweets):\n",
    "    try:\n",
    "        tweets_fetched = twitter_api.GetSearch(public_tweets, count=100)\n",
    "        \n",
    "        print(\"Fetched \" + str(len(tweets_fetched)) + \" tweets for the term \" + public_tweets)\n",
    "\n",
    "        return [{\"text\":status.text, \"label\":None} for status in tweets_fetched]\n",
    "    except:\n",
    "        print(\"Unfortunately, something went wrong..\")\n",
    "        return None"
   ]
  },
  {
   "cell_type": "code",
   "execution_count": 32,
   "metadata": {},
   "outputs": [
    {
     "name": "stdout",
     "output_type": "stream",
     "text": [
      "The number of statuses the user has posted are : 13512\n"
     ]
    }
   ],
   "source": [
    "auth = tweepy.OAuthHandler(consumer_key, consumer_secret) \n",
    "  \n",
    "# set access to user's access key and access secret  \n",
    "auth.set_access_token(access_token, access_token_secret) \n",
    "  \n",
    "# calling the api  \n",
    "api = tweepy.API(auth) \n",
    "  \n",
    "# the ID of the user \n",
    "id = 57741058\n",
    "  \n",
    "# fetching the user \n",
    "user = api.get_user(id) \n",
    "  \n",
    "# fetching the statuses_count attribute \n",
    "statuses_count = user.statuses_count  \n",
    "  \n",
    "print(\"The number of statuses the user has posted are : \" + str(statuses_count)) \n"
   ]
  },
  {
   "cell_type": "code",
   "execution_count": 107,
   "metadata": {},
   "outputs": [
    {
     "name": "stdout",
     "output_type": "stream",
     "text": [
      "RT @GlennKesslerWP: What a misleading clip. Biden's full quote: \" I want to take a moment to say it’s not a time to panic about coronavirus…\n",
      "RT @yaaya_7: il a fallut le coronavirus pour avoir du savon\n",
      "RT @SRuhle: Reminder - @VP was head of the Coronavirus Task Force.  He had the same information @realDonaldTrump did\n",
      "RT @goldenrosae: o namjoon tava chorando porque se emocionou falando sobre os tempos difíceis que a gente tá vivendo por causa do coronavir…\n",
      "RT @eugenegu: @realDonaldTrump I don’t understand why this is so hard for Trump and the Republicans to understand. You don’t need to crowd…\n",
      "RT @larepublica_pe: Hombre con hemiplejia denuncia que empresa lo liquidó con un solo sueldo tras trabajar durante 16 años  \n",
      "https://t.co/d…\n",
      "RT @SkyNews: Coronavirus: Universities told not to send students home in the event of an outbreak https://t.co/wYJKKvLP2M\n",
      "RT @ArthurDelaneyHP: Talked to an unemployed freelance TV producer who fell behind on mortgage after the $600 disappeared. \n",
      "\n",
      "Her mood: “I h…\n",
      "RT @jsolomonReports: Fauci comes to Trump defense after Woodward book claim, says he did not hear President distort conversations about cor…\n",
      "RT @joelpollak: .@JoeBiden's key pandemic guy called coronavirus a \"fear epidemic\" in February. Self-righteousness in hindsight is useless.\n",
      "RT @ActualidadRT: Hasta 100 millones de dosis de la vacuna rusa contra el coronavirus Sputnik V serán suministradas a Latinoamérica https:/…\n",
      "RT @reubing: Rush Limbaugh just showed the idiocy of the Woodward so-called bombshell.\n",
      "\n",
      "President Trump told Jim Acosta on national TV at a…\n",
      "RT @SenAngusKing: It’s right there on the tapes. President Trump knew the scope and scale of the coronavirus pandemic before it struck. He…\n",
      "RT @CNNnewsroom: “Here's Donald Trump basically proving to us in real time that he can't be trusted with the nation’s…secrets,” former DHS…\n",
      "RT @Mr_PharaohMan: ‘McEnany defends Trump after Woodward book claims he said coronavirus 'deadly,' despite publicly downplaying it’\n",
      "\n",
      "First…\n"
     ]
    }
   ],
   "source": [
    "import tweepy\n",
    "\n",
    "#Add your credentials here\n",
    "twitter_keys = {\n",
    "         'consumer_key': 'HOXs6dN9UApOrjdP3sDG8q7Bx',\n",
    "         'consumer_secret': 'TzR3sATRX2FwL61Qhro1d4KenvLhKuCvYNS5OKzmxeK7HRkRg2',\n",
    "         'access_token': '1301245220416188416-DvgyzLiFkYDfdozX0Afl2WR8eItktR',\n",
    "         'access_token_secret': 'ZjeOuGzFw440IkvbPlKUKshONinTU136UVU9twyG5cUhJ'\n",
    "    }\n",
    "\n",
    "#Setup access to API\n",
    "auth = tweepy.OAuthHandler(twitter_keys['consumer_key'], twitter_keys['consumer_secret'])\n",
    "auth.set_access_token(twitter_keys['access_token'], twitter_keys['access_token_secret'])\n",
    "\n",
    "api = tweepy.API(auth)\n",
    "\n",
    "#Make call on home timeline, print each tweets text\n",
    "public_tweets = api.search('Coronavirus')\n",
    "for tweet in public_tweets:\n",
    "    print(tweet.text)"
   ]
  },
  {
   "cell_type": "code",
   "execution_count": 108,
   "metadata": {},
   "outputs": [
    {
     "name": "stdout",
     "output_type": "stream",
     "text": [
      "{\n",
      "    \"contributors\": null,\n",
      "    \"coordinates\": null,\n",
      "    \"created_at\": \"Thu Sep 10 19:07:24 +0000 2020\",\n",
      "    \"entities\": {\n",
      "        \"hashtags\": [],\n",
      "        \"symbols\": [],\n",
      "        \"urls\": [],\n",
      "        \"user_mentions\": [\n",
      "            {\n",
      "                \"id\": 235196204,\n",
      "                \"id_str\": \"235196204\",\n",
      "                \"indices\": [\n",
      "                    3,\n",
      "                    18\n",
      "                ],\n",
      "                \"name\": \"Glenn Kessler\",\n",
      "                \"screen_name\": \"GlennKesslerWP\"\n",
      "            }\n",
      "        ]\n",
      "    },\n",
      "    \"favorite_count\": 0,\n",
      "    \"favorited\": false,\n",
      "    \"geo\": null,\n",
      "    \"id\": 1304134398640619520,\n",
      "    \"id_str\": \"1304134398640619520\",\n",
      "    \"in_reply_to_screen_name\": null,\n",
      "    \"in_reply_to_status_id\": null,\n",
      "    \"in_reply_to_status_id_str\": null,\n",
      "    \"in_reply_to_user_id\": null,\n",
      "    \"in_reply_to_user_id_str\": null,\n",
      "    \"is_quote_status\": true,\n",
      "    \"lang\": \"en\",\n",
      "    \"metadata\": {\n",
      "        \"iso_language_code\": \"en\",\n",
      "        \"result_type\": \"recent\"\n",
      "    },\n",
      "    \"place\": null,\n",
      "    \"quoted_status_id\": 1303876499897024512,\n",
      "    \"quoted_status_id_str\": \"1303876499897024512\",\n",
      "    \"retweet_count\": 2344,\n",
      "    \"retweeted\": false,\n",
      "    \"retweeted_status\": {\n",
      "        \"contributors\": null,\n",
      "        \"coordinates\": null,\n",
      "        \"created_at\": \"Thu Sep 10 15:35:09 +0000 2020\",\n",
      "        \"entities\": {\n",
      "            \"hashtags\": [],\n",
      "            \"symbols\": [],\n",
      "            \"urls\": [\n",
      "                {\n",
      "                    \"display_url\": \"twitter.com/i/web/status/1\\u2026\",\n",
      "                    \"expanded_url\": \"https://twitter.com/i/web/status/1304080981113163776\",\n",
      "                    \"indices\": [\n",
      "                        117,\n",
      "                        140\n",
      "                    ],\n",
      "                    \"url\": \"https://t.co/xJAcJbPB7v\"\n",
      "                }\n",
      "            ],\n",
      "            \"user_mentions\": []\n",
      "        },\n",
      "        \"favorite_count\": 6129,\n",
      "        \"favorited\": false,\n",
      "        \"geo\": null,\n",
      "        \"id\": 1304080981113163776,\n",
      "        \"id_str\": \"1304080981113163776\",\n",
      "        \"in_reply_to_screen_name\": null,\n",
      "        \"in_reply_to_status_id\": null,\n",
      "        \"in_reply_to_status_id_str\": null,\n",
      "        \"in_reply_to_user_id\": null,\n",
      "        \"in_reply_to_user_id_str\": null,\n",
      "        \"is_quote_status\": true,\n",
      "        \"lang\": \"en\",\n",
      "        \"metadata\": {\n",
      "            \"iso_language_code\": \"en\",\n",
      "            \"result_type\": \"recent\"\n",
      "        },\n",
      "        \"place\": null,\n",
      "        \"possibly_sensitive\": false,\n",
      "        \"quoted_status\": {\n",
      "            \"contributors\": null,\n",
      "            \"coordinates\": null,\n",
      "            \"created_at\": \"Thu Sep 10 02:02:37 +0000 2020\",\n",
      "            \"entities\": {\n",
      "                \"hashtags\": [],\n",
      "                \"media\": [\n",
      "                    {\n",
      "                        \"display_url\": \"pic.twitter.com/y5ZLeAFRal\",\n",
      "                        \"expanded_url\": \"https://twitter.com/TrumpWarRoom/status/1303876499897024512/video/1\",\n",
      "                        \"id\": 1303875723959173120,\n",
      "                        \"id_str\": \"1303875723959173120\",\n",
      "                        \"indices\": [\n",
      "                            71,\n",
      "                            94\n",
      "                        ],\n",
      "                        \"media_url\": \"http://pbs.twimg.com/amplify_video_thumb/1303875723959173120/img/_gJXibrgdsy8jjZK.jpg\",\n",
      "                        \"media_url_https\": \"https://pbs.twimg.com/amplify_video_thumb/1303875723959173120/img/_gJXibrgdsy8jjZK.jpg\",\n",
      "                        \"sizes\": {\n",
      "                            \"large\": {\n",
      "                                \"h\": 720,\n",
      "                                \"resize\": \"fit\",\n",
      "                                \"w\": 1280\n",
      "                            },\n",
      "                            \"medium\": {\n",
      "                                \"h\": 675,\n",
      "                                \"resize\": \"fit\",\n",
      "                                \"w\": 1200\n",
      "                            },\n",
      "                            \"small\": {\n",
      "                                \"h\": 383,\n",
      "                                \"resize\": \"fit\",\n",
      "                                \"w\": 680\n",
      "                            },\n",
      "                            \"thumb\": {\n",
      "                                \"h\": 150,\n",
      "                                \"resize\": \"crop\",\n",
      "                                \"w\": 150\n",
      "                            }\n",
      "                        },\n",
      "                        \"type\": \"photo\",\n",
      "                        \"url\": \"https://t.co/y5ZLeAFRal\"\n",
      "                    }\n",
      "                ],\n",
      "                \"symbols\": [],\n",
      "                \"urls\": [],\n",
      "                \"user_mentions\": []\n",
      "            },\n",
      "            \"extended_entities\": {\n",
      "                \"media\": [\n",
      "                    {\n",
      "                        \"additional_media_info\": {\n",
      "                            \"call_to_actions\": {\n",
      "                                \"visit_site\": {\n",
      "                                    \"url\": \"https://www.donaldjtrump.com/media/fact-check-joe-biden-was-behind-the-curve-on-the-coronavirus\"\n",
      "                                }\n",
      "                            },\n",
      "                            \"description\": \"\",\n",
      "                            \"embeddable\": true,\n",
      "                            \"monetizable\": false,\n",
      "                            \"title\": \"Joe Biden on February 28: \\\"It's not a time to panic about coronavirus\\\"\"\n",
      "                        },\n",
      "                        \"display_url\": \"pic.twitter.com/y5ZLeAFRal\",\n",
      "                        \"expanded_url\": \"https://twitter.com/TrumpWarRoom/status/1303876499897024512/video/1\",\n",
      "                        \"id\": 1303875723959173120,\n",
      "                        \"id_str\": \"1303875723959173120\",\n",
      "                        \"indices\": [\n",
      "                            71,\n",
      "                            94\n",
      "                        ],\n",
      "                        \"media_url\": \"http://pbs.twimg.com/amplify_video_thumb/1303875723959173120/img/_gJXibrgdsy8jjZK.jpg\",\n",
      "                        \"media_url_https\": \"https://pbs.twimg.com/amplify_video_thumb/1303875723959173120/img/_gJXibrgdsy8jjZK.jpg\",\n",
      "                        \"sizes\": {\n",
      "                            \"large\": {\n",
      "                                \"h\": 720,\n",
      "                                \"resize\": \"fit\",\n",
      "                                \"w\": 1280\n",
      "                            },\n",
      "                            \"medium\": {\n",
      "                                \"h\": 675,\n",
      "                                \"resize\": \"fit\",\n",
      "                                \"w\": 1200\n",
      "                            },\n",
      "                            \"small\": {\n",
      "                                \"h\": 383,\n",
      "                                \"resize\": \"fit\",\n",
      "                                \"w\": 680\n",
      "                            },\n",
      "                            \"thumb\": {\n",
      "                                \"h\": 150,\n",
      "                                \"resize\": \"crop\",\n",
      "                                \"w\": 150\n",
      "                            }\n",
      "                        },\n",
      "                        \"type\": \"video\",\n",
      "                        \"url\": \"https://t.co/y5ZLeAFRal\",\n",
      "                        \"video_info\": {\n",
      "                            \"aspect_ratio\": [\n",
      "                                16,\n",
      "                                9\n",
      "                            ],\n",
      "                            \"duration_millis\": 6474,\n",
      "                            \"variants\": [\n",
      "                                {\n",
      "                                    \"bitrate\": 2176000,\n",
      "                                    \"content_type\": \"video/mp4\",\n",
      "                                    \"url\": \"https://video.twimg.com/amplify_video/1303875723959173120/vid/1280x720/e6_TZI5RXN0qGM9G.mp4?tag=13\"\n",
      "                                },\n",
      "                                {\n",
      "                                    \"bitrate\": 832000,\n",
      "                                    \"content_type\": \"video/mp4\",\n",
      "                                    \"url\": \"https://video.twimg.com/amplify_video/1303875723959173120/vid/640x360/-9BL6Be-AD3WhfDm.mp4?tag=13\"\n",
      "                                },\n",
      "                                {\n",
      "                                    \"bitrate\": 288000,\n",
      "                                    \"content_type\": \"video/mp4\",\n",
      "                                    \"url\": \"https://video.twimg.com/amplify_video/1303875723959173120/vid/480x270/5f00jwAghsxs79Mi.mp4?tag=13\"\n",
      "                                },\n",
      "                                {\n",
      "                                    \"content_type\": \"application/x-mpegURL\",\n",
      "                                    \"url\": \"https://video.twimg.com/amplify_video/1303875723959173120/pl/BjrkJ7NnF8oFix39.m3u8?tag=13\"\n",
      "                                }\n",
      "                            ]\n",
      "                        }\n",
      "                    }\n",
      "                ]\n",
      "            },\n",
      "            \"favorite_count\": 16949,\n",
      "            \"favorited\": false,\n",
      "            \"geo\": null,\n",
      "            \"id\": 1303876499897024512,\n",
      "            \"id_str\": \"1303876499897024512\",\n",
      "            \"in_reply_to_screen_name\": null,\n",
      "            \"in_reply_to_status_id\": null,\n",
      "            \"in_reply_to_status_id_str\": null,\n",
      "            \"in_reply_to_user_id\": null,\n",
      "            \"in_reply_to_user_id_str\": null,\n",
      "            \"is_quote_status\": false,\n",
      "            \"lang\": \"en\",\n",
      "            \"metadata\": {\n",
      "                \"iso_language_code\": \"en\",\n",
      "                \"result_type\": \"recent\"\n",
      "            },\n",
      "            \"place\": null,\n",
      "            \"possibly_sensitive\": false,\n",
      "            \"retweet_count\": 10844,\n",
      "            \"retweeted\": false,\n",
      "            \"source\": \"<a href=\\\"https://studio.twitter.com\\\" rel=\\\"nofollow\\\">Twitter Media Studio</a>\",\n",
      "            \"text\": \"Joe Biden on February 28: \\\"It's not a time to panic about coronavirus\\\" https://t.co/y5ZLeAFRal\",\n",
      "            \"truncated\": false,\n",
      "            \"user\": {\n",
      "                \"contributors_enabled\": false,\n",
      "                \"created_at\": \"Wed Mar 20 20:54:58 +0000 2019\",\n",
      "                \"default_profile\": false,\n",
      "                \"default_profile_image\": false,\n",
      "                \"description\": \"Highlighting @realDonaldTrump's #PromisesKept, fighting #FakeNews. This account punches back 10x harder. Managed by the #TeamTrump 2020 campaign. #MAGA\",\n",
      "                \"entities\": {\n",
      "                    \"description\": {\n",
      "                        \"urls\": []\n",
      "                    },\n",
      "                    \"url\": {\n",
      "                        \"urls\": [\n",
      "                            {\n",
      "                                \"display_url\": \"donaldjtrump.com\",\n",
      "                                \"expanded_url\": \"https://www.donaldjtrump.com/\",\n",
      "                                \"indices\": [\n",
      "                                    0,\n",
      "                                    23\n",
      "                                ],\n",
      "                                \"url\": \"https://t.co/mVHOxzYUNT\"\n",
      "                            }\n",
      "                        ]\n",
      "                    }\n",
      "                },\n",
      "                \"favourites_count\": 75,\n",
      "                \"follow_request_sent\": false,\n",
      "                \"followers_count\": 817789,\n",
      "                \"following\": false,\n",
      "                \"friends_count\": 268,\n",
      "                \"geo_enabled\": false,\n",
      "                \"has_extended_profile\": true,\n",
      "                \"id\": 1108472017144201216,\n",
      "                \"id_str\": \"1108472017144201216\",\n",
      "                \"is_translation_enabled\": false,\n",
      "                \"is_translator\": false,\n",
      "                \"lang\": null,\n",
      "                \"listed_count\": 2420,\n",
      "                \"location\": \"MAGA Country\",\n",
      "                \"name\": \"Trump War Room - Text TRUMP to 88022\",\n",
      "                \"notifications\": false,\n",
      "                \"profile_background_color\": \"000000\",\n",
      "                \"profile_background_image_url\": \"http://abs.twimg.com/images/themes/theme1/bg.png\",\n",
      "                \"profile_background_image_url_https\": \"https://abs.twimg.com/images/themes/theme1/bg.png\",\n",
      "                \"profile_background_tile\": false,\n",
      "                \"profile_banner_url\": \"https://pbs.twimg.com/profile_banners/1108472017144201216/1588976113\",\n",
      "                \"profile_image_url\": \"http://pbs.twimg.com/profile_images/1109170568950095879/Q5nCWHLB_normal.png\",\n",
      "                \"profile_image_url_https\": \"https://pbs.twimg.com/profile_images/1109170568950095879/Q5nCWHLB_normal.png\",\n",
      "                \"profile_link_color\": \"ABB8C2\",\n",
      "                \"profile_sidebar_border_color\": \"000000\",\n",
      "                \"profile_sidebar_fill_color\": \"000000\",\n",
      "                \"profile_text_color\": \"000000\",\n",
      "                \"profile_use_background_image\": false,\n",
      "                \"protected\": false,\n",
      "                \"screen_name\": \"TrumpWarRoom\",\n",
      "                \"statuses_count\": 21258,\n",
      "                \"time_zone\": null,\n",
      "                \"translator_type\": \"none\",\n",
      "                \"url\": \"https://t.co/mVHOxzYUNT\",\n",
      "                \"utc_offset\": null,\n",
      "                \"verified\": true\n",
      "            }\n",
      "        },\n",
      "        \"quoted_status_id\": 1303876499897024512,\n",
      "        \"quoted_status_id_str\": \"1303876499897024512\",\n",
      "        \"retweet_count\": 2344,\n",
      "        \"retweeted\": false,\n",
      "        \"source\": \"<a href=\\\"https://mobile.twitter.com\\\" rel=\\\"nofollow\\\">Twitter Web App</a>\",\n",
      "        \"text\": \"What a misleading clip. Biden's full quote: \\\" I want to take a moment to say it\\u2019s not a time to panic about coronav\\u2026 https://t.co/xJAcJbPB7v\",\n",
      "        \"truncated\": true,\n",
      "        \"user\": {\n",
      "            \"contributors_enabled\": false,\n",
      "            \"created_at\": \"Fri Jan 07 16:02:14 +0000 2011\",\n",
      "            \"default_profile\": false,\n",
      "            \"default_profile_image\": false,\n",
      "            \"description\": \"Editor/chief writer of Washington Post's Fact Checker, revealing the truth behind the rhetoric. I tweet articles & comments I find interesting or provocative.\",\n",
      "            \"entities\": {\n",
      "                \"description\": {\n",
      "                    \"urls\": []\n",
      "                },\n",
      "                \"url\": {\n",
      "                    \"urls\": [\n",
      "                        {\n",
      "                            \"display_url\": \"washingtonpost.com/factchecker\",\n",
      "                            \"expanded_url\": \"http://www.washingtonpost.com/factchecker\",\n",
      "                            \"indices\": [\n",
      "                                0,\n",
      "                                23\n",
      "                            ],\n",
      "                            \"url\": \"https://t.co/tBNw21Oiz3\"\n",
      "                        }\n",
      "                    ]\n",
      "                }\n",
      "            },\n",
      "            \"favourites_count\": 2192,\n",
      "            \"follow_request_sent\": false,\n",
      "            \"followers_count\": 133275,\n",
      "            \"following\": false,\n",
      "            \"friends_count\": 513,\n",
      "            \"geo_enabled\": true,\n",
      "            \"has_extended_profile\": false,\n",
      "            \"id\": 235196204,\n",
      "            \"id_str\": \"235196204\",\n",
      "            \"is_translation_enabled\": false,\n",
      "            \"is_translator\": false,\n",
      "            \"lang\": null,\n",
      "            \"listed_count\": 2910,\n",
      "            \"location\": \"\\u00dcT: 38.9327999,-77.1524351\",\n",
      "            \"name\": \"Glenn Kessler\",\n",
      "            \"notifications\": false,\n",
      "            \"profile_background_color\": \"3E5D7C\",\n",
      "            \"profile_background_image_url\": \"http://abs.twimg.com/images/themes/theme1/bg.png\",\n",
      "            \"profile_background_image_url_https\": \"https://abs.twimg.com/images/themes/theme1/bg.png\",\n",
      "            \"profile_background_tile\": false,\n",
      "            \"profile_banner_url\": \"https://pbs.twimg.com/profile_banners/235196204/1474902073\",\n",
      "            \"profile_image_url\": \"http://pbs.twimg.com/profile_images/782334896798851072/Sv6ST6cw_normal.jpg\",\n",
      "            \"profile_image_url_https\": \"https://pbs.twimg.com/profile_images/782334896798851072/Sv6ST6cw_normal.jpg\",\n",
      "            \"profile_link_color\": \"0084B4\",\n",
      "            \"profile_sidebar_border_color\": \"C0DEED\",\n",
      "            \"profile_sidebar_fill_color\": \"DDEEF6\",\n",
      "            \"profile_text_color\": \"333333\",\n",
      "            \"profile_use_background_image\": true,\n",
      "            \"protected\": false,\n",
      "            \"screen_name\": \"GlennKesslerWP\",\n",
      "            \"statuses_count\": 99403,\n",
      "            \"time_zone\": null,\n",
      "            \"translator_type\": \"none\",\n",
      "            \"url\": \"https://t.co/tBNw21Oiz3\",\n",
      "            \"utc_offset\": null,\n",
      "            \"verified\": true\n",
      "        }\n",
      "    },\n",
      "    \"source\": \"<a href=\\\"http://twitter.com/#!/download/ipad\\\" rel=\\\"nofollow\\\">Twitter for iPad</a>\",\n",
      "    \"text\": \"RT @GlennKesslerWP: What a misleading clip. Biden's full quote: \\\" I want to take a moment to say it\\u2019s not a time to panic about coronavirus\\u2026\",\n",
      "    \"truncated\": false,\n",
      "    \"user\": {\n",
      "        \"contributors_enabled\": false,\n",
      "        \"created_at\": \"Tue Jan 28 20:02:41 +0000 2020\",\n",
      "        \"default_profile\": true,\n",
      "        \"default_profile_image\": false,\n",
      "        \"description\": \"Every vote counts and is a right as a USA Citizen - don't take it for granted and don't let GOP take it away from you as they will if given a chance.\",\n",
      "        \"entities\": {\n",
      "            \"description\": {\n",
      "                \"urls\": []\n",
      "            }\n",
      "        },\n",
      "        \"favourites_count\": 1897,\n",
      "        \"follow_request_sent\": false,\n",
      "        \"followers_count\": 78,\n",
      "        \"following\": false,\n",
      "        \"friends_count\": 969,\n",
      "        \"geo_enabled\": false,\n",
      "        \"has_extended_profile\": false,\n",
      "        \"id\": 1222248524378710022,\n",
      "        \"id_str\": \"1222248524378710022\",\n",
      "        \"is_translation_enabled\": false,\n",
      "        \"is_translator\": false,\n",
      "        \"lang\": null,\n",
      "        \"listed_count\": 0,\n",
      "        \"location\": \"\",\n",
      "        \"name\": \"TruthToPower\",\n",
      "        \"notifications\": false,\n",
      "        \"profile_background_color\": \"F5F8FA\",\n",
      "        \"profile_background_image_url\": null,\n",
      "        \"profile_background_image_url_https\": null,\n",
      "        \"profile_background_tile\": false,\n",
      "        \"profile_banner_url\": \"https://pbs.twimg.com/profile_banners/1222248524378710022/1580399392\",\n",
      "        \"profile_image_url\": \"http://pbs.twimg.com/profile_images/1222285209590272003/cj2CdAUN_normal.jpg\",\n",
      "        \"profile_image_url_https\": \"https://pbs.twimg.com/profile_images/1222285209590272003/cj2CdAUN_normal.jpg\",\n",
      "        \"profile_link_color\": \"1DA1F2\",\n",
      "        \"profile_sidebar_border_color\": \"C0DEED\",\n",
      "        \"profile_sidebar_fill_color\": \"DDEEF6\",\n",
      "        \"profile_text_color\": \"333333\",\n",
      "        \"profile_use_background_image\": true,\n",
      "        \"protected\": false,\n",
      "        \"screen_name\": \"TruthTo59816979\",\n",
      "        \"statuses_count\": 5339,\n",
      "        \"time_zone\": null,\n",
      "        \"translator_type\": \"none\",\n",
      "        \"url\": null,\n",
      "        \"utc_offset\": null,\n",
      "        \"verified\": false\n",
      "    }\n",
      "}\n"
     ]
    }
   ],
   "source": [
    "import json \n",
    "\n",
    "status = public_tweets[0]\n",
    "\n",
    "#convert to string\n",
    "json_str = json.dumps(status._json)\n",
    "\n",
    "#deserialise string into python object\n",
    "parsed = json.loads(json_str)\n",
    "\n",
    "print(json.dumps(parsed, indent=4, sort_keys=True))"
   ]
  },
  {
   "cell_type": "code",
   "execution_count": 109,
   "metadata": {},
   "outputs": [],
   "source": [
    "class TweetMiner(object):\n",
    "\n",
    "    result_limit    =   20    \n",
    "    data            =   []\n",
    "    api             =   False\n",
    "    \n",
    "    twitter_keys = {\n",
    "         'consumer_key': 'HOXs6dN9UApOrjdP3sDG8q7Bx',\n",
    "         'consumer_secret': 'TzR3sATRX2FwL61Qhro1d4KenvLhKuCvYNS5OKzmxeK7HRkRg2',\n",
    "         'access_token': '1301245220416188416-DvgyzLiFkYDfdozX0Afl2WR8eItktR',\n",
    "         'access_token_secret': 'ZjeOuGzFw440IkvbPlKUKshONinTU136UVU9twyG5cUhJ'\n",
    "    }\n",
    "    \n",
    "    \n",
    "    def __init__(self, keys_dict=twitter_keys, api=api, result_limit = 20):\n",
    "        \n",
    "        self.twitter_keys = keys_dict\n",
    "        \n",
    "        auth = tweepy.OAuthHandler(keys_dict['consumer_key'], keys_dict['consumer_secret'])\n",
    "        auth.set_access_token(keys_dict['access_token'], keys_dict['access_token_secret'])\n",
    "        \n",
    "        self.api = tweepy.API(auth)\n",
    "        self.twitter_keys = keys_dict\n",
    "        \n",
    "        self.result_limit = result_limit\n",
    "        \n",
    "\n",
    "    def mine_user_tweets(self, user=\"dril\", #BECAUSE WHO ELSE!\n",
    "                         mine_rewteets=False,\n",
    "                         max_pages=5):\n",
    "\n",
    "        data           =  []\n",
    "        last_tweet_id  =  False\n",
    "        page           =  1\n",
    "        \n",
    "        while page <= max_pages:\n",
    "            if last_tweet_id:\n",
    "                statuses   =   self.api.user_timeline(screen_name=user,\n",
    "                                                     count=self.result_limit,\n",
    "                                                     max_id=last_tweet_id - 1,\n",
    "                                                     tweet_mode = 'extended',\n",
    "                                                     include_retweets=True\n",
    "                                                    )        \n",
    "            else:\n",
    "                statuses   =   self.api.user_timeline(screen_name=user,\n",
    "                                                        count=self.result_limit,\n",
    "                                                        tweet_mode = 'extended',\n",
    "                                                        include_retweets=True)\n",
    "                \n",
    "            for item in statuses:\n",
    "\n",
    "                mined = {\n",
    "                    'tweet_id':        item.id,\n",
    "                    'name':            item.user.name,\n",
    "                    'screen_name':     item.user.screen_name,\n",
    "                    'retweet_count':   item.retweet_count,\n",
    "                    'text':            item.full_text,\n",
    "                    'mined_at':        datetime.datetime.now(),\n",
    "                    'created_at':      item.created_at,\n",
    "                    'favourite_count': item.favorite_count,\n",
    "                    'hashtags':        item.entities['hashtags'],\n",
    "                    'status_count':    item.user.statuses_count,\n",
    "                    'location':        item.place,\n",
    "                    'source_device':   item.source\n",
    "                }\n",
    "                \n",
    "                try:\n",
    "                    mined['retweet_text'] = item.retweeted_status.full_text\n",
    "                except:\n",
    "                    mined['retweet_text'] = 'None'\n",
    "                try:\n",
    "                    mined['quote_text'] = item.quoted_status.full_text\n",
    "                    mined['quote_screen_name'] = status.quoted_status.user.screen_name\n",
    "                except:\n",
    "                    mined['quote_text'] = 'None'\n",
    "                    mined['quote_screen_name'] = 'None'\n",
    "                \n",
    "                last_tweet_id = item.id\n",
    "                data.append(mined)\n",
    "                \n",
    "            page += 1\n",
    "            \n",
    "        return data "
   ]
  },
  {
   "cell_type": "code",
   "execution_count": 110,
   "metadata": {},
   "outputs": [],
   "source": [
    "import tweepy\n",
    "import datetime\n",
    "import pandas as pd"
   ]
  },
  {
   "cell_type": "code",
   "execution_count": 111,
   "metadata": {},
   "outputs": [],
   "source": [
    "miner=TweetMiner(result_limit = 200 )"
   ]
  },
  {
   "cell_type": "code",
   "execution_count": 123,
   "metadata": {},
   "outputs": [],
   "source": [
    "mined_tweets = miner.mine_user_tweets(user='dril', max_pages=17)\n",
    "\n",
    "mined_tweets_df= pd.DataFrame(mined_tweets)"
   ]
  },
  {
   "cell_type": "code",
   "execution_count": 124,
   "metadata": {},
   "outputs": [],
   "source": [
    "import time\n",
    "\n",
    "handle_list= ['list of handles you want the timelines of']\n",
    "\n",
    "twitter_dict={}\n",
    "counter=0\n",
    "\n",
    "for name in handle_list:\n",
    "    try:\n",
    "      twitter_dict[name]=[]\n",
    "      twitter_dict[name].append(miner.mine_user_tweets(user=name, max_pages=17))\n",
    "      counter = counter +1\n",
    "      if counter%40==0:\n",
    "        time.sleep(900) #15 minute sleep time\n",
    "    #if name invalid print name and remove key\n",
    "    except:\n",
    "      print(name, 'is invalid or locked')\n",
    "      twitter_dict.pop(name)\n",
    "    \n",
    "all_tweets=pd.concat([pd.DataFrame(twitter_dict[i][0]) for i in twitter_dict])"
   ]
  },
  {
   "cell_type": "code",
   "execution_count": 116,
   "metadata": {},
   "outputs": [
    {
     "data": {
      "text/html": [
       "<div>\n",
       "<style scoped>\n",
       "    .dataframe tbody tr th:only-of-type {\n",
       "        vertical-align: middle;\n",
       "    }\n",
       "\n",
       "    .dataframe tbody tr th {\n",
       "        vertical-align: top;\n",
       "    }\n",
       "\n",
       "    .dataframe thead th {\n",
       "        text-align: right;\n",
       "    }\n",
       "</style>\n",
       "<table border=\"1\" class=\"dataframe\">\n",
       "  <thead>\n",
       "    <tr style=\"text-align: right;\">\n",
       "      <th></th>\n",
       "      <th>tweet_id</th>\n",
       "      <th>retweet_count</th>\n",
       "      <th>favourite_count</th>\n",
       "      <th>status_count</th>\n",
       "    </tr>\n",
       "  </thead>\n",
       "  <tbody>\n",
       "    <tr>\n",
       "      <th>count</th>\n",
       "      <td>3.211000e+03</td>\n",
       "      <td>3211.000000</td>\n",
       "      <td>3211.000000</td>\n",
       "      <td>3211.0</td>\n",
       "    </tr>\n",
       "    <tr>\n",
       "      <th>mean</th>\n",
       "      <td>1.052207e+18</td>\n",
       "      <td>1529.076300</td>\n",
       "      <td>10062.895360</td>\n",
       "      <td>10063.0</td>\n",
       "    </tr>\n",
       "    <tr>\n",
       "      <th>std</th>\n",
       "      <td>1.444258e+17</td>\n",
       "      <td>2043.188065</td>\n",
       "      <td>11530.785294</td>\n",
       "      <td>0.0</td>\n",
       "    </tr>\n",
       "    <tr>\n",
       "      <th>min</th>\n",
       "      <td>7.919466e+17</td>\n",
       "      <td>0.000000</td>\n",
       "      <td>0.000000</td>\n",
       "      <td>10063.0</td>\n",
       "    </tr>\n",
       "    <tr>\n",
       "      <th>25%</th>\n",
       "      <td>9.263528e+17</td>\n",
       "      <td>275.000000</td>\n",
       "      <td>1025.500000</td>\n",
       "      <td>10063.0</td>\n",
       "    </tr>\n",
       "    <tr>\n",
       "      <th>50%</th>\n",
       "      <td>1.052657e+18</td>\n",
       "      <td>914.000000</td>\n",
       "      <td>7186.000000</td>\n",
       "      <td>10063.0</td>\n",
       "    </tr>\n",
       "    <tr>\n",
       "      <th>75%</th>\n",
       "      <td>1.173041e+18</td>\n",
       "      <td>2007.500000</td>\n",
       "      <td>14131.000000</td>\n",
       "      <td>10063.0</td>\n",
       "    </tr>\n",
       "    <tr>\n",
       "      <th>max</th>\n",
       "      <td>1.303937e+18</td>\n",
       "      <td>28636.000000</td>\n",
       "      <td>141237.000000</td>\n",
       "      <td>10063.0</td>\n",
       "    </tr>\n",
       "  </tbody>\n",
       "</table>\n",
       "</div>"
      ],
      "text/plain": [
       "           tweet_id  retweet_count  favourite_count  status_count\n",
       "count  3.211000e+03    3211.000000      3211.000000        3211.0\n",
       "mean   1.052207e+18    1529.076300     10062.895360       10063.0\n",
       "std    1.444258e+17    2043.188065     11530.785294           0.0\n",
       "min    7.919466e+17       0.000000         0.000000       10063.0\n",
       "25%    9.263528e+17     275.000000      1025.500000       10063.0\n",
       "50%    1.052657e+18     914.000000      7186.000000       10063.0\n",
       "75%    1.173041e+18    2007.500000     14131.000000       10063.0\n",
       "max    1.303937e+18   28636.000000    141237.000000       10063.0"
      ]
     },
     "execution_count": 116,
     "metadata": {},
     "output_type": "execute_result"
    }
   ],
   "source": [
    "mined_tweets_df.describe()"
   ]
  },
  {
   "cell_type": "code",
   "execution_count": 119,
   "metadata": {},
   "outputs": [],
   "source": [
    "import numpy as np\n",
    "import pandas as pd\n",
    "import matplotlib.pyplot as plt\n",
    "from matplotlib import rcParams\n",
    "from matplotlib.cm import rainbow\n",
    "%matplotlib inline\n",
    "import warnings\n",
    "warnings.filterwarnings('ignore')"
   ]
  },
  {
   "cell_type": "code",
   "execution_count": 120,
   "metadata": {},
   "outputs": [],
   "source": [
    "from sklearn.neighbors import KNeighborsClassifier\n",
    "from sklearn.tree import DecisionTreeClassifier\n",
    "from sklearn.ensemble import RandomForestClassifier"
   ]
  },
  {
   "cell_type": "markdown",
   "metadata": {},
   "source": [
    "# Feature Selection"
   ]
  },
  {
   "cell_type": "code",
   "execution_count": 127,
   "metadata": {},
   "outputs": [
    {
     "data": {
      "image/png": "[encoded data removed]",
      "text/plain": [
       "<Figure size 1440x1440 with 2 Axes>"
      ]
     },
     "metadata": {
      "needs_background": "light"
     },
     "output_type": "display_data"
    }
   ],
   "source": [
    "import seaborn as sns\n",
    "mined_tweets = miner.mine_user_tweets(user='dril', max_pages=17)\n",
    "\n",
    "df= pd.DataFrame(mined_tweets)\n",
    "#get correlations of each features in dataset\n",
    "corrmat = df.corr()\n",
    "top_corr_features = corrmat.index\n",
    "plt.figure(figsize=(20,20))\n",
    "#plot heat map\n",
    "g=sns.heatmap(df[top_corr_features].corr(),annot=True,cmap=\"RdYlGn\")"
   ]
  },
  {
   "cell_type": "code",
   "execution_count": 128,
   "metadata": {},
   "outputs": [
    {
     "data": {
      "text/html": [
       "<div>\n",
       "<style scoped>\n",
       "    .dataframe tbody tr th:only-of-type {\n",
       "        vertical-align: middle;\n",
       "    }\n",
       "\n",
       "    .dataframe tbody tr th {\n",
       "        vertical-align: top;\n",
       "    }\n",
       "\n",
       "    .dataframe thead th {\n",
       "        text-align: right;\n",
       "    }\n",
       "</style>\n",
       "<table border=\"1\" class=\"dataframe\">\n",
       "  <thead>\n",
       "    <tr style=\"text-align: right;\">\n",
       "      <th></th>\n",
       "      <th>tweet_id</th>\n",
       "      <th>name</th>\n",
       "      <th>screen_name</th>\n",
       "      <th>retweet_count</th>\n",
       "      <th>text</th>\n",
       "      <th>mined_at</th>\n",
       "      <th>created_at</th>\n",
       "      <th>favourite_count</th>\n",
       "      <th>hashtags</th>\n",
       "      <th>status_count</th>\n",
       "      <th>location</th>\n",
       "      <th>source_device</th>\n",
       "      <th>retweet_text</th>\n",
       "      <th>quote_text</th>\n",
       "      <th>quote_screen_name</th>\n",
       "    </tr>\n",
       "  </thead>\n",
       "  <tbody>\n",
       "    <tr>\n",
       "      <th>0</th>\n",
       "      <td>1303937400356220929</td>\n",
       "      <td>wint</td>\n",
       "      <td>dril</td>\n",
       "      <td>1289</td>\n",
       "      <td>why turn myself in to the police.. when I can ...</td>\n",
       "      <td>2020-09-11 02:21:32.741027</td>\n",
       "      <td>2020-09-10 06:04:36</td>\n",
       "      <td>18591</td>\n",
       "      <td>[]</td>\n",
       "      <td>10063</td>\n",
       "      <td>None</td>\n",
       "      <td>Twitter Web App</td>\n",
       "      <td>None</td>\n",
       "      <td>None</td>\n",
       "      <td>None</td>\n",
       "    </tr>\n",
       "    <tr>\n",
       "      <th>1</th>\n",
       "      <td>1303839786092826624</td>\n",
       "      <td>wint</td>\n",
       "      <td>dril</td>\n",
       "      <td>251</td>\n",
       "      <td>RT @fucker12345678: is having a great day with...</td>\n",
       "      <td>2020-09-11 02:21:32.741027</td>\n",
       "      <td>2020-09-09 23:36:43</td>\n",
       "      <td>0</td>\n",
       "      <td>[]</td>\n",
       "      <td>10063</td>\n",
       "      <td>None</td>\n",
       "      <td>Twitter Web App</td>\n",
       "      <td>is having a great day with with god by my side</td>\n",
       "      <td>None</td>\n",
       "      <td>None</td>\n",
       "    </tr>\n",
       "    <tr>\n",
       "      <th>2</th>\n",
       "      <td>1303619696051118085</td>\n",
       "      <td>wint</td>\n",
       "      <td>dril</td>\n",
       "      <td>28</td>\n",
       "      <td>RT @pooty2: @Boscovs \\nYour new rules are unac...</td>\n",
       "      <td>2020-09-11 02:21:32.741027</td>\n",
       "      <td>2020-09-09 09:02:10</td>\n",
       "      <td>0</td>\n",
       "      <td>[]</td>\n",
       "      <td>10063</td>\n",
       "      <td>None</td>\n",
       "      <td>Twitter Web App</td>\n",
       "      <td>@Boscovs \\nYour new rules are unacceptable. Ma...</td>\n",
       "      <td>None</td>\n",
       "      <td>None</td>\n",
       "    </tr>\n",
       "    <tr>\n",
       "      <th>3</th>\n",
       "      <td>1303616711141109764</td>\n",
       "      <td>wint</td>\n",
       "      <td>dril</td>\n",
       "      <td>703</td>\n",
       "      <td>The video games &amp;amp; childrens tv show indust...</td>\n",
       "      <td>2020-09-11 02:21:32.741027</td>\n",
       "      <td>2020-09-09 08:50:18</td>\n",
       "      <td>7496</td>\n",
       "      <td>[]</td>\n",
       "      <td>10063</td>\n",
       "      <td>None</td>\n",
       "      <td>Twitter Web App</td>\n",
       "      <td>None</td>\n",
       "      <td>None</td>\n",
       "      <td>None</td>\n",
       "    </tr>\n",
       "    <tr>\n",
       "      <th>4</th>\n",
       "      <td>1303594061345873922</td>\n",
       "      <td>wint</td>\n",
       "      <td>dril</td>\n",
       "      <td>466</td>\n",
       "      <td>IM GOING TO TURN OFF MY AD BLOCKER FOREVER -- ...</td>\n",
       "      <td>2020-09-11 02:21:32.741027</td>\n",
       "      <td>2020-09-09 07:20:18</td>\n",
       "      <td>8513</td>\n",
       "      <td>[]</td>\n",
       "      <td>10063</td>\n",
       "      <td>None</td>\n",
       "      <td>Twitter Web App</td>\n",
       "      <td>None</td>\n",
       "      <td>None</td>\n",
       "      <td>None</td>\n",
       "    </tr>\n",
       "  </tbody>\n",
       "</table>\n",
       "</div>"
      ],
      "text/plain": [
       "              tweet_id  name screen_name  retweet_count  \\\n",
       "0  1303937400356220929  wint        dril           1289   \n",
       "1  1303839786092826624  wint        dril            251   \n",
       "2  1303619696051118085  wint        dril             28   \n",
       "3  1303616711141109764  wint        dril            703   \n",
       "4  1303594061345873922  wint        dril            466   \n",
       "\n",
       "                                                text  \\\n",
       "0  why turn myself in to the police.. when I can ...   \n",
       "1  RT @fucker12345678: is having a great day with...   \n",
       "2  RT @pooty2: @Boscovs \\nYour new rules are unac...   \n",
       "3  The video games &amp; childrens tv show indust...   \n",
       "4  IM GOING TO TURN OFF MY AD BLOCKER FOREVER -- ...   \n",
       "\n",
       "                    mined_at          created_at  favourite_count hashtags  \\\n",
       "0 2020-09-11 02:21:32.741027 2020-09-10 06:04:36            18591       []   \n",
       "1 2020-09-11 02:21:32.741027 2020-09-09 23:36:43                0       []   \n",
       "2 2020-09-11 02:21:32.741027 2020-09-09 09:02:10                0       []   \n",
       "3 2020-09-11 02:21:32.741027 2020-09-09 08:50:18             7496       []   \n",
       "4 2020-09-11 02:21:32.741027 2020-09-09 07:20:18             8513       []   \n",
       "\n",
       "   status_count location    source_device  \\\n",
       "0         10063     None  Twitter Web App   \n",
       "1         10063     None  Twitter Web App   \n",
       "2         10063     None  Twitter Web App   \n",
       "3         10063     None  Twitter Web App   \n",
       "4         10063     None  Twitter Web App   \n",
       "\n",
       "                                        retweet_text quote_text  \\\n",
       "0                                               None       None   \n",
       "1     is having a great day with with god by my side       None   \n",
       "2  @Boscovs \\nYour new rules are unacceptable. Ma...       None   \n",
       "3                                               None       None   \n",
       "4                                               None       None   \n",
       "\n",
       "  quote_screen_name  \n",
       "0              None  \n",
       "1              None  \n",
       "2              None  \n",
       "3              None  \n",
       "4              None  "
      ]
     },
     "execution_count": 128,
     "metadata": {},
     "output_type": "execute_result"
    }
   ],
   "source": [
    "df.head(5)"
   ]
  },
  {
   "cell_type": "code",
   "execution_count": 129,
   "metadata": {},
   "outputs": [
    {
     "name": "stdout",
     "output_type": "stream",
     "text": [
      "<class 'pandas.core.frame.DataFrame'>\n",
      "RangeIndex: 3211 entries, 0 to 3210\n",
      "Data columns (total 15 columns):\n",
      " #   Column             Non-Null Count  Dtype         \n",
      "---  ------             --------------  -----         \n",
      " 0   tweet_id           3211 non-null   int64         \n",
      " 1   name               3211 non-null   object        \n",
      " 2   screen_name        3211 non-null   object        \n",
      " 3   retweet_count      3211 non-null   int64         \n",
      " 4   text               3211 non-null   object        \n",
      " 5   mined_at           3211 non-null   datetime64[ns]\n",
      " 6   created_at         3211 non-null   datetime64[ns]\n",
      " 7   favourite_count    3211 non-null   int64         \n",
      " 8   hashtags           3211 non-null   object        \n",
      " 9   status_count       3211 non-null   int64         \n",
      " 10  location           0 non-null      object        \n",
      " 11  source_device      3211 non-null   object        \n",
      " 12  retweet_text       3211 non-null   object        \n",
      " 13  quote_text         3211 non-null   object        \n",
      " 14  quote_screen_name  3211 non-null   object        \n",
      "dtypes: datetime64[ns](2), int64(4), object(9)\n",
      "memory usage: 376.4+ KB\n"
     ]
    }
   ],
   "source": [
    "df.info()"
   ]
  },
  {
   "cell_type": "code",
   "execution_count": 143,
   "metadata": {},
   "outputs": [
    {
     "data": {
      "text/plain": [
       "array([[<matplotlib.axes._subplots.AxesSubplot object at 0x0000020DC5E26A48>,\n",
       "        <matplotlib.axes._subplots.AxesSubplot object at 0x0000020DC5EC4FC8>],\n",
       "       [<matplotlib.axes._subplots.AxesSubplot object at 0x0000020DC5EED088>,\n",
       "        <matplotlib.axes._subplots.AxesSubplot object at 0x0000020DC5F116C8>]],\n",
       "      dtype=object)"
      ]
     },
     "execution_count": 143,
     "metadata": {},
     "output_type": "execute_result"
    },
    {
     "data": {
      "image/png": "[encoded data removed]",
      "text/plain": [
       "<Figure size 432x288 with 4 Axes>"
      ]
     },
     "metadata": {
      "needs_background": "light"
     },
     "output_type": "display_data"
    }
   ],
   "source": [
    "df.hist()"
   ]
  },
  {
   "cell_type": "code",
   "execution_count": 153,
   "metadata": {},
   "outputs": [
    {
     "data": {
      "text/plain": [
       "<matplotlib.axes._subplots.AxesSubplot at 0x20dc6906788>"
      ]
     },
     "execution_count": 153,
     "metadata": {},
     "output_type": "execute_result"
    },
    {
     "data": {
      "image/png": "[encoded data removed]",
      "text/plain": [
       "<Figure size 432x288 with 1 Axes>"
      ]
     },
     "metadata": {},
     "output_type": "display_data"
    }
   ],
   "source": [
    "sns.set_style('whitegrid')\n",
    "sns.countplot(x='status_count',data=df,palette='RdBu_r')"
   ]
  },
  {
   "cell_type": "code",
   "execution_count": 154,
   "metadata": {},
   "outputs": [],
   "source": [
    "dataset = pd.get_dummies(df, columns = ['name', 'screen_name', 'source_device', 'retweet_text', 'quote_text', 'quote_screen_name'])"
   ]
  },
  {
   "cell_type": "code",
   "execution_count": 155,
   "metadata": {},
   "outputs": [],
   "source": [
    "from sklearn.model_selection import train_test_split\n",
    "from sklearn.preprocessing import StandardScaler\n",
    "standardScaler = StandardScaler()\n",
    "columns_to_scale = ['tweet_id', 'retweet_count', 'favourite_count' , 'status_count']\n",
    "dataset[columns_to_scale] = standardScaler.fit_transform(dataset[columns_to_scale])"
   ]
  },
  {
   "cell_type": "code",
   "execution_count": 156,
   "metadata": {},
   "outputs": [
    {
     "data": {
      "text/html": [
       "<div>\n",
       "<style scoped>\n",
       "    .dataframe tbody tr th:only-of-type {\n",
       "        vertical-align: middle;\n",
       "    }\n",
       "\n",
       "    .dataframe tbody tr th {\n",
       "        vertical-align: top;\n",
       "    }\n",
       "\n",
       "    .dataframe thead th {\n",
       "        text-align: right;\n",
       "    }\n",
       "</style>\n",
       "<table border=\"1\" class=\"dataframe\">\n",
       "  <thead>\n",
       "    <tr style=\"text-align: right;\">\n",
       "      <th></th>\n",
       "      <th>tweet_id</th>\n",
       "      <th>retweet_count</th>\n",
       "      <th>text</th>\n",
       "      <th>mined_at</th>\n",
       "      <th>created_at</th>\n",
       "      <th>favourite_count</th>\n",
       "      <th>hashtags</th>\n",
       "      <th>status_count</th>\n",
       "      <th>location</th>\n",
       "      <th>name_wint</th>\n",
       "      <th>...</th>\n",
       "      <th>retweet_text_¿que juego os gusta mas,need for speed rivals,pay day 2,saints rowIV?\\nes por saver vuestra opinion para subir uno de estos juegos a mi canal</th>\n",
       "      <th>retweet_text_ı'm Work</th>\n",
       "      <th>retweet_text_Ну вы поняли кто живет в этом городе. В этом городе живу я. http://t.co/4VN6F4qoeA</th>\n",
       "      <th>retweet_text_الأسطورة \\n\\nThe legendary! \\n#ColonelBucket https://t.co/ihrKBO51Fc</th>\n",
       "      <th>retweet_text_تشستر هو تشستر في كل مكان\\n\\nChester is Chester everywhere. #DollyPartonChallenge https://t.co/WbV7bcxRt9</th>\n",
       "      <th>retweet_text_கெரானா aka CORVID- 19 என்கிற வூஹான் வைரஸ் aka சீன வைரஸ் செயற்கையாக உருவாக்கப்பட்ட ஒரு Terrorist வைரஸ்,\\nஇது ஆரோக்யமான உடலில் எந்தவித ஸிம்டமும் காட்டாமல் மறைந்திருந்து பரவும் தன்மை உடையது என்கிறார்கள் ஐரோப்பிய ஆய்வாளர்கள்.\\nஇது கவலை அளிக்கும் செய்தி.\\n👇3 https://t.co/2Wd7FKnana</th>\n",
       "      <th>retweet_text_“Today I am honoring the heroes of 9/11 by _____.”</th>\n",
       "      <th>retweet_text_あぁMeat Boll　おいしそう</th>\n",
       "      <th>quote_text_None</th>\n",
       "      <th>quote_screen_name_None</th>\n",
       "    </tr>\n",
       "  </thead>\n",
       "  <tbody>\n",
       "    <tr>\n",
       "      <th>0</th>\n",
       "      <td>1.743242</td>\n",
       "      <td>-0.117520</td>\n",
       "      <td>why turn myself in to the police.. when I can ...</td>\n",
       "      <td>2020-09-11 02:21:32.741027</td>\n",
       "      <td>2020-09-10 06:04:36</td>\n",
       "      <td>0.739716</td>\n",
       "      <td>[]</td>\n",
       "      <td>0.0</td>\n",
       "      <td>None</td>\n",
       "      <td>1</td>\n",
       "      <td>...</td>\n",
       "      <td>0</td>\n",
       "      <td>0</td>\n",
       "      <td>0</td>\n",
       "      <td>0</td>\n",
       "      <td>0</td>\n",
       "      <td>0</td>\n",
       "      <td>0</td>\n",
       "      <td>0</td>\n",
       "      <td>1</td>\n",
       "      <td>1</td>\n",
       "    </tr>\n",
       "    <tr>\n",
       "      <th>1</th>\n",
       "      <td>1.742566</td>\n",
       "      <td>-0.625629</td>\n",
       "      <td>RT @fucker12345678: is having a great day with...</td>\n",
       "      <td>2020-09-11 02:21:32.741027</td>\n",
       "      <td>2020-09-09 23:36:43</td>\n",
       "      <td>-0.872828</td>\n",
       "      <td>[]</td>\n",
       "      <td>0.0</td>\n",
       "      <td>None</td>\n",
       "      <td>1</td>\n",
       "      <td>...</td>\n",
       "      <td>0</td>\n",
       "      <td>0</td>\n",
       "      <td>0</td>\n",
       "      <td>0</td>\n",
       "      <td>0</td>\n",
       "      <td>0</td>\n",
       "      <td>0</td>\n",
       "      <td>0</td>\n",
       "      <td>1</td>\n",
       "      <td>1</td>\n",
       "    </tr>\n",
       "    <tr>\n",
       "      <th>2</th>\n",
       "      <td>1.741042</td>\n",
       "      <td>-0.734789</td>\n",
       "      <td>RT @pooty2: @Boscovs \\nYour new rules are unac...</td>\n",
       "      <td>2020-09-11 02:21:32.741027</td>\n",
       "      <td>2020-09-09 09:02:10</td>\n",
       "      <td>-0.872828</td>\n",
       "      <td>[]</td>\n",
       "      <td>0.0</td>\n",
       "      <td>None</td>\n",
       "      <td>1</td>\n",
       "      <td>...</td>\n",
       "      <td>0</td>\n",
       "      <td>0</td>\n",
       "      <td>0</td>\n",
       "      <td>0</td>\n",
       "      <td>0</td>\n",
       "      <td>0</td>\n",
       "      <td>0</td>\n",
       "      <td>0</td>\n",
       "      <td>1</td>\n",
       "      <td>1</td>\n",
       "    </tr>\n",
       "    <tr>\n",
       "      <th>3</th>\n",
       "      <td>1.741021</td>\n",
       "      <td>-0.404371</td>\n",
       "      <td>The video games &amp;amp; childrens tv show indust...</td>\n",
       "      <td>2020-09-11 02:21:32.741027</td>\n",
       "      <td>2020-09-09 08:50:18</td>\n",
       "      <td>-0.222641</td>\n",
       "      <td>[]</td>\n",
       "      <td>0.0</td>\n",
       "      <td>None</td>\n",
       "      <td>1</td>\n",
       "      <td>...</td>\n",
       "      <td>0</td>\n",
       "      <td>0</td>\n",
       "      <td>0</td>\n",
       "      <td>0</td>\n",
       "      <td>0</td>\n",
       "      <td>0</td>\n",
       "      <td>0</td>\n",
       "      <td>0</td>\n",
       "      <td>1</td>\n",
       "      <td>1</td>\n",
       "    </tr>\n",
       "    <tr>\n",
       "      <th>4</th>\n",
       "      <td>1.740864</td>\n",
       "      <td>-0.520384</td>\n",
       "      <td>IM GOING TO TURN OFF MY AD BLOCKER FOREVER -- ...</td>\n",
       "      <td>2020-09-11 02:21:32.741027</td>\n",
       "      <td>2020-09-09 07:20:18</td>\n",
       "      <td>-0.134428</td>\n",
       "      <td>[]</td>\n",
       "      <td>0.0</td>\n",
       "      <td>None</td>\n",
       "      <td>1</td>\n",
       "      <td>...</td>\n",
       "      <td>0</td>\n",
       "      <td>0</td>\n",
       "      <td>0</td>\n",
       "      <td>0</td>\n",
       "      <td>0</td>\n",
       "      <td>0</td>\n",
       "      <td>0</td>\n",
       "      <td>0</td>\n",
       "      <td>1</td>\n",
       "      <td>1</td>\n",
       "    </tr>\n",
       "  </tbody>\n",
       "</table>\n",
       "<p>5 rows × 438 columns</p>\n",
       "</div>"
      ],
      "text/plain": [
       "   tweet_id  retweet_count                                               text  \\\n",
       "0  1.743242      -0.117520  why turn myself in to the police.. when I can ...   \n",
       "1  1.742566      -0.625629  RT @fucker12345678: is having a great day with...   \n",
       "2  1.741042      -0.734789  RT @pooty2: @Boscovs \\nYour new rules are unac...   \n",
       "3  1.741021      -0.404371  The video games &amp; childrens tv show indust...   \n",
       "4  1.740864      -0.520384  IM GOING TO TURN OFF MY AD BLOCKER FOREVER -- ...   \n",
       "\n",
       "                    mined_at          created_at  favourite_count hashtags  \\\n",
       "0 2020-09-11 02:21:32.741027 2020-09-10 06:04:36         0.739716       []   \n",
       "1 2020-09-11 02:21:32.741027 2020-09-09 23:36:43        -0.872828       []   \n",
       "2 2020-09-11 02:21:32.741027 2020-09-09 09:02:10        -0.872828       []   \n",
       "3 2020-09-11 02:21:32.741027 2020-09-09 08:50:18        -0.222641       []   \n",
       "4 2020-09-11 02:21:32.741027 2020-09-09 07:20:18        -0.134428       []   \n",
       "\n",
       "   status_count location  name_wint  ...  \\\n",
       "0           0.0     None          1  ...   \n",
       "1           0.0     None          1  ...   \n",
       "2           0.0     None          1  ...   \n",
       "3           0.0     None          1  ...   \n",
       "4           0.0     None          1  ...   \n",
       "\n",
       "   retweet_text_¿que juego os gusta mas,need for speed rivals,pay day 2,saints rowIV?\\nes por saver vuestra opinion para subir uno de estos juegos a mi canal  \\\n",
       "0                                                  0                                                                                                            \n",
       "1                                                  0                                                                                                            \n",
       "2                                                  0                                                                                                            \n",
       "3                                                  0                                                                                                            \n",
       "4                                                  0                                                                                                            \n",
       "\n",
       "   retweet_text_ı'm Work  \\\n",
       "0                      0   \n",
       "1                      0   \n",
       "2                      0   \n",
       "3                      0   \n",
       "4                      0   \n",
       "\n",
       "   retweet_text_Ну вы поняли кто живет в этом городе. В этом городе живу я. http://t.co/4VN6F4qoeA  \\\n",
       "0                                                  0                                                 \n",
       "1                                                  0                                                 \n",
       "2                                                  0                                                 \n",
       "3                                                  0                                                 \n",
       "4                                                  0                                                 \n",
       "\n",
       "   retweet_text_الأسطورة \\n\\nThe legendary! \\n#ColonelBucket https://t.co/ihrKBO51Fc  \\\n",
       "0                                                  0                                   \n",
       "1                                                  0                                   \n",
       "2                                                  0                                   \n",
       "3                                                  0                                   \n",
       "4                                                  0                                   \n",
       "\n",
       "   retweet_text_تشستر هو تشستر في كل مكان\\n\\nChester is Chester everywhere. #DollyPartonChallenge https://t.co/WbV7bcxRt9  \\\n",
       "0                                                  0                                                                        \n",
       "1                                                  0                                                                        \n",
       "2                                                  0                                                                        \n",
       "3                                                  0                                                                        \n",
       "4                                                  0                                                                        \n",
       "\n",
       "   retweet_text_கெரானா aka CORVID- 19 என்கிற வூஹான் வைரஸ் aka சீன வைரஸ் செயற்கையாக உருவாக்கப்பட்ட ஒரு Terrorist வைரஸ்,\\nஇது ஆரோக்யமான உடலில் எந்தவித ஸிம்டமும் காட்டாமல் மறைந்திருந்து பரவும் தன்மை உடையது என்கிறார்கள் ஐரோப்பிய ஆய்வாளர்கள்.\\nஇது கவலை அளிக்கும் செய்தி.\\n👇3 https://t.co/2Wd7FKnana  \\\n",
       "0                                                  0                                                                                                                                                                                                                                                    \n",
       "1                                                  0                                                                                                                                                                                                                                                    \n",
       "2                                                  0                                                                                                                                                                                                                                                    \n",
       "3                                                  0                                                                                                                                                                                                                                                    \n",
       "4                                                  0                                                                                                                                                                                                                                                    \n",
       "\n",
       "   retweet_text_“Today I am honoring the heroes of 9/11 by _____.”  \\\n",
       "0                                                  0                 \n",
       "1                                                  0                 \n",
       "2                                                  0                 \n",
       "3                                                  0                 \n",
       "4                                                  0                 \n",
       "\n",
       "   retweet_text_あぁMeat Boll　おいしそう  quote_text_None  quote_screen_name_None  \n",
       "0                               0                1                       1  \n",
       "1                               0                1                       1  \n",
       "2                               0                1                       1  \n",
       "3                               0                1                       1  \n",
       "4                               0                1                       1  \n",
       "\n",
       "[5 rows x 438 columns]"
      ]
     },
     "execution_count": 156,
     "metadata": {},
     "output_type": "execute_result"
    }
   ],
   "source": [
    "dataset.head()"
   ]
  },
  {
   "cell_type": "code",
   "execution_count": 165,
   "metadata": {},
   "outputs": [],
   "source": [
    "X = dataset.iloc[:, :-1].values\n",
    "y = dataset.iloc[:, 4].values"
   ]
  },
  {
   "cell_type": "code",
   "execution_count": 168,
   "metadata": {},
   "outputs": [
    {
     "name": "stdout",
     "output_type": "stream",
     "text": [
      "Collecting sklearn\n",
      "  Downloading sklearn-0.0.tar.gz (1.1 kB)\n",
      "Requirement already satisfied: scikit-learn in c:\\programdata\\anaconda3\\lib\\site-packages (from sklearn) (0.22.1)\n",
      "Requirement already satisfied: numpy>=1.11.0 in c:\\programdata\\anaconda3\\lib\\site-packages (from scikit-learn->sklearn) (1.18.1)\n",
      "Requirement already satisfied: scipy>=0.17.0 in c:\\programdata\\anaconda3\\lib\\site-packages (from scikit-learn->sklearn) (1.4.1)\n",
      "Requirement already satisfied: joblib>=0.11 in c:\\programdata\\anaconda3\\lib\\site-packages (from scikit-learn->sklearn) (0.14.1)\n",
      "Building wheels for collected packages: sklearn\n",
      "  Building wheel for sklearn (setup.py): started\n",
      "  Building wheel for sklearn (setup.py): finished with status 'done'\n",
      "  Created wheel for sklearn: filename=sklearn-0.0-py2.py3-none-any.whl size=1320 sha256=ae55bbd050b76dc34f1a0f7fefd0b267776a86f078079c2e4c22ff00d8ae1ec7\n",
      "  Stored in directory: c:\\users\\soumya\\appdata\\local\\pip\\cache\\wheels\\46\\ef\\c3\\157e41f5ee1372d1be90b09f74f82b10e391eaacca8f22d33e\n",
      "Successfully built sklearn\n",
      "Installing collected packages: sklearn\n",
      "Successfully installed sklearn-0.0\n"
     ]
    }
   ],
   "source": [
    "from sklearn.model_selection import train_test_split\n",
    "X_train, X_test, y_train, y_test = train_test_split(X, y, test_size = 0.40)\n",
    "!pip install sklearn"
   ]
  },
  {
   "cell_type": "code",
   "execution_count": 175,
   "metadata": {},
   "outputs": [],
   "source": [
    "from sklearn.model_selection import cross_val_score\n",
    "knn_scores = []\n",
    "for k in range(1,100):\n",
    "    knn_classifier = KNeighborsClassifier(n_neighbors = k)\n",
    "    score=cross_val_score(knn_classifier,X,y,cv=2)\n",
    "    knn_scores.append(score.mean())"
   ]
  },
  {
   "cell_type": "code",
   "execution_count": 176,
   "metadata": {},
   "outputs": [
    {
     "data": {
      "text/plain": [
       "Text(0.5, 1.0, 'K Neighbors Classifier scores for different K values')"
      ]
     },
     "execution_count": 176,
     "metadata": {},
     "output_type": "execute_result"
    },
    {
     "name": "stderr",
     "output_type": "stream",
     "text": [
      "posx and posy should be finite values\n",
      "posx and posy should be finite values\n",
      "posx and posy should be finite values\n",
      "posx and posy should be finite values\n",
      "posx and posy should be finite values\n",
      "posx and posy should be finite values\n",
      "posx and posy should be finite values\n",
      "posx and posy should be finite values\n",
      "posx and posy should be finite values\n",
      "posx and posy should be finite values\n",
      "posx and posy should be finite values\n",
      "posx and posy should be finite values\n",
      "posx and posy should be finite values\n",
      "posx and posy should be finite values\n",
      "posx and posy should be finite values\n",
      "posx and posy should be finite values\n",
      "posx and posy should be finite values\n",
      "posx and posy should be finite values\n",
      "posx and posy should be finite values\n",
      "posx and posy should be finite values\n",
      "posx and posy should be finite values\n",
      "posx and posy should be finite values\n",
      "posx and posy should be finite values\n",
      "posx and posy should be finite values\n",
      "posx and posy should be finite values\n",
      "posx and posy should be finite values\n",
      "posx and posy should be finite values\n",
      "posx and posy should be finite values\n",
      "posx and posy should be finite values\n",
      "posx and posy should be finite values\n",
      "posx and posy should be finite values\n",
      "posx and posy should be finite values\n",
      "posx and posy should be finite values\n",
      "posx and posy should be finite values\n",
      "posx and posy should be finite values\n",
      "posx and posy should be finite values\n",
      "posx and posy should be finite values\n",
      "posx and posy should be finite values\n",
      "posx and posy should be finite values\n",
      "posx and posy should be finite values\n",
      "posx and posy should be finite values\n",
      "posx and posy should be finite values\n",
      "posx and posy should be finite values\n",
      "posx and posy should be finite values\n",
      "posx and posy should be finite values\n",
      "posx and posy should be finite values\n",
      "posx and posy should be finite values\n",
      "posx and posy should be finite values\n",
      "posx and posy should be finite values\n",
      "posx and posy should be finite values\n",
      "posx and posy should be finite values\n",
      "posx and posy should be finite values\n",
      "posx and posy should be finite values\n",
      "posx and posy should be finite values\n",
      "posx and posy should be finite values\n",
      "posx and posy should be finite values\n",
      "posx and posy should be finite values\n",
      "posx and posy should be finite values\n",
      "posx and posy should be finite values\n",
      "posx and posy should be finite values\n",
      "posx and posy should be finite values\n",
      "posx and posy should be finite values\n",
      "posx and posy should be finite values\n",
      "posx and posy should be finite values\n",
      "posx and posy should be finite values\n",
      "posx and posy should be finite values\n",
      "posx and posy should be finite values\n",
      "posx and posy should be finite values\n",
      "posx and posy should be finite values\n",
      "posx and posy should be finite values\n",
      "posx and posy should be finite values\n",
      "posx and posy should be finite values\n",
      "posx and posy should be finite values\n",
      "posx and posy should be finite values\n",
      "posx and posy should be finite values\n",
      "posx and posy should be finite values\n",
      "posx and posy should be finite values\n",
      "posx and posy should be finite values\n",
      "posx and posy should be finite values\n",
      "posx and posy should be finite values\n",
      "posx and posy should be finite values\n",
      "posx and posy should be finite values\n",
      "posx and posy should be finite values\n",
      "posx and posy should be finite values\n",
      "posx and posy should be finite values\n",
      "posx and posy should be finite values\n",
      "posx and posy should be finite values\n",
      "posx and posy should be finite values\n",
      "posx and posy should be finite values\n",
      "posx and posy should be finite values\n",
      "posx and posy should be finite values\n",
      "posx and posy should be finite values\n",
      "posx and posy should be finite values\n",
      "posx and posy should be finite values\n",
      "posx and posy should be finite values\n",
      "posx and posy should be finite values\n",
      "posx and posy should be finite values\n",
      "posx and posy should be finite values\n",
      "posx and posy should be finite values\n",
      "posx and posy should be finite values\n",
      "posx and posy should be finite values\n",
      "posx and posy should be finite values\n",
      "posx and posy should be finite values\n",
      "posx and posy should be finite values\n",
      "posx and posy should be finite values\n",
      "posx and posy should be finite values\n",
      "posx and posy should be finite values\n",
      "posx and posy should be finite values\n",
      "posx and posy should be finite values\n",
      "posx and posy should be finite values\n",
      "posx and posy should be finite values\n",
      "posx and posy should be finite values\n",
      "posx and posy should be finite values\n",
      "posx and posy should be finite values\n",
      "posx and posy should be finite values\n",
      "posx and posy should be finite values\n",
      "posx and posy should be finite values\n",
      "posx and posy should be finite values\n",
      "posx and posy should be finite values\n",
      "posx and posy should be finite values\n",
      "posx and posy should be finite values\n",
      "posx and posy should be finite values\n",
      "posx and posy should be finite values\n",
      "posx and posy should be finite values\n",
      "posx and posy should be finite values\n",
      "posx and posy should be finite values\n",
      "posx and posy should be finite values\n",
      "posx and posy should be finite values\n",
      "posx and posy should be finite values\n",
      "posx and posy should be finite values\n",
      "posx and posy should be finite values\n",
      "posx and posy should be finite values\n",
      "posx and posy should be finite values\n",
      "posx and posy should be finite values\n",
      "posx and posy should be finite values\n",
      "posx and posy should be finite values\n",
      "posx and posy should be finite values\n",
      "posx and posy should be finite values\n",
      "posx and posy should be finite values\n",
      "posx and posy should be finite values\n",
      "posx and posy should be finite values\n",
      "posx and posy should be finite values\n",
      "posx and posy should be finite values\n",
      "posx and posy should be finite values\n",
      "posx and posy should be finite values\n",
      "posx and posy should be finite values\n",
      "posx and posy should be finite values\n",
      "posx and posy should be finite values\n",
      "posx and posy should be finite values\n",
      "posx and posy should be finite values\n",
      "posx and posy should be finite values\n",
      "posx and posy should be finite values\n",
      "posx and posy should be finite values\n",
      "posx and posy should be finite values\n",
      "posx and posy should be finite values\n",
      "posx and posy should be finite values\n",
      "posx and posy should be finite values\n",
      "posx and posy should be finite values\n",
      "posx and posy should be finite values\n",
      "posx and posy should be finite values\n",
      "posx and posy should be finite values\n",
      "posx and posy should be finite values\n",
      "posx and posy should be finite values\n",
      "posx and posy should be finite values\n",
      "posx and posy should be finite values\n",
      "posx and posy should be finite values\n",
      "posx and posy should be finite values\n",
      "posx and posy should be finite values\n",
      "posx and posy should be finite values\n",
      "posx and posy should be finite values\n",
      "posx and posy should be finite values\n",
      "posx and posy should be finite values\n",
      "posx and posy should be finite values\n",
      "posx and posy should be finite values\n",
      "posx and posy should be finite values\n",
      "posx and posy should be finite values\n",
      "posx and posy should be finite values\n",
      "posx and posy should be finite values\n",
      "posx and posy should be finite values\n",
      "posx and posy should be finite values\n",
      "posx and posy should be finite values\n",
      "posx and posy should be finite values\n",
      "posx and posy should be finite values\n",
      "posx and posy should be finite values\n",
      "posx and posy should be finite values\n",
      "posx and posy should be finite values\n",
      "posx and posy should be finite values\n",
      "posx and posy should be finite values\n",
      "posx and posy should be finite values\n",
      "posx and posy should be finite values\n",
      "posx and posy should be finite values\n",
      "posx and posy should be finite values\n",
      "posx and posy should be finite values\n",
      "posx and posy should be finite values\n",
      "posx and posy should be finite values\n",
      "posx and posy should be finite values\n",
      "posx and posy should be finite values\n",
      "posx and posy should be finite values\n"
     ]
    },
    {
     "data": {
      "image/png": "[encoded data removed]",
      "text/plain": [
       "<Figure size 432x288 with 1 Axes>"
      ]
     },
     "metadata": {},
     "output_type": "display_data"
    }
   ],
   "source": [
    "plt.plot([k for k in range(1, 100)], knn_scores, color = 'red')\n",
    "for i in range(1,100):\n",
    "    plt.text(i, knn_scores[i-1], (i, knn_scores[i-1]))\n",
    "plt.xticks([i for i in range(1, 10)])\n",
    "plt.xlabel('Number of Neighbors (K)')\n",
    "plt.ylabel('Scores')\n",
    "plt.title('K Neighbors Classifier scores for different K values')"
   ]
  },
  {
   "cell_type": "code",
   "execution_count": 13,
   "metadata": {},
   "outputs": [],
   "source": [
    "import os\n",
    "import pandas as pd\n",
    "import matplotlib.pyplot as plt\n",
    "import seaborn as sns\n",
    "import itertools\n",
    "import collections\n",
    "\n",
    "import tweepy as tw\n",
    "import nltk\n",
    "from nltk.corpus import stopwords\n",
    "import re\n",
    "import networkx\n",
    "\n",
    "import warnings\n",
    "warnings.filterwarnings(\"ignore\")\n",
    "\n",
    "sns.set(font_scale=1.5)\n",
    "sns.set_style(\"whitegrid\")"
   ]
  },
  {
   "cell_type": "code",
   "execution_count": 14,
   "metadata": {},
   "outputs": [],
   "source": [
    "consumer_key = 'HOXs6dN9UApOrjdP3sDG8q7Bx'\n",
    "consumer_secret = 'TzR3sATRX2FwL61Qhro1d4KenvLhKuCvYNS5OKzmxeK7HRkRg2'\n",
    "access_token = '1301245220416188416-DvgyzLiFkYDfdozX0Afl2WR8eItktR'\n",
    "access_token_secret = 'ZjeOuGzFw440IkvbPlKUKshONinTU136UVU9twyG5cUhJ'"
   ]
  },
  {
   "cell_type": "code",
   "execution_count": 15,
   "metadata": {},
   "outputs": [],
   "source": [
    "auth = tw.OAuthHandler(consumer_key, consumer_secret)\n",
    "auth.set_access_token(access_token, access_token_secret)\n",
    "api = tw.API(auth, wait_on_rate_limit=True)"
   ]
  },
  {
   "cell_type": "code",
   "execution_count": 16,
   "metadata": {},
   "outputs": [
    {
     "data": {
      "text/plain": [
       "[\"#coronavirus •Amit Shah admitted in AIIMS for 'full medical examination' •\\n\\n#coronavirus #Covid_19 #HomeMinister… https://t.co/xTgEQ7GJDY\",\n",
       " 'LOCKDOWN: Learn the sign s of Coronavirus COVID-19 illness and what to do:  https://t.co/RnO6KVNLtk+… https://t.co/aF8668Yyb7',\n",
       " \"Going 'out out'. Will this ever stop being weird?!\\n.\\n.\\n#facemask #covid_19 #coronavirus #covidcoping #2020 @ Rye, E… https://t.co/TntXAUxzmk\",\n",
       " '@MichiganDOT Cash payments are not accepted from eastbound @MDOT_BWB #BlueWaterBridge customers during the #COVID-1… https://t.co/1BPcLCBw9C',\n",
       " 'New COVID-19 Data at 2020-09-13 05:30:00 am EDT #Coronavirus #COVID19 https://t.co/euX7WKTtiT']"
      ]
     },
     "execution_count": 16,
     "metadata": {},
     "output_type": "execute_result"
    }
   ],
   "source": [
    "search_term = \"#coronavirus+covid -filter:retweets\"\n",
    "\n",
    "tweets = tw.Cursor(api.search,\n",
    "                   q=search_term,\n",
    "                   lang=\"en\",\n",
    "                   since='2020-06-01').items(1000)\n",
    "\n",
    "all_tweets = [tweet.text for tweet in tweets]\n",
    "\n",
    "all_tweets[:5]"
   ]
  },
  {
   "cell_type": "code",
   "execution_count": 17,
   "metadata": {},
   "outputs": [],
   "source": [
    "def remove_url(txt):\n",
    "    \"\"\"Replace URLs found in a text string with nothing \n",
    "    (i.e. it will remove the URL from the string).\n",
    "\n",
    "    Parameters\n",
    "    ----------\n",
    "    txt : string\n",
    "        A text string that you want to parse and remove urls.\n",
    "\n",
    "    Returns\n",
    "    -------\n",
    "    The same txt string with url's removed.\n",
    "    \"\"\"\n",
    "\n",
    "    return \" \".join(re.sub(\"([^0-9A-Za-z \\t])|(\\w+:\\/\\/\\S+)\", \"\", txt).split())"
   ]
  },
  {
   "cell_type": "code",
   "execution_count": 18,
   "metadata": {},
   "outputs": [
    {
     "data": {
      "text/plain": [
       "['coronavirus Amit Shah admitted in AIIMS for full medical examination coronavirus Covid19 HomeMinister',\n",
       " 'LOCKDOWN Learn the sign s of Coronavirus COVID19 illness and what to do',\n",
       " 'Going out out Will this ever stop being weirdfacemask covid19 coronavirus covidcoping 2020 Rye E',\n",
       " 'MichiganDOT Cash payments are not accepted from eastbound MDOTBWB BlueWaterBridge customers during the COVID1',\n",
       " 'New COVID19 Data at 20200913 053000 am EDT Coronavirus COVID19']"
      ]
     },
     "execution_count": 18,
     "metadata": {},
     "output_type": "execute_result"
    }
   ],
   "source": [
    "all_tweets_no_urls = [remove_url(tweet) for tweet in all_tweets]\n",
    "all_tweets_no_urls[:5]"
   ]
  },
  {
   "cell_type": "code",
   "execution_count": 19,
   "metadata": {},
   "outputs": [
    {
     "data": {
      "text/plain": [
       "{'COVID 19', 'Corona', 'Coronavirus', 'corona', 'coronavirus', 'covid 19'}"
      ]
     },
     "execution_count": 19,
     "metadata": {},
     "output_type": "execute_result"
    }
   ],
   "source": [
    "# Note how capitalization impacts unique returned values\n",
    "ex_list = [\"coronavirus\", \"covid 19\", \"Coronavirus\", \"COVID 19\", \"corona\", \"Corona\"]\n",
    "\n",
    "# Get unique elements in the list\n",
    "set(ex_list)"
   ]
  },
  {
   "cell_type": "code",
   "execution_count": 20,
   "metadata": {},
   "outputs": [
    {
     "data": {
      "text/plain": [
       "['coronavirus', 'covid 19', 'coronavirus', 'covid 19', 'corona', 'corona']"
      ]
     },
     "execution_count": 20,
     "metadata": {},
     "output_type": "execute_result"
    }
   ],
   "source": [
    "# Note how capitalization impacts unique returned values\n",
    "words_list = [\"coronavirus\", \"covid 19\", \"Coronavirus\", \"COVID 19\", \"corona\", \"Corona\"]\n",
    "\n",
    "# Make all elements in the list lowercase\n",
    "lower_case = [word.lower() for word in words_list]\n",
    "\n",
    "# Get all elements in the list\n",
    "lower_case"
   ]
  },
  {
   "cell_type": "code",
   "execution_count": 21,
   "metadata": {},
   "outputs": [
    {
     "data": {
      "text/plain": [
       "{'corona', 'coronavirus', 'covid 19'}"
      ]
     },
     "execution_count": 21,
     "metadata": {},
     "output_type": "execute_result"
    }
   ],
   "source": [
    "set(lower_case)"
   ]
  },
  {
   "cell_type": "code",
   "execution_count": 22,
   "metadata": {},
   "outputs": [
    {
     "data": {
      "text/plain": [
       "['coronavirus',\n",
       " 'Amit',\n",
       " 'Shah',\n",
       " 'admitted',\n",
       " 'in',\n",
       " 'AIIMS',\n",
       " 'for',\n",
       " 'full',\n",
       " 'medical',\n",
       " 'examination',\n",
       " 'coronavirus',\n",
       " 'Covid19',\n",
       " 'HomeMinister']"
      ]
     },
     "execution_count": 22,
     "metadata": {},
     "output_type": "execute_result"
    }
   ],
   "source": [
    "all_tweets_no_urls[0].split()"
   ]
  },
  {
   "cell_type": "code",
   "execution_count": 23,
   "metadata": {},
   "outputs": [
    {
     "data": {
      "text/plain": [
       "['coronavirus',\n",
       " 'amit',\n",
       " 'shah',\n",
       " 'admitted',\n",
       " 'in',\n",
       " 'aiims',\n",
       " 'for',\n",
       " 'full',\n",
       " 'medical',\n",
       " 'examination',\n",
       " 'coronavirus',\n",
       " 'covid19',\n",
       " 'homeminister']"
      ]
     },
     "execution_count": 23,
     "metadata": {},
     "output_type": "execute_result"
    }
   ],
   "source": [
    "all_tweets_no_urls[0].lower().split()"
   ]
  },
  {
   "cell_type": "code",
   "execution_count": 24,
   "metadata": {},
   "outputs": [
    {
     "data": {
      "text/plain": [
       "[['coronavirus',\n",
       "  'amit',\n",
       "  'shah',\n",
       "  'admitted',\n",
       "  'in',\n",
       "  'aiims',\n",
       "  'for',\n",
       "  'full',\n",
       "  'medical',\n",
       "  'examination',\n",
       "  'coronavirus',\n",
       "  'covid19',\n",
       "  'homeminister'],\n",
       " ['lockdown',\n",
       "  'learn',\n",
       "  'the',\n",
       "  'sign',\n",
       "  's',\n",
       "  'of',\n",
       "  'coronavirus',\n",
       "  'covid19',\n",
       "  'illness',\n",
       "  'and',\n",
       "  'what',\n",
       "  'to',\n",
       "  'do']]"
      ]
     },
     "execution_count": 24,
     "metadata": {},
     "output_type": "execute_result"
    }
   ],
   "source": [
    "# Create a list of lists containing lowercase words for each tweet\n",
    "words_in_tweet = [tweet.lower().split() for tweet in all_tweets_no_urls]\n",
    "words_in_tweet[:2]"
   ]
  },
  {
   "cell_type": "code",
   "execution_count": 25,
   "metadata": {},
   "outputs": [
    {
     "data": {
      "text/plain": [
       "[('covid19', 610),\n",
       " ('coronavirus', 493),\n",
       " ('the', 441),\n",
       " ('of', 280),\n",
       " ('to', 278),\n",
       " ('in', 245),\n",
       " ('covid', 190),\n",
       " ('cases', 178),\n",
       " ('a', 175),\n",
       " ('and', 169),\n",
       " ('for', 166),\n",
       " ('is', 140),\n",
       " ('new', 132),\n",
       " ('on', 100),\n",
       " ('with', 92)]"
      ]
     },
     "execution_count": 25,
     "metadata": {},
     "output_type": "execute_result"
    }
   ],
   "source": [
    "# List of all words across tweets\n",
    "all_words_no_urls = list(itertools.chain(*words_in_tweet))\n",
    "\n",
    "# Create counter\n",
    "counts_no_urls = collections.Counter(all_words_no_urls)\n",
    "\n",
    "counts_no_urls.most_common(15)"
   ]
  },
  {
   "cell_type": "code",
   "execution_count": 26,
   "metadata": {},
   "outputs": [
    {
     "data": {
      "text/html": [
       "<div>\n",
       "<style scoped>\n",
       "    .dataframe tbody tr th:only-of-type {\n",
       "        vertical-align: middle;\n",
       "    }\n",
       "\n",
       "    .dataframe tbody tr th {\n",
       "        vertical-align: top;\n",
       "    }\n",
       "\n",
       "    .dataframe thead th {\n",
       "        text-align: right;\n",
       "    }\n",
       "</style>\n",
       "<table border=\"1\" class=\"dataframe\">\n",
       "  <thead>\n",
       "    <tr style=\"text-align: right;\">\n",
       "      <th></th>\n",
       "      <th>words</th>\n",
       "      <th>count</th>\n",
       "    </tr>\n",
       "  </thead>\n",
       "  <tbody>\n",
       "    <tr>\n",
       "      <th>0</th>\n",
       "      <td>covid19</td>\n",
       "      <td>610</td>\n",
       "    </tr>\n",
       "    <tr>\n",
       "      <th>1</th>\n",
       "      <td>coronavirus</td>\n",
       "      <td>493</td>\n",
       "    </tr>\n",
       "    <tr>\n",
       "      <th>2</th>\n",
       "      <td>the</td>\n",
       "      <td>441</td>\n",
       "    </tr>\n",
       "    <tr>\n",
       "      <th>3</th>\n",
       "      <td>of</td>\n",
       "      <td>280</td>\n",
       "    </tr>\n",
       "    <tr>\n",
       "      <th>4</th>\n",
       "      <td>to</td>\n",
       "      <td>278</td>\n",
       "    </tr>\n",
       "  </tbody>\n",
       "</table>\n",
       "</div>"
      ],
      "text/plain": [
       "         words  count\n",
       "0      covid19    610\n",
       "1  coronavirus    493\n",
       "2          the    441\n",
       "3           of    280\n",
       "4           to    278"
      ]
     },
     "execution_count": 26,
     "metadata": {},
     "output_type": "execute_result"
    }
   ],
   "source": [
    "clean_tweets_no_urls = pd.DataFrame(counts_no_urls.most_common(15),\n",
    "                             columns=['words', 'count'])\n",
    "\n",
    "clean_tweets_no_urls.head()"
   ]
  },
  {
   "cell_type": "code",
   "execution_count": 27,
   "metadata": {},
   "outputs": [
    {
     "data": {
      "image/png": "[encoded data removed]",
      "text/plain": [
       "<Figure size 576x576 with 1 Axes>"
      ]
     },
     "metadata": {},
     "output_type": "display_data"
    }
   ],
   "source": [
    "fig, ax = plt.subplots(figsize=(8, 8))\n",
    "\n",
    "# Plot horizontal bar graph\n",
    "clean_tweets_no_urls.sort_values(by='count').plot.barh(x='words',\n",
    "                      y='count',\n",
    "                      ax=ax,\n",
    "                      color=\"purple\")\n",
    "\n",
    "ax.set_title(\"Common Words Found in Tweets (Including All Words)\")\n",
    "\n",
    "plt.show()"
   ]
  },
  {
   "cell_type": "code",
   "execution_count": 28,
   "metadata": {},
   "outputs": [
    {
     "name": "stderr",
     "output_type": "stream",
     "text": [
      "[nltk_data] Downloading package stopwords to\n",
      "[nltk_data]     C:\\Users\\Soumya\\AppData\\Roaming\\nltk_data...\n",
      "[nltk_data]   Package stopwords is already up-to-date!\n"
     ]
    },
    {
     "data": {
      "text/plain": [
       "True"
      ]
     },
     "execution_count": 28,
     "metadata": {},
     "output_type": "execute_result"
    }
   ],
   "source": [
    "nltk.download('stopwords')"
   ]
  },
  {
   "cell_type": "code",
   "execution_count": 29,
   "metadata": {},
   "outputs": [
    {
     "data": {
      "text/plain": [
       "[\"needn't\",\n",
       " 'ma',\n",
       " 'don',\n",
       " 'for',\n",
       " 'or',\n",
       " 'some',\n",
       " 'yourself',\n",
       " 'hadn',\n",
       " 'between',\n",
       " 'do']"
      ]
     },
     "execution_count": 29,
     "metadata": {},
     "output_type": "execute_result"
    }
   ],
   "source": [
    "stop_words = set(stopwords.words('english'))\n",
    "\n",
    "# View a few words from the set\n",
    "list(stop_words)[0:10]"
   ]
  },
  {
   "cell_type": "code",
   "execution_count": 30,
   "metadata": {},
   "outputs": [
    {
     "data": {
      "text/plain": [
       "['coronavirus',\n",
       " 'amit',\n",
       " 'shah',\n",
       " 'admitted',\n",
       " 'in',\n",
       " 'aiims',\n",
       " 'for',\n",
       " 'full',\n",
       " 'medical',\n",
       " 'examination',\n",
       " 'coronavirus',\n",
       " 'covid19',\n",
       " 'homeminister']"
      ]
     },
     "execution_count": 30,
     "metadata": {},
     "output_type": "execute_result"
    }
   ],
   "source": [
    "words_in_tweet[0]"
   ]
  },
  {
   "cell_type": "code",
   "execution_count": 31,
   "metadata": {},
   "outputs": [
    {
     "data": {
      "text/plain": [
       "['coronavirus',\n",
       " 'amit',\n",
       " 'shah',\n",
       " 'admitted',\n",
       " 'aiims',\n",
       " 'full',\n",
       " 'medical',\n",
       " 'examination',\n",
       " 'coronavirus',\n",
       " 'covid19',\n",
       " 'homeminister']"
      ]
     },
     "execution_count": 31,
     "metadata": {},
     "output_type": "execute_result"
    }
   ],
   "source": [
    "for all_words in words_in_tweet:\n",
    "    for a_word in all_words:\n",
    "        # remove stop words\n",
    "        # Remove stop words from each tweet list of words\n",
    "     tweets_nsw = [[word for word in tweet_words if not word in stop_words]\n",
    "              for tweet_words in words_in_tweet]\n",
    "\n",
    "tweets_nsw[0]"
   ]
  },
  {
   "cell_type": "code",
   "execution_count": 32,
   "metadata": {},
   "outputs": [
    {
     "data": {
      "text/plain": [
       "[('covid19', 610),\n",
       " ('coronavirus', 493),\n",
       " ('covid', 190),\n",
       " ('cases', 178),\n",
       " ('new', 132),\n",
       " ('trump', 75),\n",
       " ('deaths', 70),\n",
       " ('pandemic', 60),\n",
       " ('india', 56),\n",
       " ('vaccine', 53),\n",
       " ('uk', 46),\n",
       " ('health', 46),\n",
       " ('people', 45),\n",
       " ('amp', 38),\n",
       " ('september', 36)]"
      ]
     },
     "execution_count": 32,
     "metadata": {},
     "output_type": "execute_result"
    }
   ],
   "source": [
    "all_words_nsw = list(itertools.chain(*tweets_nsw))\n",
    "\n",
    "counts_nsw = collections.Counter(all_words_nsw)\n",
    "\n",
    "counts_nsw.most_common(15)"
   ]
  },
  {
   "cell_type": "code",
   "execution_count": 33,
   "metadata": {},
   "outputs": [
    {
     "data": {
      "image/png": "[encoded data removed]",
      "text/plain": [
       "<Figure size 576x576 with 1 Axes>"
      ]
     },
     "metadata": {},
     "output_type": "display_data"
    }
   ],
   "source": [
    "clean_tweets_nsw = pd.DataFrame(counts_nsw.most_common(15),\n",
    "                             columns=['words', 'count'])\n",
    "\n",
    "fig, ax = plt.subplots(figsize=(8, 8))\n",
    "\n",
    "# Plot horizontal bar graph\n",
    "clean_tweets_nsw.sort_values(by='count').plot.barh(x='words',\n",
    "                      y='count',\n",
    "                      ax=ax,\n",
    "                      color=\"purple\")\n",
    "\n",
    "ax.set_title(\"Common Words Found in Tweets (Without Stop Words)\")\n",
    "\n",
    "plt.show()"
   ]
  },
  {
   "cell_type": "code",
   "execution_count": 34,
   "metadata": {},
   "outputs": [],
   "source": [
    "collection_words = ['covid 19', 'coronavirus', 'india']"
   ]
  },
  {
   "cell_type": "code",
   "execution_count": 35,
   "metadata": {},
   "outputs": [],
   "source": [
    "tweets_nsw_nc = [[w for w in word if not w in collection_words]\n",
    "                 for word in tweets_nsw]"
   ]
  },
  {
   "cell_type": "code",
   "execution_count": 36,
   "metadata": {},
   "outputs": [
    {
     "data": {
      "text/plain": [
       "['coronavirus',\n",
       " 'amit',\n",
       " 'shah',\n",
       " 'admitted',\n",
       " 'aiims',\n",
       " 'full',\n",
       " 'medical',\n",
       " 'examination',\n",
       " 'coronavirus',\n",
       " 'covid19',\n",
       " 'homeminister']"
      ]
     },
     "execution_count": 36,
     "metadata": {},
     "output_type": "execute_result"
    }
   ],
   "source": [
    "tweets_nsw[0]"
   ]
  },
  {
   "cell_type": "code",
   "execution_count": 37,
   "metadata": {},
   "outputs": [
    {
     "data": {
      "text/plain": [
       "['amit',\n",
       " 'shah',\n",
       " 'admitted',\n",
       " 'aiims',\n",
       " 'full',\n",
       " 'medical',\n",
       " 'examination',\n",
       " 'covid19',\n",
       " 'homeminister']"
      ]
     },
     "execution_count": 37,
     "metadata": {},
     "output_type": "execute_result"
    }
   ],
   "source": [
    "tweets_nsw_nc[0]"
   ]
  },
  {
   "cell_type": "code",
   "execution_count": 38,
   "metadata": {},
   "outputs": [
    {
     "data": {
      "text/plain": [
       "[('covid19', 610),\n",
       " ('covid', 190),\n",
       " ('cases', 178),\n",
       " ('new', 132),\n",
       " ('trump', 75),\n",
       " ('deaths', 70),\n",
       " ('pandemic', 60),\n",
       " ('vaccine', 53),\n",
       " ('uk', 46),\n",
       " ('health', 46),\n",
       " ('people', 45),\n",
       " ('amp', 38),\n",
       " ('september', 36),\n",
       " ('amid', 36),\n",
       " ('data', 35)]"
      ]
     },
     "execution_count": 38,
     "metadata": {},
     "output_type": "execute_result"
    }
   ],
   "source": [
    "# Flatten list of words in clean tweets\n",
    "all_words_nsw_nc = list(itertools.chain(*tweets_nsw_nc))\n",
    "\n",
    "# Create counter of words in clean tweets\n",
    "counts_nsw_nc = collections.Counter(all_words_nsw_nc)\n",
    "\n",
    "counts_nsw_nc.most_common(15)"
   ]
  },
  {
   "cell_type": "code",
   "execution_count": 39,
   "metadata": {},
   "outputs": [
    {
     "data": {
      "text/plain": [
       "3993"
      ]
     },
     "execution_count": 39,
     "metadata": {},
     "output_type": "execute_result"
    }
   ],
   "source": [
    "len(counts_nsw_nc)"
   ]
  },
  {
   "cell_type": "code",
   "execution_count": 40,
   "metadata": {},
   "outputs": [
    {
     "data": {
      "text/html": [
       "<div>\n",
       "<style scoped>\n",
       "    .dataframe tbody tr th:only-of-type {\n",
       "        vertical-align: middle;\n",
       "    }\n",
       "\n",
       "    .dataframe tbody tr th {\n",
       "        vertical-align: top;\n",
       "    }\n",
       "\n",
       "    .dataframe thead th {\n",
       "        text-align: right;\n",
       "    }\n",
       "</style>\n",
       "<table border=\"1\" class=\"dataframe\">\n",
       "  <thead>\n",
       "    <tr style=\"text-align: right;\">\n",
       "      <th></th>\n",
       "      <th>words</th>\n",
       "      <th>count</th>\n",
       "    </tr>\n",
       "  </thead>\n",
       "  <tbody>\n",
       "    <tr>\n",
       "      <th>0</th>\n",
       "      <td>covid19</td>\n",
       "      <td>610</td>\n",
       "    </tr>\n",
       "    <tr>\n",
       "      <th>1</th>\n",
       "      <td>covid</td>\n",
       "      <td>190</td>\n",
       "    </tr>\n",
       "    <tr>\n",
       "      <th>2</th>\n",
       "      <td>cases</td>\n",
       "      <td>178</td>\n",
       "    </tr>\n",
       "    <tr>\n",
       "      <th>3</th>\n",
       "      <td>new</td>\n",
       "      <td>132</td>\n",
       "    </tr>\n",
       "    <tr>\n",
       "      <th>4</th>\n",
       "      <td>trump</td>\n",
       "      <td>75</td>\n",
       "    </tr>\n",
       "  </tbody>\n",
       "</table>\n",
       "</div>"
      ],
      "text/plain": [
       "     words  count\n",
       "0  covid19    610\n",
       "1    covid    190\n",
       "2    cases    178\n",
       "3      new    132\n",
       "4    trump     75"
      ]
     },
     "execution_count": 40,
     "metadata": {},
     "output_type": "execute_result"
    }
   ],
   "source": [
    "clean_tweets_ncw = pd.DataFrame(counts_nsw_nc.most_common(15),\n",
    "                             columns=['words', 'count'])\n",
    "clean_tweets_ncw.head()"
   ]
  },
  {
   "cell_type": "code",
   "execution_count": 41,
   "metadata": {},
   "outputs": [],
   "source": [
    "import pandas as pd\n",
    "import numpy as np\n",
    "import matplotlib.pyplot as plt\n",
    "%matplotlib inline"
   ]
  },
  {
   "cell_type": "code",
   "execution_count": 42,
   "metadata": {},
   "outputs": [
    {
     "data": {
      "text/html": [
       "<div>\n",
       "<style scoped>\n",
       "    .dataframe tbody tr th:only-of-type {\n",
       "        vertical-align: middle;\n",
       "    }\n",
       "\n",
       "    .dataframe tbody tr th {\n",
       "        vertical-align: top;\n",
       "    }\n",
       "\n",
       "    .dataframe thead th {\n",
       "        text-align: right;\n",
       "    }\n",
       "</style>\n",
       "<table border=\"1\" class=\"dataframe\">\n",
       "  <thead>\n",
       "    <tr style=\"text-align: right;\">\n",
       "      <th></th>\n",
       "      <th>count</th>\n",
       "    </tr>\n",
       "  </thead>\n",
       "  <tbody>\n",
       "    <tr>\n",
       "      <th>count</th>\n",
       "      <td>15.000000</td>\n",
       "    </tr>\n",
       "    <tr>\n",
       "      <th>mean</th>\n",
       "      <td>110.000000</td>\n",
       "    </tr>\n",
       "    <tr>\n",
       "      <th>std</th>\n",
       "      <td>147.420681</td>\n",
       "    </tr>\n",
       "    <tr>\n",
       "      <th>min</th>\n",
       "      <td>35.000000</td>\n",
       "    </tr>\n",
       "    <tr>\n",
       "      <th>25%</th>\n",
       "      <td>41.500000</td>\n",
       "    </tr>\n",
       "    <tr>\n",
       "      <th>50%</th>\n",
       "      <td>53.000000</td>\n",
       "    </tr>\n",
       "    <tr>\n",
       "      <th>75%</th>\n",
       "      <td>103.500000</td>\n",
       "    </tr>\n",
       "    <tr>\n",
       "      <th>max</th>\n",
       "      <td>610.000000</td>\n",
       "    </tr>\n",
       "  </tbody>\n",
       "</table>\n",
       "</div>"
      ],
      "text/plain": [
       "            count\n",
       "count   15.000000\n",
       "mean   110.000000\n",
       "std    147.420681\n",
       "min     35.000000\n",
       "25%     41.500000\n",
       "50%     53.000000\n",
       "75%    103.500000\n",
       "max    610.000000"
      ]
     },
     "execution_count": 42,
     "metadata": {},
     "output_type": "execute_result"
    }
   ],
   "source": [
    "clean_tweets_ncw.describe()"
   ]
  },
  {
   "cell_type": "code",
   "execution_count": 43,
   "metadata": {},
   "outputs": [],
   "source": [
    "clean_tweets_ncw.columns=['covid19','cases']"
   ]
  },
  {
   "cell_type": "code",
   "execution_count": 44,
   "metadata": {},
   "outputs": [
    {
     "data": {
      "text/html": [
       "<div>\n",
       "<style scoped>\n",
       "    .dataframe tbody tr th:only-of-type {\n",
       "        vertical-align: middle;\n",
       "    }\n",
       "\n",
       "    .dataframe tbody tr th {\n",
       "        vertical-align: top;\n",
       "    }\n",
       "\n",
       "    .dataframe thead th {\n",
       "        text-align: right;\n",
       "    }\n",
       "</style>\n",
       "<table border=\"1\" class=\"dataframe\">\n",
       "  <thead>\n",
       "    <tr style=\"text-align: right;\">\n",
       "      <th></th>\n",
       "      <th>covid19</th>\n",
       "      <th>cases</th>\n",
       "    </tr>\n",
       "  </thead>\n",
       "  <tbody>\n",
       "    <tr>\n",
       "      <th>0</th>\n",
       "      <td>covid19</td>\n",
       "      <td>610</td>\n",
       "    </tr>\n",
       "    <tr>\n",
       "      <th>1</th>\n",
       "      <td>covid</td>\n",
       "      <td>190</td>\n",
       "    </tr>\n",
       "    <tr>\n",
       "      <th>2</th>\n",
       "      <td>cases</td>\n",
       "      <td>178</td>\n",
       "    </tr>\n",
       "    <tr>\n",
       "      <th>3</th>\n",
       "      <td>new</td>\n",
       "      <td>132</td>\n",
       "    </tr>\n",
       "    <tr>\n",
       "      <th>4</th>\n",
       "      <td>trump</td>\n",
       "      <td>75</td>\n",
       "    </tr>\n",
       "  </tbody>\n",
       "</table>\n",
       "</div>"
      ],
      "text/plain": [
       "   covid19  cases\n",
       "0  covid19    610\n",
       "1    covid    190\n",
       "2    cases    178\n",
       "3      new    132\n",
       "4    trump     75"
      ]
     },
     "execution_count": 44,
     "metadata": {},
     "output_type": "execute_result"
    }
   ],
   "source": [
    "clean_tweets_ncw.head()"
   ]
  },
  {
   "cell_type": "code",
   "execution_count": 45,
   "metadata": {},
   "outputs": [
    {
     "data": {
      "text/plain": [
       "(15, 2)"
      ]
     },
     "execution_count": 45,
     "metadata": {},
     "output_type": "execute_result"
    }
   ],
   "source": [
    "clean_tweets_ncw.shape"
   ]
  },
  {
   "cell_type": "code",
   "execution_count": 46,
   "metadata": {},
   "outputs": [
    {
     "data": {
      "text/plain": [
       "Index(['covid19', 'cases'], dtype='object')"
      ]
     },
     "execution_count": 46,
     "metadata": {},
     "output_type": "execute_result"
    }
   ],
   "source": [
    "clean_tweets_ncw.columns"
   ]
  },
  {
   "cell_type": "code",
   "execution_count": 47,
   "metadata": {},
   "outputs": [
    {
     "data": {
      "text/plain": [
       "covid19    object\n",
       "cases       int64\n",
       "dtype: object"
      ]
     },
     "execution_count": 47,
     "metadata": {},
     "output_type": "execute_result"
    }
   ],
   "source": [
    "clean_tweets_ncw.dtypes"
   ]
  },
  {
   "cell_type": "code",
   "execution_count": 48,
   "metadata": {},
   "outputs": [
    {
     "data": {
      "text/plain": [
       "covid19    0\n",
       "cases      0\n",
       "dtype: int64"
      ]
     },
     "execution_count": 48,
     "metadata": {},
     "output_type": "execute_result"
    }
   ],
   "source": [
    "clean_tweets_ncw.isnull().sum()"
   ]
  },
  {
   "cell_type": "code",
   "execution_count": 49,
   "metadata": {},
   "outputs": [
    {
     "data": {
      "text/html": [
       "<div>\n",
       "<style scoped>\n",
       "    .dataframe tbody tr th:only-of-type {\n",
       "        vertical-align: middle;\n",
       "    }\n",
       "\n",
       "    .dataframe tbody tr th {\n",
       "        vertical-align: top;\n",
       "    }\n",
       "\n",
       "    .dataframe thead th {\n",
       "        text-align: right;\n",
       "    }\n",
       "</style>\n",
       "<table border=\"1\" class=\"dataframe\">\n",
       "  <thead>\n",
       "    <tr style=\"text-align: right;\">\n",
       "      <th></th>\n",
       "      <th>data_types</th>\n",
       "      <th>null_count</th>\n",
       "      <th>unique_count</th>\n",
       "    </tr>\n",
       "  </thead>\n",
       "  <tbody>\n",
       "    <tr>\n",
       "      <th>covid19</th>\n",
       "      <td>object</td>\n",
       "      <td>0</td>\n",
       "      <td>15</td>\n",
       "    </tr>\n",
       "    <tr>\n",
       "      <th>cases</th>\n",
       "      <td>int64</td>\n",
       "      <td>0</td>\n",
       "      <td>13</td>\n",
       "    </tr>\n",
       "  </tbody>\n",
       "</table>\n",
       "</div>"
      ],
      "text/plain": [
       "        data_types  null_count  unique_count\n",
       "covid19     object           0            15\n",
       "cases        int64           0            13"
      ]
     },
     "execution_count": 49,
     "metadata": {},
     "output_type": "execute_result"
    }
   ],
   "source": [
    "tmp=pd.DataFrame(index=clean_tweets_ncw.columns)\n",
    "tmp['data_types']=clean_tweets_ncw.dtypes\n",
    "tmp['null_count']=clean_tweets_ncw.isnull().sum()\n",
    "tmp['unique_count']=clean_tweets_ncw.nunique()\n",
    "tmp"
   ]
  },
  {
   "cell_type": "code",
   "execution_count": 50,
   "metadata": {},
   "outputs": [
    {
     "data": {
      "text/html": [
       "<div>\n",
       "<style scoped>\n",
       "    .dataframe tbody tr th:only-of-type {\n",
       "        vertical-align: middle;\n",
       "    }\n",
       "\n",
       "    .dataframe tbody tr th {\n",
       "        vertical-align: top;\n",
       "    }\n",
       "\n",
       "    .dataframe thead th {\n",
       "        text-align: right;\n",
       "    }\n",
       "</style>\n",
       "<table border=\"1\" class=\"dataframe\">\n",
       "  <thead>\n",
       "    <tr style=\"text-align: right;\">\n",
       "      <th></th>\n",
       "      <th>covid19</th>\n",
       "      <th>cases</th>\n",
       "    </tr>\n",
       "  </thead>\n",
       "  <tbody>\n",
       "    <tr>\n",
       "      <th>0</th>\n",
       "      <td>covid19</td>\n",
       "      <td>610</td>\n",
       "    </tr>\n",
       "    <tr>\n",
       "      <th>1</th>\n",
       "      <td>covid</td>\n",
       "      <td>190</td>\n",
       "    </tr>\n",
       "    <tr>\n",
       "      <th>2</th>\n",
       "      <td>cases</td>\n",
       "      <td>178</td>\n",
       "    </tr>\n",
       "    <tr>\n",
       "      <th>3</th>\n",
       "      <td>new</td>\n",
       "      <td>132</td>\n",
       "    </tr>\n",
       "    <tr>\n",
       "      <th>4</th>\n",
       "      <td>trump</td>\n",
       "      <td>75</td>\n",
       "    </tr>\n",
       "    <tr>\n",
       "      <th>5</th>\n",
       "      <td>deaths</td>\n",
       "      <td>70</td>\n",
       "    </tr>\n",
       "    <tr>\n",
       "      <th>6</th>\n",
       "      <td>pandemic</td>\n",
       "      <td>60</td>\n",
       "    </tr>\n",
       "    <tr>\n",
       "      <th>7</th>\n",
       "      <td>vaccine</td>\n",
       "      <td>53</td>\n",
       "    </tr>\n",
       "    <tr>\n",
       "      <th>8</th>\n",
       "      <td>uk</td>\n",
       "      <td>46</td>\n",
       "    </tr>\n",
       "    <tr>\n",
       "      <th>9</th>\n",
       "      <td>health</td>\n",
       "      <td>46</td>\n",
       "    </tr>\n",
       "    <tr>\n",
       "      <th>10</th>\n",
       "      <td>people</td>\n",
       "      <td>45</td>\n",
       "    </tr>\n",
       "    <tr>\n",
       "      <th>11</th>\n",
       "      <td>amp</td>\n",
       "      <td>38</td>\n",
       "    </tr>\n",
       "    <tr>\n",
       "      <th>12</th>\n",
       "      <td>september</td>\n",
       "      <td>36</td>\n",
       "    </tr>\n",
       "    <tr>\n",
       "      <th>13</th>\n",
       "      <td>amid</td>\n",
       "      <td>36</td>\n",
       "    </tr>\n",
       "    <tr>\n",
       "      <th>14</th>\n",
       "      <td>data</td>\n",
       "      <td>35</td>\n",
       "    </tr>\n",
       "  </tbody>\n",
       "</table>\n",
       "</div>"
      ],
      "text/plain": [
       "      covid19  cases\n",
       "0     covid19    610\n",
       "1       covid    190\n",
       "2       cases    178\n",
       "3         new    132\n",
       "4       trump     75\n",
       "5      deaths     70\n",
       "6    pandemic     60\n",
       "7     vaccine     53\n",
       "8          uk     46\n",
       "9      health     46\n",
       "10     people     45\n",
       "11        amp     38\n",
       "12  september     36\n",
       "13       amid     36\n",
       "14       data     35"
      ]
     },
     "execution_count": 50,
     "metadata": {},
     "output_type": "execute_result"
    }
   ],
   "source": [
    "clean_tweets_ncw.drop_duplicates()"
   ]
  },
  {
   "cell_type": "code",
   "execution_count": 51,
   "metadata": {},
   "outputs": [],
   "source": [
    "clean_tweets_ncw['covid19'].fillna(value=(clean_tweets_ncw['cases'].mean()),inplace=True)"
   ]
  },
  {
   "cell_type": "code",
   "execution_count": 52,
   "metadata": {},
   "outputs": [
    {
     "data": {
      "text/plain": [
       "covid19    0\n",
       "cases      0\n",
       "dtype: int64"
      ]
     },
     "execution_count": 52,
     "metadata": {},
     "output_type": "execute_result"
    }
   ],
   "source": [
    "clean_tweets_ncw.isnull().sum()"
   ]
  },
  {
   "cell_type": "code",
   "execution_count": 53,
   "metadata": {},
   "outputs": [],
   "source": [
    "clean_tweets_ncw=pd.get_dummies(clean_tweets_ncw)"
   ]
  },
  {
   "cell_type": "code",
   "execution_count": 54,
   "metadata": {},
   "outputs": [
    {
     "data": {
      "text/html": [
       "<div>\n",
       "<style scoped>\n",
       "    .dataframe tbody tr th:only-of-type {\n",
       "        vertical-align: middle;\n",
       "    }\n",
       "\n",
       "    .dataframe tbody tr th {\n",
       "        vertical-align: top;\n",
       "    }\n",
       "\n",
       "    .dataframe thead th {\n",
       "        text-align: right;\n",
       "    }\n",
       "</style>\n",
       "<table border=\"1\" class=\"dataframe\">\n",
       "  <thead>\n",
       "    <tr style=\"text-align: right;\">\n",
       "      <th></th>\n",
       "      <th>cases</th>\n",
       "      <th>covid19_amid</th>\n",
       "      <th>covid19_amp</th>\n",
       "      <th>covid19_cases</th>\n",
       "      <th>covid19_covid</th>\n",
       "      <th>covid19_covid19</th>\n",
       "      <th>covid19_data</th>\n",
       "      <th>covid19_deaths</th>\n",
       "      <th>covid19_health</th>\n",
       "      <th>covid19_new</th>\n",
       "      <th>covid19_pandemic</th>\n",
       "      <th>covid19_people</th>\n",
       "      <th>covid19_september</th>\n",
       "      <th>covid19_trump</th>\n",
       "      <th>covid19_uk</th>\n",
       "      <th>covid19_vaccine</th>\n",
       "    </tr>\n",
       "  </thead>\n",
       "  <tbody>\n",
       "    <tr>\n",
       "      <th>0</th>\n",
       "      <td>610</td>\n",
       "      <td>0</td>\n",
       "      <td>0</td>\n",
       "      <td>0</td>\n",
       "      <td>0</td>\n",
       "      <td>1</td>\n",
       "      <td>0</td>\n",
       "      <td>0</td>\n",
       "      <td>0</td>\n",
       "      <td>0</td>\n",
       "      <td>0</td>\n",
       "      <td>0</td>\n",
       "      <td>0</td>\n",
       "      <td>0</td>\n",
       "      <td>0</td>\n",
       "      <td>0</td>\n",
       "    </tr>\n",
       "    <tr>\n",
       "      <th>1</th>\n",
       "      <td>190</td>\n",
       "      <td>0</td>\n",
       "      <td>0</td>\n",
       "      <td>0</td>\n",
       "      <td>1</td>\n",
       "      <td>0</td>\n",
       "      <td>0</td>\n",
       "      <td>0</td>\n",
       "      <td>0</td>\n",
       "      <td>0</td>\n",
       "      <td>0</td>\n",
       "      <td>0</td>\n",
       "      <td>0</td>\n",
       "      <td>0</td>\n",
       "      <td>0</td>\n",
       "      <td>0</td>\n",
       "    </tr>\n",
       "    <tr>\n",
       "      <th>2</th>\n",
       "      <td>178</td>\n",
       "      <td>0</td>\n",
       "      <td>0</td>\n",
       "      <td>1</td>\n",
       "      <td>0</td>\n",
       "      <td>0</td>\n",
       "      <td>0</td>\n",
       "      <td>0</td>\n",
       "      <td>0</td>\n",
       "      <td>0</td>\n",
       "      <td>0</td>\n",
       "      <td>0</td>\n",
       "      <td>0</td>\n",
       "      <td>0</td>\n",
       "      <td>0</td>\n",
       "      <td>0</td>\n",
       "    </tr>\n",
       "    <tr>\n",
       "      <th>3</th>\n",
       "      <td>132</td>\n",
       "      <td>0</td>\n",
       "      <td>0</td>\n",
       "      <td>0</td>\n",
       "      <td>0</td>\n",
       "      <td>0</td>\n",
       "      <td>0</td>\n",
       "      <td>0</td>\n",
       "      <td>0</td>\n",
       "      <td>1</td>\n",
       "      <td>0</td>\n",
       "      <td>0</td>\n",
       "      <td>0</td>\n",
       "      <td>0</td>\n",
       "      <td>0</td>\n",
       "      <td>0</td>\n",
       "    </tr>\n",
       "    <tr>\n",
       "      <th>4</th>\n",
       "      <td>75</td>\n",
       "      <td>0</td>\n",
       "      <td>0</td>\n",
       "      <td>0</td>\n",
       "      <td>0</td>\n",
       "      <td>0</td>\n",
       "      <td>0</td>\n",
       "      <td>0</td>\n",
       "      <td>0</td>\n",
       "      <td>0</td>\n",
       "      <td>0</td>\n",
       "      <td>0</td>\n",
       "      <td>0</td>\n",
       "      <td>1</td>\n",
       "      <td>0</td>\n",
       "      <td>0</td>\n",
       "    </tr>\n",
       "  </tbody>\n",
       "</table>\n",
       "</div>"
      ],
      "text/plain": [
       "   cases  covid19_amid  covid19_amp  covid19_cases  covid19_covid  \\\n",
       "0    610             0            0              0              0   \n",
       "1    190             0            0              0              1   \n",
       "2    178             0            0              1              0   \n",
       "3    132             0            0              0              0   \n",
       "4     75             0            0              0              0   \n",
       "\n",
       "   covid19_covid19  covid19_data  covid19_deaths  covid19_health  covid19_new  \\\n",
       "0                1             0               0               0            0   \n",
       "1                0             0               0               0            0   \n",
       "2                0             0               0               0            0   \n",
       "3                0             0               0               0            1   \n",
       "4                0             0               0               0            0   \n",
       "\n",
       "   covid19_pandemic  covid19_people  covid19_september  covid19_trump  \\\n",
       "0                 0               0                  0              0   \n",
       "1                 0               0                  0              0   \n",
       "2                 0               0                  0              0   \n",
       "3                 0               0                  0              0   \n",
       "4                 0               0                  0              1   \n",
       "\n",
       "   covid19_uk  covid19_vaccine  \n",
       "0           0                0  \n",
       "1           0                0  \n",
       "2           0                0  \n",
       "3           0                0  \n",
       "4           0                0  "
      ]
     },
     "execution_count": 54,
     "metadata": {},
     "output_type": "execute_result"
    }
   ],
   "source": [
    "clean_tweets_ncw.head()"
   ]
  },
  {
   "cell_type": "code",
   "execution_count": 55,
   "metadata": {},
   "outputs": [
    {
     "data": {
      "text/plain": [
       "46     2\n",
       "36     2\n",
       "70     1\n",
       "190    1\n",
       "60     1\n",
       "53     1\n",
       "178    1\n",
       "45     1\n",
       "75     1\n",
       "38     1\n",
       "132    1\n",
       "35     1\n",
       "610    1\n",
       "Name: cases, dtype: int64"
      ]
     },
     "execution_count": 55,
     "metadata": {},
     "output_type": "execute_result"
    }
   ],
   "source": [
    "clean_tweets_ncw['cases'].value_counts()"
   ]
  },
  {
   "cell_type": "markdown",
   "metadata": {},
   "source": [
    "# K-Nearest Neighbors Classifier"
   ]
  },
  {
   "cell_type": "code",
   "execution_count": 56,
   "metadata": {},
   "outputs": [],
   "source": [
    "#import dependencies\n",
    "import pandas as pd\n",
    "import numpy as np\n",
    "import matplotlib.pyplot as plt\n",
    "from sklearn.neighbors import KNeighborsClassifier\n",
    "from sklearn.model_selection import train_test_split\n",
    "from sklearn.preprocessing import StandardScaler\n",
    "import seaborn as sns\n",
    "from sklearn.metrics import classification_report, accuracy_score\n",
    "from sklearn.model_selection import cross_val_score"
   ]
  },
  {
   "cell_type": "code",
   "execution_count": 57,
   "metadata": {},
   "outputs": [
    {
     "data": {
      "text/html": [
       "<div>\n",
       "<style scoped>\n",
       "    .dataframe tbody tr th:only-of-type {\n",
       "        vertical-align: middle;\n",
       "    }\n",
       "\n",
       "    .dataframe tbody tr th {\n",
       "        vertical-align: top;\n",
       "    }\n",
       "\n",
       "    .dataframe thead th {\n",
       "        text-align: right;\n",
       "    }\n",
       "</style>\n",
       "<table border=\"1\" class=\"dataframe\">\n",
       "  <thead>\n",
       "    <tr style=\"text-align: right;\">\n",
       "      <th></th>\n",
       "      <th>cases</th>\n",
       "      <th>covid19_amid</th>\n",
       "      <th>covid19_amp</th>\n",
       "      <th>covid19_cases</th>\n",
       "      <th>covid19_covid</th>\n",
       "      <th>covid19_covid19</th>\n",
       "      <th>covid19_data</th>\n",
       "      <th>covid19_deaths</th>\n",
       "      <th>covid19_health</th>\n",
       "      <th>covid19_new</th>\n",
       "      <th>covid19_pandemic</th>\n",
       "      <th>covid19_people</th>\n",
       "      <th>covid19_september</th>\n",
       "      <th>covid19_trump</th>\n",
       "      <th>covid19_uk</th>\n",
       "      <th>covid19_vaccine</th>\n",
       "    </tr>\n",
       "  </thead>\n",
       "  <tbody>\n",
       "    <tr>\n",
       "      <th>0</th>\n",
       "      <td>610</td>\n",
       "      <td>0</td>\n",
       "      <td>0</td>\n",
       "      <td>0</td>\n",
       "      <td>0</td>\n",
       "      <td>1</td>\n",
       "      <td>0</td>\n",
       "      <td>0</td>\n",
       "      <td>0</td>\n",
       "      <td>0</td>\n",
       "      <td>0</td>\n",
       "      <td>0</td>\n",
       "      <td>0</td>\n",
       "      <td>0</td>\n",
       "      <td>0</td>\n",
       "      <td>0</td>\n",
       "    </tr>\n",
       "    <tr>\n",
       "      <th>1</th>\n",
       "      <td>190</td>\n",
       "      <td>0</td>\n",
       "      <td>0</td>\n",
       "      <td>0</td>\n",
       "      <td>1</td>\n",
       "      <td>0</td>\n",
       "      <td>0</td>\n",
       "      <td>0</td>\n",
       "      <td>0</td>\n",
       "      <td>0</td>\n",
       "      <td>0</td>\n",
       "      <td>0</td>\n",
       "      <td>0</td>\n",
       "      <td>0</td>\n",
       "      <td>0</td>\n",
       "      <td>0</td>\n",
       "    </tr>\n",
       "    <tr>\n",
       "      <th>2</th>\n",
       "      <td>178</td>\n",
       "      <td>0</td>\n",
       "      <td>0</td>\n",
       "      <td>1</td>\n",
       "      <td>0</td>\n",
       "      <td>0</td>\n",
       "      <td>0</td>\n",
       "      <td>0</td>\n",
       "      <td>0</td>\n",
       "      <td>0</td>\n",
       "      <td>0</td>\n",
       "      <td>0</td>\n",
       "      <td>0</td>\n",
       "      <td>0</td>\n",
       "      <td>0</td>\n",
       "      <td>0</td>\n",
       "    </tr>\n",
       "    <tr>\n",
       "      <th>3</th>\n",
       "      <td>132</td>\n",
       "      <td>0</td>\n",
       "      <td>0</td>\n",
       "      <td>0</td>\n",
       "      <td>0</td>\n",
       "      <td>0</td>\n",
       "      <td>0</td>\n",
       "      <td>0</td>\n",
       "      <td>0</td>\n",
       "      <td>1</td>\n",
       "      <td>0</td>\n",
       "      <td>0</td>\n",
       "      <td>0</td>\n",
       "      <td>0</td>\n",
       "      <td>0</td>\n",
       "      <td>0</td>\n",
       "    </tr>\n",
       "    <tr>\n",
       "      <th>4</th>\n",
       "      <td>75</td>\n",
       "      <td>0</td>\n",
       "      <td>0</td>\n",
       "      <td>0</td>\n",
       "      <td>0</td>\n",
       "      <td>0</td>\n",
       "      <td>0</td>\n",
       "      <td>0</td>\n",
       "      <td>0</td>\n",
       "      <td>0</td>\n",
       "      <td>0</td>\n",
       "      <td>0</td>\n",
       "      <td>0</td>\n",
       "      <td>1</td>\n",
       "      <td>0</td>\n",
       "      <td>0</td>\n",
       "    </tr>\n",
       "  </tbody>\n",
       "</table>\n",
       "</div>"
      ],
      "text/plain": [
       "   cases  covid19_amid  covid19_amp  covid19_cases  covid19_covid  \\\n",
       "0    610             0            0              0              0   \n",
       "1    190             0            0              0              1   \n",
       "2    178             0            0              1              0   \n",
       "3    132             0            0              0              0   \n",
       "4     75             0            0              0              0   \n",
       "\n",
       "   covid19_covid19  covid19_data  covid19_deaths  covid19_health  covid19_new  \\\n",
       "0                1             0               0               0            0   \n",
       "1                0             0               0               0            0   \n",
       "2                0             0               0               0            0   \n",
       "3                0             0               0               0            1   \n",
       "4                0             0               0               0            0   \n",
       "\n",
       "   covid19_pandemic  covid19_people  covid19_september  covid19_trump  \\\n",
       "0                 0               0                  0              0   \n",
       "1                 0               0                  0              0   \n",
       "2                 0               0                  0              0   \n",
       "3                 0               0                  0              0   \n",
       "4                 0               0                  0              1   \n",
       "\n",
       "   covid19_uk  covid19_vaccine  \n",
       "0           0                0  \n",
       "1           0                0  \n",
       "2           0                0  \n",
       "3           0                0  \n",
       "4           0                0  "
      ]
     },
     "execution_count": 57,
     "metadata": {},
     "output_type": "execute_result"
    }
   ],
   "source": [
    "clean_tweets_ncw.head()"
   ]
  },
  {
   "cell_type": "code",
   "execution_count": 58,
   "metadata": {},
   "outputs": [
    {
     "data": {
      "text/html": [
       "<div>\n",
       "<style scoped>\n",
       "    .dataframe tbody tr th:only-of-type {\n",
       "        vertical-align: middle;\n",
       "    }\n",
       "\n",
       "    .dataframe tbody tr th {\n",
       "        vertical-align: top;\n",
       "    }\n",
       "\n",
       "    .dataframe thead th {\n",
       "        text-align: right;\n",
       "    }\n",
       "</style>\n",
       "<table border=\"1\" class=\"dataframe\">\n",
       "  <thead>\n",
       "    <tr style=\"text-align: right;\">\n",
       "      <th></th>\n",
       "      <th>cases</th>\n",
       "      <th>covid19_amid</th>\n",
       "      <th>covid19_amp</th>\n",
       "      <th>covid19_cases</th>\n",
       "      <th>covid19_covid</th>\n",
       "      <th>covid19_covid19</th>\n",
       "      <th>covid19_data</th>\n",
       "      <th>covid19_deaths</th>\n",
       "      <th>covid19_health</th>\n",
       "      <th>covid19_new</th>\n",
       "      <th>covid19_pandemic</th>\n",
       "      <th>covid19_people</th>\n",
       "      <th>covid19_september</th>\n",
       "      <th>covid19_trump</th>\n",
       "      <th>covid19_uk</th>\n",
       "      <th>covid19_vaccine</th>\n",
       "    </tr>\n",
       "  </thead>\n",
       "  <tbody>\n",
       "    <tr>\n",
       "      <th>0</th>\n",
       "      <td>610</td>\n",
       "      <td>0</td>\n",
       "      <td>0</td>\n",
       "      <td>0</td>\n",
       "      <td>0</td>\n",
       "      <td>1</td>\n",
       "      <td>0</td>\n",
       "      <td>0</td>\n",
       "      <td>0</td>\n",
       "      <td>0</td>\n",
       "      <td>0</td>\n",
       "      <td>0</td>\n",
       "      <td>0</td>\n",
       "      <td>0</td>\n",
       "      <td>0</td>\n",
       "      <td>0</td>\n",
       "    </tr>\n",
       "    <tr>\n",
       "      <th>1</th>\n",
       "      <td>190</td>\n",
       "      <td>0</td>\n",
       "      <td>0</td>\n",
       "      <td>0</td>\n",
       "      <td>1</td>\n",
       "      <td>0</td>\n",
       "      <td>0</td>\n",
       "      <td>0</td>\n",
       "      <td>0</td>\n",
       "      <td>0</td>\n",
       "      <td>0</td>\n",
       "      <td>0</td>\n",
       "      <td>0</td>\n",
       "      <td>0</td>\n",
       "      <td>0</td>\n",
       "      <td>0</td>\n",
       "    </tr>\n",
       "    <tr>\n",
       "      <th>2</th>\n",
       "      <td>178</td>\n",
       "      <td>0</td>\n",
       "      <td>0</td>\n",
       "      <td>1</td>\n",
       "      <td>0</td>\n",
       "      <td>0</td>\n",
       "      <td>0</td>\n",
       "      <td>0</td>\n",
       "      <td>0</td>\n",
       "      <td>0</td>\n",
       "      <td>0</td>\n",
       "      <td>0</td>\n",
       "      <td>0</td>\n",
       "      <td>0</td>\n",
       "      <td>0</td>\n",
       "      <td>0</td>\n",
       "    </tr>\n",
       "    <tr>\n",
       "      <th>3</th>\n",
       "      <td>132</td>\n",
       "      <td>0</td>\n",
       "      <td>0</td>\n",
       "      <td>0</td>\n",
       "      <td>0</td>\n",
       "      <td>0</td>\n",
       "      <td>0</td>\n",
       "      <td>0</td>\n",
       "      <td>0</td>\n",
       "      <td>1</td>\n",
       "      <td>0</td>\n",
       "      <td>0</td>\n",
       "      <td>0</td>\n",
       "      <td>0</td>\n",
       "      <td>0</td>\n",
       "      <td>0</td>\n",
       "    </tr>\n",
       "    <tr>\n",
       "      <th>4</th>\n",
       "      <td>75</td>\n",
       "      <td>0</td>\n",
       "      <td>0</td>\n",
       "      <td>0</td>\n",
       "      <td>0</td>\n",
       "      <td>0</td>\n",
       "      <td>0</td>\n",
       "      <td>0</td>\n",
       "      <td>0</td>\n",
       "      <td>0</td>\n",
       "      <td>0</td>\n",
       "      <td>0</td>\n",
       "      <td>0</td>\n",
       "      <td>1</td>\n",
       "      <td>0</td>\n",
       "      <td>0</td>\n",
       "    </tr>\n",
       "  </tbody>\n",
       "</table>\n",
       "</div>"
      ],
      "text/plain": [
       "   cases  covid19_amid  covid19_amp  covid19_cases  covid19_covid  \\\n",
       "0    610             0            0              0              0   \n",
       "1    190             0            0              0              1   \n",
       "2    178             0            0              1              0   \n",
       "3    132             0            0              0              0   \n",
       "4     75             0            0              0              0   \n",
       "\n",
       "   covid19_covid19  covid19_data  covid19_deaths  covid19_health  covid19_new  \\\n",
       "0                1             0               0               0            0   \n",
       "1                0             0               0               0            0   \n",
       "2                0             0               0               0            0   \n",
       "3                0             0               0               0            1   \n",
       "4                0             0               0               0            0   \n",
       "\n",
       "   covid19_pandemic  covid19_people  covid19_september  covid19_trump  \\\n",
       "0                 0               0                  0              0   \n",
       "1                 0               0                  0              0   \n",
       "2                 0               0                  0              0   \n",
       "3                 0               0                  0              0   \n",
       "4                 0               0                  0              1   \n",
       "\n",
       "   covid19_uk  covid19_vaccine  \n",
       "0           0                0  \n",
       "1           0                0  \n",
       "2           0                0  \n",
       "3           0                0  \n",
       "4           0                0  "
      ]
     },
     "execution_count": 58,
     "metadata": {},
     "output_type": "execute_result"
    }
   ],
   "source": [
    "clean_tweets_ncw.head()"
   ]
  },
  {
   "cell_type": "markdown",
   "metadata": {},
   "source": [
    "# Data exploration and visualization\n",
    "\n",
    "correlation matrix -"
   ]
  },
  {
   "cell_type": "code",
   "execution_count": 59,
   "metadata": {},
   "outputs": [
    {
     "data": {
      "text/plain": [
       "<matplotlib.axes._subplots.AxesSubplot at 0x1e5cd6ac708>"
      ]
     },
     "execution_count": 59,
     "metadata": {},
     "output_type": "execute_result"
    },
    {
     "data": {
      "image/png": "[encoded data removed]",
      "text/plain": [
       "<Figure size 432x288 with 2 Axes>"
      ]
     },
     "metadata": {
      "needs_background": "light"
     },
     "output_type": "display_data"
    }
   ],
   "source": [
    "cor = clean_tweets_ncw.corr()\n",
    "sns.heatmap(cor)"
   ]
  },
  {
   "cell_type": "markdown",
   "metadata": {},
   "source": [
    "# Scatter plot of two features, and pairwise plot"
   ]
  },
  {
   "cell_type": "code",
   "execution_count": 63,
   "metadata": {},
   "outputs": [
    {
     "data": {
      "text/plain": [
       "<matplotlib.axes._subplots.AxesSubplot at 0x1e5da291e08>"
      ]
     },
     "execution_count": 63,
     "metadata": {},
     "output_type": "execute_result"
    },
    {
     "data": {
      "image/png": "[encoded data removed]",
      "text/plain": [
       "<Figure size 432x288 with 1 Axes>"
      ]
     },
     "metadata": {
      "needs_background": "light"
     },
     "output_type": "display_data"
    }
   ],
   "source": [
    "sns.scatterplot(clean_tweets_ncw['cases'],clean_tweets_ncw['covid19_data'],hue=clean_tweets_ncw['covid19_health'])"
   ]
  },
  {
   "cell_type": "code",
   "execution_count": 64,
   "metadata": {},
   "outputs": [
    {
     "data": {
      "image/png": "[encoded data removed]",
      "text/plain": [
       "<Figure size 2880x2880 with 272 Axes>"
      ]
     },
     "metadata": {
      "needs_background": "light"
     },
     "output_type": "display_data"
    }
   ],
   "source": [
    "sns.pairplot(clean_tweets_ncw)\n",
    "plt.show()"
   ]
  },
  {
   "cell_type": "markdown",
   "metadata": {},
   "source": [
    "# Feature Scaling\n",
    "\n",
    "Scaling is necessary for distance-based algorithms such as KNN. This is to avoid higher weightage being assigned to data with a higher magnitude.\n",
    "\n",
    "Using standard scaler we can scale down to unit variance.\n",
    "\n",
    "Formula:\n",
    "\n",
    "z = (x - u) / s\n",
    "\n",
    "where x -> value, u -> mean, s -> standard deviation"
   ]
  },
  {
   "cell_type": "code",
   "execution_count": 65,
   "metadata": {},
   "outputs": [],
   "source": [
    "scaler = StandardScaler()"
   ]
  },
  {
   "cell_type": "code",
   "execution_count": 66,
   "metadata": {},
   "outputs": [
    {
     "data": {
      "text/plain": [
       "StandardScaler(copy=True, with_mean=True, with_std=True)"
      ]
     },
     "execution_count": 66,
     "metadata": {},
     "output_type": "execute_result"
    }
   ],
   "source": [
    "scaler.fit(clean_tweets_ncw.drop('cases',axis=1))"
   ]
  },
  {
   "cell_type": "code",
   "execution_count": 67,
   "metadata": {},
   "outputs": [
    {
     "data": {
      "text/plain": [
       "StandardScaler(copy=True, with_mean=True, with_std=True)"
      ]
     },
     "execution_count": 67,
     "metadata": {},
     "output_type": "execute_result"
    }
   ],
   "source": [
    "StandardScaler(copy=True, with_mean=True, with_std=True)"
   ]
  },
  {
   "cell_type": "code",
   "execution_count": 68,
   "metadata": {},
   "outputs": [
    {
     "data": {
      "text/plain": [
       "array([[-0.26726124, -0.26726124, -0.26726124, -0.26726124,  3.74165739,\n",
       "        -0.26726124, -0.26726124, -0.26726124, -0.26726124, -0.26726124,\n",
       "        -0.26726124, -0.26726124, -0.26726124, -0.26726124, -0.26726124],\n",
       "       [-0.26726124, -0.26726124, -0.26726124,  3.74165739, -0.26726124,\n",
       "        -0.26726124, -0.26726124, -0.26726124, -0.26726124, -0.26726124,\n",
       "        -0.26726124, -0.26726124, -0.26726124, -0.26726124, -0.26726124],\n",
       "       [-0.26726124, -0.26726124,  3.74165739, -0.26726124, -0.26726124,\n",
       "        -0.26726124, -0.26726124, -0.26726124, -0.26726124, -0.26726124,\n",
       "        -0.26726124, -0.26726124, -0.26726124, -0.26726124, -0.26726124],\n",
       "       [-0.26726124, -0.26726124, -0.26726124, -0.26726124, -0.26726124,\n",
       "        -0.26726124, -0.26726124, -0.26726124,  3.74165739, -0.26726124,\n",
       "        -0.26726124, -0.26726124, -0.26726124, -0.26726124, -0.26726124],\n",
       "       [-0.26726124, -0.26726124, -0.26726124, -0.26726124, -0.26726124,\n",
       "        -0.26726124, -0.26726124, -0.26726124, -0.26726124, -0.26726124,\n",
       "        -0.26726124, -0.26726124,  3.74165739, -0.26726124, -0.26726124],\n",
       "       [-0.26726124, -0.26726124, -0.26726124, -0.26726124, -0.26726124,\n",
       "        -0.26726124,  3.74165739, -0.26726124, -0.26726124, -0.26726124,\n",
       "        -0.26726124, -0.26726124, -0.26726124, -0.26726124, -0.26726124],\n",
       "       [-0.26726124, -0.26726124, -0.26726124, -0.26726124, -0.26726124,\n",
       "        -0.26726124, -0.26726124, -0.26726124, -0.26726124,  3.74165739,\n",
       "        -0.26726124, -0.26726124, -0.26726124, -0.26726124, -0.26726124],\n",
       "       [-0.26726124, -0.26726124, -0.26726124, -0.26726124, -0.26726124,\n",
       "        -0.26726124, -0.26726124, -0.26726124, -0.26726124, -0.26726124,\n",
       "        -0.26726124, -0.26726124, -0.26726124, -0.26726124,  3.74165739],\n",
       "       [-0.26726124, -0.26726124, -0.26726124, -0.26726124, -0.26726124,\n",
       "        -0.26726124, -0.26726124, -0.26726124, -0.26726124, -0.26726124,\n",
       "        -0.26726124, -0.26726124, -0.26726124,  3.74165739, -0.26726124],\n",
       "       [-0.26726124, -0.26726124, -0.26726124, -0.26726124, -0.26726124,\n",
       "        -0.26726124, -0.26726124,  3.74165739, -0.26726124, -0.26726124,\n",
       "        -0.26726124, -0.26726124, -0.26726124, -0.26726124, -0.26726124],\n",
       "       [-0.26726124, -0.26726124, -0.26726124, -0.26726124, -0.26726124,\n",
       "        -0.26726124, -0.26726124, -0.26726124, -0.26726124, -0.26726124,\n",
       "         3.74165739, -0.26726124, -0.26726124, -0.26726124, -0.26726124],\n",
       "       [-0.26726124,  3.74165739, -0.26726124, -0.26726124, -0.26726124,\n",
       "        -0.26726124, -0.26726124, -0.26726124, -0.26726124, -0.26726124,\n",
       "        -0.26726124, -0.26726124, -0.26726124, -0.26726124, -0.26726124],\n",
       "       [-0.26726124, -0.26726124, -0.26726124, -0.26726124, -0.26726124,\n",
       "        -0.26726124, -0.26726124, -0.26726124, -0.26726124, -0.26726124,\n",
       "        -0.26726124,  3.74165739, -0.26726124, -0.26726124, -0.26726124],\n",
       "       [ 3.74165739, -0.26726124, -0.26726124, -0.26726124, -0.26726124,\n",
       "        -0.26726124, -0.26726124, -0.26726124, -0.26726124, -0.26726124,\n",
       "        -0.26726124, -0.26726124, -0.26726124, -0.26726124, -0.26726124],\n",
       "       [-0.26726124, -0.26726124, -0.26726124, -0.26726124, -0.26726124,\n",
       "         3.74165739, -0.26726124, -0.26726124, -0.26726124, -0.26726124,\n",
       "        -0.26726124, -0.26726124, -0.26726124, -0.26726124, -0.26726124]])"
      ]
     },
     "execution_count": 68,
     "metadata": {},
     "output_type": "execute_result"
    }
   ],
   "source": [
    "#perform transformation\n",
    "scaled_features = scaler.transform(clean_tweets_ncw.drop('cases',axis=1))\n",
    "scaled_features"
   ]
  },
  {
   "cell_type": "code",
   "execution_count": 69,
   "metadata": {},
   "outputs": [
    {
     "data": {
      "text/html": [
       "<div>\n",
       "<style scoped>\n",
       "    .dataframe tbody tr th:only-of-type {\n",
       "        vertical-align: middle;\n",
       "    }\n",
       "\n",
       "    .dataframe tbody tr th {\n",
       "        vertical-align: top;\n",
       "    }\n",
       "\n",
       "    .dataframe thead th {\n",
       "        text-align: right;\n",
       "    }\n",
       "</style>\n",
       "<table border=\"1\" class=\"dataframe\">\n",
       "  <thead>\n",
       "    <tr style=\"text-align: right;\">\n",
       "      <th></th>\n",
       "      <th>cases</th>\n",
       "      <th>covid19_amid</th>\n",
       "      <th>covid19_amp</th>\n",
       "      <th>covid19_cases</th>\n",
       "      <th>covid19_covid</th>\n",
       "      <th>covid19_covid19</th>\n",
       "      <th>covid19_data</th>\n",
       "      <th>covid19_deaths</th>\n",
       "      <th>covid19_health</th>\n",
       "      <th>covid19_new</th>\n",
       "      <th>covid19_pandemic</th>\n",
       "      <th>covid19_people</th>\n",
       "      <th>covid19_september</th>\n",
       "      <th>covid19_trump</th>\n",
       "      <th>covid19_uk</th>\n",
       "    </tr>\n",
       "  </thead>\n",
       "  <tbody>\n",
       "    <tr>\n",
       "      <th>0</th>\n",
       "      <td>-0.267261</td>\n",
       "      <td>-0.267261</td>\n",
       "      <td>-0.267261</td>\n",
       "      <td>-0.267261</td>\n",
       "      <td>3.741657</td>\n",
       "      <td>-0.267261</td>\n",
       "      <td>-0.267261</td>\n",
       "      <td>-0.267261</td>\n",
       "      <td>-0.267261</td>\n",
       "      <td>-0.267261</td>\n",
       "      <td>-0.267261</td>\n",
       "      <td>-0.267261</td>\n",
       "      <td>-0.267261</td>\n",
       "      <td>-0.267261</td>\n",
       "      <td>-0.267261</td>\n",
       "    </tr>\n",
       "    <tr>\n",
       "      <th>1</th>\n",
       "      <td>-0.267261</td>\n",
       "      <td>-0.267261</td>\n",
       "      <td>-0.267261</td>\n",
       "      <td>3.741657</td>\n",
       "      <td>-0.267261</td>\n",
       "      <td>-0.267261</td>\n",
       "      <td>-0.267261</td>\n",
       "      <td>-0.267261</td>\n",
       "      <td>-0.267261</td>\n",
       "      <td>-0.267261</td>\n",
       "      <td>-0.267261</td>\n",
       "      <td>-0.267261</td>\n",
       "      <td>-0.267261</td>\n",
       "      <td>-0.267261</td>\n",
       "      <td>-0.267261</td>\n",
       "    </tr>\n",
       "    <tr>\n",
       "      <th>2</th>\n",
       "      <td>-0.267261</td>\n",
       "      <td>-0.267261</td>\n",
       "      <td>3.741657</td>\n",
       "      <td>-0.267261</td>\n",
       "      <td>-0.267261</td>\n",
       "      <td>-0.267261</td>\n",
       "      <td>-0.267261</td>\n",
       "      <td>-0.267261</td>\n",
       "      <td>-0.267261</td>\n",
       "      <td>-0.267261</td>\n",
       "      <td>-0.267261</td>\n",
       "      <td>-0.267261</td>\n",
       "      <td>-0.267261</td>\n",
       "      <td>-0.267261</td>\n",
       "      <td>-0.267261</td>\n",
       "    </tr>\n",
       "    <tr>\n",
       "      <th>3</th>\n",
       "      <td>-0.267261</td>\n",
       "      <td>-0.267261</td>\n",
       "      <td>-0.267261</td>\n",
       "      <td>-0.267261</td>\n",
       "      <td>-0.267261</td>\n",
       "      <td>-0.267261</td>\n",
       "      <td>-0.267261</td>\n",
       "      <td>-0.267261</td>\n",
       "      <td>3.741657</td>\n",
       "      <td>-0.267261</td>\n",
       "      <td>-0.267261</td>\n",
       "      <td>-0.267261</td>\n",
       "      <td>-0.267261</td>\n",
       "      <td>-0.267261</td>\n",
       "      <td>-0.267261</td>\n",
       "    </tr>\n",
       "    <tr>\n",
       "      <th>4</th>\n",
       "      <td>-0.267261</td>\n",
       "      <td>-0.267261</td>\n",
       "      <td>-0.267261</td>\n",
       "      <td>-0.267261</td>\n",
       "      <td>-0.267261</td>\n",
       "      <td>-0.267261</td>\n",
       "      <td>-0.267261</td>\n",
       "      <td>-0.267261</td>\n",
       "      <td>-0.267261</td>\n",
       "      <td>-0.267261</td>\n",
       "      <td>-0.267261</td>\n",
       "      <td>-0.267261</td>\n",
       "      <td>3.741657</td>\n",
       "      <td>-0.267261</td>\n",
       "      <td>-0.267261</td>\n",
       "    </tr>\n",
       "  </tbody>\n",
       "</table>\n",
       "</div>"
      ],
      "text/plain": [
       "      cases  covid19_amid  covid19_amp  covid19_cases  covid19_covid  \\\n",
       "0 -0.267261     -0.267261    -0.267261      -0.267261       3.741657   \n",
       "1 -0.267261     -0.267261    -0.267261       3.741657      -0.267261   \n",
       "2 -0.267261     -0.267261     3.741657      -0.267261      -0.267261   \n",
       "3 -0.267261     -0.267261    -0.267261      -0.267261      -0.267261   \n",
       "4 -0.267261     -0.267261    -0.267261      -0.267261      -0.267261   \n",
       "\n",
       "   covid19_covid19  covid19_data  covid19_deaths  covid19_health  covid19_new  \\\n",
       "0        -0.267261     -0.267261       -0.267261       -0.267261    -0.267261   \n",
       "1        -0.267261     -0.267261       -0.267261       -0.267261    -0.267261   \n",
       "2        -0.267261     -0.267261       -0.267261       -0.267261    -0.267261   \n",
       "3        -0.267261     -0.267261       -0.267261        3.741657    -0.267261   \n",
       "4        -0.267261     -0.267261       -0.267261       -0.267261    -0.267261   \n",
       "\n",
       "   covid19_pandemic  covid19_people  covid19_september  covid19_trump  \\\n",
       "0         -0.267261       -0.267261          -0.267261      -0.267261   \n",
       "1         -0.267261       -0.267261          -0.267261      -0.267261   \n",
       "2         -0.267261       -0.267261          -0.267261      -0.267261   \n",
       "3         -0.267261       -0.267261          -0.267261      -0.267261   \n",
       "4         -0.267261       -0.267261           3.741657      -0.267261   \n",
       "\n",
       "   covid19_uk  \n",
       "0   -0.267261  \n",
       "1   -0.267261  \n",
       "2   -0.267261  \n",
       "3   -0.267261  \n",
       "4   -0.267261  "
      ]
     },
     "execution_count": 69,
     "metadata": {},
     "output_type": "execute_result"
    }
   ],
   "source": [
    "clean_tweets_ncw = pd.DataFrame(scaled_features,columns=clean_tweets_ncw.columns[:-1])\n",
    "clean_tweets_ncw.head()\n"
   ]
  },
  {
   "cell_type": "code",
   "execution_count": 70,
   "metadata": {},
   "outputs": [],
   "source": [
    "from sklearn.neighbors import KNeighborsRegressor"
   ]
  },
  {
   "cell_type": "markdown",
   "metadata": {},
   "source": [
    "# Applying KNN\n",
    "\n",
    "Drop features that are not required\n",
    "Use random state while splitting the data to ensure reproducibility and consistency\n",
    "Experiment with distance metrics - Euclidean, manhattan"
   ]
  },
  {
   "cell_type": "code",
   "execution_count": 71,
   "metadata": {},
   "outputs": [],
   "source": [
    "dff = clean_tweets_ncw.drop(['covid19_data','covid19_health'],axis=1) #Removing features -  covid19_cases and covid19_india\n",
    "X_train,X_test,y_train,y_test  = train_test_split(dff,clean_tweets_ncw['cases'],test_size=0.3,random_state=45) #setting random state ensures split is same eveytime, so that the results are comparable"
   ]
  },
  {
   "cell_type": "code",
   "execution_count": 72,
   "metadata": {},
   "outputs": [],
   "source": [
    "knn = KNeighborsRegressor(n_neighbors=4,metric='manhattan')"
   ]
  },
  {
   "cell_type": "code",
   "execution_count": 73,
   "metadata": {},
   "outputs": [
    {
     "data": {
      "text/plain": [
       "(15, 15)"
      ]
     },
     "execution_count": 73,
     "metadata": {},
     "output_type": "execute_result"
    }
   ],
   "source": [
    "clean_tweets_ncw.shape"
   ]
  },
  {
   "cell_type": "code",
   "execution_count": 74,
   "metadata": {},
   "outputs": [
    {
     "data": {
      "text/plain": [
       "KNeighborsRegressor(algorithm='auto', leaf_size=30, metric='manhattan',\n",
       "                    metric_params=None, n_jobs=None, n_neighbors=4, p=2,\n",
       "                    weights='uniform')"
      ]
     },
     "execution_count": 74,
     "metadata": {},
     "output_type": "execute_result"
    }
   ],
   "source": [
    "knn.fit(X_train,y_train)"
   ]
  },
  {
   "cell_type": "code",
   "execution_count": 75,
   "metadata": {},
   "outputs": [
    {
     "data": {
      "text/plain": [
       "KNeighborsRegressor(algorithm='auto', leaf_size=30, metric='manhattan',\n",
       "                    metric_params=None, n_jobs=None, n_neighbors=4, p=2,\n",
       "                    weights='uniform')"
      ]
     },
     "execution_count": 75,
     "metadata": {},
     "output_type": "execute_result"
    }
   ],
   "source": [
    "KNeighborsRegressor(algorithm='auto', leaf_size=30, metric='manhattan',\n",
    "                     metric_params=None, n_jobs=None, n_neighbors=4, p=2,\n",
    "                     weights='uniform')"
   ]
  },
  {
   "cell_type": "code",
   "execution_count": 76,
   "metadata": {},
   "outputs": [],
   "source": [
    "y_pred = knn.predict(X_test)"
   ]
  },
  {
   "cell_type": "code",
   "execution_count": 77,
   "metadata": {},
   "outputs": [
    {
     "name": "stdout",
     "output_type": "stream",
     "text": [
      "9    -0.267261\n",
      "8    -0.267261\n",
      "6    -0.267261\n",
      "2    -0.267261\n",
      "10   -0.267261\n",
      "Name: cases, dtype: float64 [-0.26726124 -0.26726124 -0.26726124 -0.26726124 -0.26726124]\n"
     ]
    }
   ],
   "source": [
    "print(y_test,y_pred)"
   ]
  },
  {
   "cell_type": "code",
   "execution_count": 78,
   "metadata": {},
   "outputs": [],
   "source": [
    "#import required packages\n",
    "from sklearn import neighbors\n",
    "from sklearn.metrics import mean_squared_error \n",
    "from math import sqrt\n",
    "import matplotlib.pyplot as plt\n",
    "%matplotlib inline"
   ]
  },
  {
   "cell_type": "code",
   "execution_count": 79,
   "metadata": {},
   "outputs": [
    {
     "name": "stdout",
     "output_type": "stream",
     "text": [
      "RMSE value for k=  1 is: 0.0\n",
      "RMSE value for k=  2 is: 0.0\n",
      "RMSE value for k=  3 is: 0.0\n",
      "RMSE value for k=  4 is: 0.0\n",
      "RMSE value for k=  5 is: 0.50709255283711\n",
      "RMSE value for k=  6 is: 0.6681531047810609\n",
      "RMSE value for k=  7 is: 0.5727026612409094\n",
      "RMSE value for k=  8 is: 0.5011148285857958\n",
      "RMSE value for k=  9 is: 0.445435403187374\n",
      "RMSE value for k=  10 is: 0.40089186286863665\n"
     ]
    }
   ],
   "source": [
    "rmse_val = [] #to store rmse values for different k\n",
    "for K in range(10):\n",
    "    K = K+1\n",
    "    model = neighbors.KNeighborsRegressor(n_neighbors = K)\n",
    "\n",
    "    model.fit(X_train, y_train)  #fit the model\n",
    "    pred=model.predict(X_test) #make prediction on test set\n",
    "    error = sqrt(mean_squared_error(y_test,pred)) #calculate rmse\n",
    "    rmse_val.append(error) #store rmse values\n",
    "    print('RMSE value for k= ' , K , 'is:', error)"
   ]
  },
  {
   "cell_type": "code",
   "execution_count": 80,
   "metadata": {},
   "outputs": [
    {
     "data": {
      "text/plain": [
       "<matplotlib.axes._subplots.AxesSubplot at 0x1e5e454cac8>"
      ]
     },
     "execution_count": 80,
     "metadata": {},
     "output_type": "execute_result"
    },
    {
     "data": {
      "image/png": "[encoded data removed]",
      "text/plain": [
       "<Figure size 432x288 with 1 Axes>"
      ]
     },
     "metadata": {
      "needs_background": "light"
     },
     "output_type": "display_data"
    }
   ],
   "source": [
    "#plotting the rmse values against k values\n",
    "curve = pd.DataFrame(rmse_val) #elbow curve \n",
    "curve.plot()"
   ]
  },
  {
   "cell_type": "code",
   "execution_count": 83,
   "metadata": {},
   "outputs": [
    {
     "name": "stdout",
     "output_type": "stream",
     "text": [
      "['coronavirus', 'amit', 'shah', 'admitted', 'in', 'aiims', 'for', 'full', 'medical', 'examination', 'coronavirus', 'covid19', 'homeminister']\n"
     ]
    }
   ],
   "source": [
    "\n",
    "\n",
    "# import necessary modules  \n",
    "import pandas  as pd \n",
    "import matplotlib.pyplot as plt \n",
    "import numpy as np \n",
    "from sklearn.linear_model import LogisticRegression \n",
    "from sklearn.preprocessing import StandardScaler \n",
    "from sklearn.metrics import confusion_matrix, classification_report \n",
    "  \n",
    "# load the data set \n",
    "data = words_in_tweet[0]\n",
    "  \n",
    "# print info about columns in the dataframe \n",
    "print(data)"
   ]
  },
  {
   "cell_type": "code",
   "execution_count": 92,
   "metadata": {},
   "outputs": [
    {
     "data": {
      "text/plain": [
       "['coronavirus',\n",
       " 'amit',\n",
       " 'shah',\n",
       " 'admitted',\n",
       " 'in',\n",
       " 'aiims',\n",
       " 'for',\n",
       " 'full',\n",
       " 'medical',\n",
       " 'examination',\n",
       " 'coronavirus',\n",
       " 'covid19',\n",
       " 'homeminister']"
      ]
     },
     "execution_count": 92,
     "metadata": {},
     "output_type": "execute_result"
    }
   ],
   "source": [
    "data"
   ]
  },
  {
   "cell_type": "code",
   "execution_count": 96,
   "metadata": {},
   "outputs": [
    {
     "data": {
      "text/html": [
       "<div>\n",
       "<style scoped>\n",
       "    .dataframe tbody tr th:only-of-type {\n",
       "        vertical-align: middle;\n",
       "    }\n",
       "\n",
       "    .dataframe tbody tr th {\n",
       "        vertical-align: top;\n",
       "    }\n",
       "\n",
       "    .dataframe thead th {\n",
       "        text-align: right;\n",
       "    }\n",
       "</style>\n",
       "<table border=\"1\" class=\"dataframe\">\n",
       "  <thead>\n",
       "    <tr style=\"text-align: right;\">\n",
       "      <th></th>\n",
       "      <th>data_types</th>\n",
       "      <th>null_count</th>\n",
       "      <th>unique_count</th>\n",
       "    </tr>\n",
       "  </thead>\n",
       "  <tbody>\n",
       "    <tr>\n",
       "      <th>cases</th>\n",
       "      <td>float64</td>\n",
       "      <td>0</td>\n",
       "      <td>2</td>\n",
       "    </tr>\n",
       "    <tr>\n",
       "      <th>covid19_amid</th>\n",
       "      <td>float64</td>\n",
       "      <td>0</td>\n",
       "      <td>2</td>\n",
       "    </tr>\n",
       "    <tr>\n",
       "      <th>covid19_amp</th>\n",
       "      <td>float64</td>\n",
       "      <td>0</td>\n",
       "      <td>2</td>\n",
       "    </tr>\n",
       "    <tr>\n",
       "      <th>covid19_cases</th>\n",
       "      <td>float64</td>\n",
       "      <td>0</td>\n",
       "      <td>2</td>\n",
       "    </tr>\n",
       "    <tr>\n",
       "      <th>covid19_covid</th>\n",
       "      <td>float64</td>\n",
       "      <td>0</td>\n",
       "      <td>2</td>\n",
       "    </tr>\n",
       "    <tr>\n",
       "      <th>covid19_covid19</th>\n",
       "      <td>float64</td>\n",
       "      <td>0</td>\n",
       "      <td>2</td>\n",
       "    </tr>\n",
       "    <tr>\n",
       "      <th>covid19_data</th>\n",
       "      <td>float64</td>\n",
       "      <td>0</td>\n",
       "      <td>2</td>\n",
       "    </tr>\n",
       "    <tr>\n",
       "      <th>covid19_deaths</th>\n",
       "      <td>float64</td>\n",
       "      <td>0</td>\n",
       "      <td>2</td>\n",
       "    </tr>\n",
       "    <tr>\n",
       "      <th>covid19_health</th>\n",
       "      <td>float64</td>\n",
       "      <td>0</td>\n",
       "      <td>2</td>\n",
       "    </tr>\n",
       "    <tr>\n",
       "      <th>covid19_new</th>\n",
       "      <td>float64</td>\n",
       "      <td>0</td>\n",
       "      <td>2</td>\n",
       "    </tr>\n",
       "    <tr>\n",
       "      <th>covid19_pandemic</th>\n",
       "      <td>float64</td>\n",
       "      <td>0</td>\n",
       "      <td>2</td>\n",
       "    </tr>\n",
       "    <tr>\n",
       "      <th>covid19_people</th>\n",
       "      <td>float64</td>\n",
       "      <td>0</td>\n",
       "      <td>2</td>\n",
       "    </tr>\n",
       "    <tr>\n",
       "      <th>covid19_september</th>\n",
       "      <td>float64</td>\n",
       "      <td>0</td>\n",
       "      <td>2</td>\n",
       "    </tr>\n",
       "    <tr>\n",
       "      <th>covid19_trump</th>\n",
       "      <td>float64</td>\n",
       "      <td>0</td>\n",
       "      <td>2</td>\n",
       "    </tr>\n",
       "    <tr>\n",
       "      <th>covid19_uk</th>\n",
       "      <td>float64</td>\n",
       "      <td>0</td>\n",
       "      <td>2</td>\n",
       "    </tr>\n",
       "  </tbody>\n",
       "</table>\n",
       "</div>"
      ],
      "text/plain": [
       "                  data_types  null_count  unique_count\n",
       "cases                float64           0             2\n",
       "covid19_amid         float64           0             2\n",
       "covid19_amp          float64           0             2\n",
       "covid19_cases        float64           0             2\n",
       "covid19_covid        float64           0             2\n",
       "covid19_covid19      float64           0             2\n",
       "covid19_data         float64           0             2\n",
       "covid19_deaths       float64           0             2\n",
       "covid19_health       float64           0             2\n",
       "covid19_new          float64           0             2\n",
       "covid19_pandemic     float64           0             2\n",
       "covid19_people       float64           0             2\n",
       "covid19_september    float64           0             2\n",
       "covid19_trump        float64           0             2\n",
       "covid19_uk           float64           0             2"
      ]
     },
     "execution_count": 96,
     "metadata": {},
     "output_type": "execute_result"
    }
   ],
   "source": [
    "tmp=pd.DataFrame(index=clean_tweets_ncw.columns)\n",
    "tmp['data_types']=clean_tweets_ncw.dtypes\n",
    "tmp['null_count']=clean_tweets_ncw.isnull().sum()\n",
    "tmp['unique_count']=clean_tweets_ncw.nunique()\n",
    "tmp"
   ]
  },
  {
   "cell_type": "code",
   "execution_count": 97,
   "metadata": {},
   "outputs": [
    {
     "data": {
      "text/html": [
       "<div>\n",
       "<style scoped>\n",
       "    .dataframe tbody tr th:only-of-type {\n",
       "        vertical-align: middle;\n",
       "    }\n",
       "\n",
       "    .dataframe tbody tr th {\n",
       "        vertical-align: top;\n",
       "    }\n",
       "\n",
       "    .dataframe thead th {\n",
       "        text-align: right;\n",
       "    }\n",
       "</style>\n",
       "<table border=\"1\" class=\"dataframe\">\n",
       "  <thead>\n",
       "    <tr style=\"text-align: right;\">\n",
       "      <th></th>\n",
       "      <th>cases</th>\n",
       "      <th>covid19_amid</th>\n",
       "      <th>covid19_amp</th>\n",
       "      <th>covid19_cases</th>\n",
       "      <th>covid19_covid</th>\n",
       "      <th>covid19_covid19</th>\n",
       "      <th>covid19_data</th>\n",
       "      <th>covid19_deaths</th>\n",
       "      <th>covid19_health</th>\n",
       "      <th>covid19_new</th>\n",
       "      <th>covid19_pandemic</th>\n",
       "      <th>covid19_people</th>\n",
       "      <th>covid19_september</th>\n",
       "      <th>covid19_trump</th>\n",
       "      <th>covid19_uk</th>\n",
       "    </tr>\n",
       "  </thead>\n",
       "  <tbody>\n",
       "    <tr>\n",
       "      <th>0</th>\n",
       "      <td>-0.267261</td>\n",
       "      <td>-0.267261</td>\n",
       "      <td>-0.267261</td>\n",
       "      <td>-0.267261</td>\n",
       "      <td>3.741657</td>\n",
       "      <td>-0.267261</td>\n",
       "      <td>-0.267261</td>\n",
       "      <td>-0.267261</td>\n",
       "      <td>-0.267261</td>\n",
       "      <td>-0.267261</td>\n",
       "      <td>-0.267261</td>\n",
       "      <td>-0.267261</td>\n",
       "      <td>-0.267261</td>\n",
       "      <td>-0.267261</td>\n",
       "      <td>-0.267261</td>\n",
       "    </tr>\n",
       "    <tr>\n",
       "      <th>1</th>\n",
       "      <td>-0.267261</td>\n",
       "      <td>-0.267261</td>\n",
       "      <td>-0.267261</td>\n",
       "      <td>3.741657</td>\n",
       "      <td>-0.267261</td>\n",
       "      <td>-0.267261</td>\n",
       "      <td>-0.267261</td>\n",
       "      <td>-0.267261</td>\n",
       "      <td>-0.267261</td>\n",
       "      <td>-0.267261</td>\n",
       "      <td>-0.267261</td>\n",
       "      <td>-0.267261</td>\n",
       "      <td>-0.267261</td>\n",
       "      <td>-0.267261</td>\n",
       "      <td>-0.267261</td>\n",
       "    </tr>\n",
       "    <tr>\n",
       "      <th>2</th>\n",
       "      <td>-0.267261</td>\n",
       "      <td>-0.267261</td>\n",
       "      <td>3.741657</td>\n",
       "      <td>-0.267261</td>\n",
       "      <td>-0.267261</td>\n",
       "      <td>-0.267261</td>\n",
       "      <td>-0.267261</td>\n",
       "      <td>-0.267261</td>\n",
       "      <td>-0.267261</td>\n",
       "      <td>-0.267261</td>\n",
       "      <td>-0.267261</td>\n",
       "      <td>-0.267261</td>\n",
       "      <td>-0.267261</td>\n",
       "      <td>-0.267261</td>\n",
       "      <td>-0.267261</td>\n",
       "    </tr>\n",
       "    <tr>\n",
       "      <th>3</th>\n",
       "      <td>-0.267261</td>\n",
       "      <td>-0.267261</td>\n",
       "      <td>-0.267261</td>\n",
       "      <td>-0.267261</td>\n",
       "      <td>-0.267261</td>\n",
       "      <td>-0.267261</td>\n",
       "      <td>-0.267261</td>\n",
       "      <td>-0.267261</td>\n",
       "      <td>3.741657</td>\n",
       "      <td>-0.267261</td>\n",
       "      <td>-0.267261</td>\n",
       "      <td>-0.267261</td>\n",
       "      <td>-0.267261</td>\n",
       "      <td>-0.267261</td>\n",
       "      <td>-0.267261</td>\n",
       "    </tr>\n",
       "    <tr>\n",
       "      <th>4</th>\n",
       "      <td>-0.267261</td>\n",
       "      <td>-0.267261</td>\n",
       "      <td>-0.267261</td>\n",
       "      <td>-0.267261</td>\n",
       "      <td>-0.267261</td>\n",
       "      <td>-0.267261</td>\n",
       "      <td>-0.267261</td>\n",
       "      <td>-0.267261</td>\n",
       "      <td>-0.267261</td>\n",
       "      <td>-0.267261</td>\n",
       "      <td>-0.267261</td>\n",
       "      <td>-0.267261</td>\n",
       "      <td>3.741657</td>\n",
       "      <td>-0.267261</td>\n",
       "      <td>-0.267261</td>\n",
       "    </tr>\n",
       "    <tr>\n",
       "      <th>5</th>\n",
       "      <td>-0.267261</td>\n",
       "      <td>-0.267261</td>\n",
       "      <td>-0.267261</td>\n",
       "      <td>-0.267261</td>\n",
       "      <td>-0.267261</td>\n",
       "      <td>-0.267261</td>\n",
       "      <td>3.741657</td>\n",
       "      <td>-0.267261</td>\n",
       "      <td>-0.267261</td>\n",
       "      <td>-0.267261</td>\n",
       "      <td>-0.267261</td>\n",
       "      <td>-0.267261</td>\n",
       "      <td>-0.267261</td>\n",
       "      <td>-0.267261</td>\n",
       "      <td>-0.267261</td>\n",
       "    </tr>\n",
       "    <tr>\n",
       "      <th>6</th>\n",
       "      <td>-0.267261</td>\n",
       "      <td>-0.267261</td>\n",
       "      <td>-0.267261</td>\n",
       "      <td>-0.267261</td>\n",
       "      <td>-0.267261</td>\n",
       "      <td>-0.267261</td>\n",
       "      <td>-0.267261</td>\n",
       "      <td>-0.267261</td>\n",
       "      <td>-0.267261</td>\n",
       "      <td>3.741657</td>\n",
       "      <td>-0.267261</td>\n",
       "      <td>-0.267261</td>\n",
       "      <td>-0.267261</td>\n",
       "      <td>-0.267261</td>\n",
       "      <td>-0.267261</td>\n",
       "    </tr>\n",
       "    <tr>\n",
       "      <th>7</th>\n",
       "      <td>-0.267261</td>\n",
       "      <td>-0.267261</td>\n",
       "      <td>-0.267261</td>\n",
       "      <td>-0.267261</td>\n",
       "      <td>-0.267261</td>\n",
       "      <td>-0.267261</td>\n",
       "      <td>-0.267261</td>\n",
       "      <td>-0.267261</td>\n",
       "      <td>-0.267261</td>\n",
       "      <td>-0.267261</td>\n",
       "      <td>-0.267261</td>\n",
       "      <td>-0.267261</td>\n",
       "      <td>-0.267261</td>\n",
       "      <td>-0.267261</td>\n",
       "      <td>3.741657</td>\n",
       "    </tr>\n",
       "    <tr>\n",
       "      <th>8</th>\n",
       "      <td>-0.267261</td>\n",
       "      <td>-0.267261</td>\n",
       "      <td>-0.267261</td>\n",
       "      <td>-0.267261</td>\n",
       "      <td>-0.267261</td>\n",
       "      <td>-0.267261</td>\n",
       "      <td>-0.267261</td>\n",
       "      <td>-0.267261</td>\n",
       "      <td>-0.267261</td>\n",
       "      <td>-0.267261</td>\n",
       "      <td>-0.267261</td>\n",
       "      <td>-0.267261</td>\n",
       "      <td>-0.267261</td>\n",
       "      <td>3.741657</td>\n",
       "      <td>-0.267261</td>\n",
       "    </tr>\n",
       "    <tr>\n",
       "      <th>9</th>\n",
       "      <td>-0.267261</td>\n",
       "      <td>-0.267261</td>\n",
       "      <td>-0.267261</td>\n",
       "      <td>-0.267261</td>\n",
       "      <td>-0.267261</td>\n",
       "      <td>-0.267261</td>\n",
       "      <td>-0.267261</td>\n",
       "      <td>3.741657</td>\n",
       "      <td>-0.267261</td>\n",
       "      <td>-0.267261</td>\n",
       "      <td>-0.267261</td>\n",
       "      <td>-0.267261</td>\n",
       "      <td>-0.267261</td>\n",
       "      <td>-0.267261</td>\n",
       "      <td>-0.267261</td>\n",
       "    </tr>\n",
       "    <tr>\n",
       "      <th>10</th>\n",
       "      <td>-0.267261</td>\n",
       "      <td>-0.267261</td>\n",
       "      <td>-0.267261</td>\n",
       "      <td>-0.267261</td>\n",
       "      <td>-0.267261</td>\n",
       "      <td>-0.267261</td>\n",
       "      <td>-0.267261</td>\n",
       "      <td>-0.267261</td>\n",
       "      <td>-0.267261</td>\n",
       "      <td>-0.267261</td>\n",
       "      <td>3.741657</td>\n",
       "      <td>-0.267261</td>\n",
       "      <td>-0.267261</td>\n",
       "      <td>-0.267261</td>\n",
       "      <td>-0.267261</td>\n",
       "    </tr>\n",
       "    <tr>\n",
       "      <th>11</th>\n",
       "      <td>-0.267261</td>\n",
       "      <td>3.741657</td>\n",
       "      <td>-0.267261</td>\n",
       "      <td>-0.267261</td>\n",
       "      <td>-0.267261</td>\n",
       "      <td>-0.267261</td>\n",
       "      <td>-0.267261</td>\n",
       "      <td>-0.267261</td>\n",
       "      <td>-0.267261</td>\n",
       "      <td>-0.267261</td>\n",
       "      <td>-0.267261</td>\n",
       "      <td>-0.267261</td>\n",
       "      <td>-0.267261</td>\n",
       "      <td>-0.267261</td>\n",
       "      <td>-0.267261</td>\n",
       "    </tr>\n",
       "    <tr>\n",
       "      <th>12</th>\n",
       "      <td>-0.267261</td>\n",
       "      <td>-0.267261</td>\n",
       "      <td>-0.267261</td>\n",
       "      <td>-0.267261</td>\n",
       "      <td>-0.267261</td>\n",
       "      <td>-0.267261</td>\n",
       "      <td>-0.267261</td>\n",
       "      <td>-0.267261</td>\n",
       "      <td>-0.267261</td>\n",
       "      <td>-0.267261</td>\n",
       "      <td>-0.267261</td>\n",
       "      <td>3.741657</td>\n",
       "      <td>-0.267261</td>\n",
       "      <td>-0.267261</td>\n",
       "      <td>-0.267261</td>\n",
       "    </tr>\n",
       "    <tr>\n",
       "      <th>13</th>\n",
       "      <td>3.741657</td>\n",
       "      <td>-0.267261</td>\n",
       "      <td>-0.267261</td>\n",
       "      <td>-0.267261</td>\n",
       "      <td>-0.267261</td>\n",
       "      <td>-0.267261</td>\n",
       "      <td>-0.267261</td>\n",
       "      <td>-0.267261</td>\n",
       "      <td>-0.267261</td>\n",
       "      <td>-0.267261</td>\n",
       "      <td>-0.267261</td>\n",
       "      <td>-0.267261</td>\n",
       "      <td>-0.267261</td>\n",
       "      <td>-0.267261</td>\n",
       "      <td>-0.267261</td>\n",
       "    </tr>\n",
       "    <tr>\n",
       "      <th>14</th>\n",
       "      <td>-0.267261</td>\n",
       "      <td>-0.267261</td>\n",
       "      <td>-0.267261</td>\n",
       "      <td>-0.267261</td>\n",
       "      <td>-0.267261</td>\n",
       "      <td>3.741657</td>\n",
       "      <td>-0.267261</td>\n",
       "      <td>-0.267261</td>\n",
       "      <td>-0.267261</td>\n",
       "      <td>-0.267261</td>\n",
       "      <td>-0.267261</td>\n",
       "      <td>-0.267261</td>\n",
       "      <td>-0.267261</td>\n",
       "      <td>-0.267261</td>\n",
       "      <td>-0.267261</td>\n",
       "    </tr>\n",
       "  </tbody>\n",
       "</table>\n",
       "</div>"
      ],
      "text/plain": [
       "       cases  covid19_amid  covid19_amp  covid19_cases  covid19_covid  \\\n",
       "0  -0.267261     -0.267261    -0.267261      -0.267261       3.741657   \n",
       "1  -0.267261     -0.267261    -0.267261       3.741657      -0.267261   \n",
       "2  -0.267261     -0.267261     3.741657      -0.267261      -0.267261   \n",
       "3  -0.267261     -0.267261    -0.267261      -0.267261      -0.267261   \n",
       "4  -0.267261     -0.267261    -0.267261      -0.267261      -0.267261   \n",
       "5  -0.267261     -0.267261    -0.267261      -0.267261      -0.267261   \n",
       "6  -0.267261     -0.267261    -0.267261      -0.267261      -0.267261   \n",
       "7  -0.267261     -0.267261    -0.267261      -0.267261      -0.267261   \n",
       "8  -0.267261     -0.267261    -0.267261      -0.267261      -0.267261   \n",
       "9  -0.267261     -0.267261    -0.267261      -0.267261      -0.267261   \n",
       "10 -0.267261     -0.267261    -0.267261      -0.267261      -0.267261   \n",
       "11 -0.267261      3.741657    -0.267261      -0.267261      -0.267261   \n",
       "12 -0.267261     -0.267261    -0.267261      -0.267261      -0.267261   \n",
       "13  3.741657     -0.267261    -0.267261      -0.267261      -0.267261   \n",
       "14 -0.267261     -0.267261    -0.267261      -0.267261      -0.267261   \n",
       "\n",
       "    covid19_covid19  covid19_data  covid19_deaths  covid19_health  \\\n",
       "0         -0.267261     -0.267261       -0.267261       -0.267261   \n",
       "1         -0.267261     -0.267261       -0.267261       -0.267261   \n",
       "2         -0.267261     -0.267261       -0.267261       -0.267261   \n",
       "3         -0.267261     -0.267261       -0.267261        3.741657   \n",
       "4         -0.267261     -0.267261       -0.267261       -0.267261   \n",
       "5         -0.267261      3.741657       -0.267261       -0.267261   \n",
       "6         -0.267261     -0.267261       -0.267261       -0.267261   \n",
       "7         -0.267261     -0.267261       -0.267261       -0.267261   \n",
       "8         -0.267261     -0.267261       -0.267261       -0.267261   \n",
       "9         -0.267261     -0.267261        3.741657       -0.267261   \n",
       "10        -0.267261     -0.267261       -0.267261       -0.267261   \n",
       "11        -0.267261     -0.267261       -0.267261       -0.267261   \n",
       "12        -0.267261     -0.267261       -0.267261       -0.267261   \n",
       "13        -0.267261     -0.267261       -0.267261       -0.267261   \n",
       "14         3.741657     -0.267261       -0.267261       -0.267261   \n",
       "\n",
       "    covid19_new  covid19_pandemic  covid19_people  covid19_september  \\\n",
       "0     -0.267261         -0.267261       -0.267261          -0.267261   \n",
       "1     -0.267261         -0.267261       -0.267261          -0.267261   \n",
       "2     -0.267261         -0.267261       -0.267261          -0.267261   \n",
       "3     -0.267261         -0.267261       -0.267261          -0.267261   \n",
       "4     -0.267261         -0.267261       -0.267261           3.741657   \n",
       "5     -0.267261         -0.267261       -0.267261          -0.267261   \n",
       "6      3.741657         -0.267261       -0.267261          -0.267261   \n",
       "7     -0.267261         -0.267261       -0.267261          -0.267261   \n",
       "8     -0.267261         -0.267261       -0.267261          -0.267261   \n",
       "9     -0.267261         -0.267261       -0.267261          -0.267261   \n",
       "10    -0.267261          3.741657       -0.267261          -0.267261   \n",
       "11    -0.267261         -0.267261       -0.267261          -0.267261   \n",
       "12    -0.267261         -0.267261        3.741657          -0.267261   \n",
       "13    -0.267261         -0.267261       -0.267261          -0.267261   \n",
       "14    -0.267261         -0.267261       -0.267261          -0.267261   \n",
       "\n",
       "    covid19_trump  covid19_uk  \n",
       "0       -0.267261   -0.267261  \n",
       "1       -0.267261   -0.267261  \n",
       "2       -0.267261   -0.267261  \n",
       "3       -0.267261   -0.267261  \n",
       "4       -0.267261   -0.267261  \n",
       "5       -0.267261   -0.267261  \n",
       "6       -0.267261   -0.267261  \n",
       "7       -0.267261    3.741657  \n",
       "8        3.741657   -0.267261  \n",
       "9       -0.267261   -0.267261  \n",
       "10      -0.267261   -0.267261  \n",
       "11      -0.267261   -0.267261  \n",
       "12      -0.267261   -0.267261  \n",
       "13      -0.267261   -0.267261  \n",
       "14      -0.267261   -0.267261  "
      ]
     },
     "execution_count": 97,
     "metadata": {},
     "output_type": "execute_result"
    }
   ],
   "source": [
    "clean_tweets_ncw.drop_duplicates()"
   ]
  },
  {
   "cell_type": "code",
   "execution_count": 99,
   "metadata": {},
   "outputs": [],
   "source": [
    "clean_tweets_ncw['covid19_deaths'].fillna(value=(clean_tweets_ncw['cases'].mean()),inplace=True)"
   ]
  },
  {
   "cell_type": "code",
   "execution_count": 100,
   "metadata": {},
   "outputs": [
    {
     "data": {
      "text/plain": [
       "cases                0\n",
       "covid19_amid         0\n",
       "covid19_amp          0\n",
       "covid19_cases        0\n",
       "covid19_covid        0\n",
       "covid19_covid19      0\n",
       "covid19_data         0\n",
       "covid19_deaths       0\n",
       "covid19_health       0\n",
       "covid19_new          0\n",
       "covid19_pandemic     0\n",
       "covid19_people       0\n",
       "covid19_september    0\n",
       "covid19_trump        0\n",
       "covid19_uk           0\n",
       "dtype: int64"
      ]
     },
     "execution_count": 100,
     "metadata": {},
     "output_type": "execute_result"
    }
   ],
   "source": [
    "clean_tweets_ncw.isnull().sum()"
   ]
  },
  {
   "cell_type": "code",
   "execution_count": 101,
   "metadata": {},
   "outputs": [],
   "source": [
    "clean_tweets_ncw=pd.get_dummies(clean_tweets_ncw)"
   ]
  },
  {
   "cell_type": "code",
   "execution_count": 102,
   "metadata": {},
   "outputs": [
    {
     "data": {
      "text/plain": [
       "-0.267261    14\n",
       " 3.741657     1\n",
       "Name: cases, dtype: int64"
      ]
     },
     "execution_count": 102,
     "metadata": {},
     "output_type": "execute_result"
    }
   ],
   "source": [
    "clean_tweets_ncw['cases'].value_counts()"
   ]
  },
  {
   "cell_type": "code",
   "execution_count": 105,
   "metadata": {},
   "outputs": [],
   "source": [
    "from sklearn.model_selection import train_test_split"
   ]
  },
  {
   "cell_type": "code",
   "execution_count": 106,
   "metadata": {},
   "outputs": [],
   "source": [
    "dff = clean_tweets_ncw.drop(['covid19_data','covid19_deaths'],axis=1) #Removing features -  covid19_data and covid19_deaths\n",
    "X_train,X_test,y_train,y_test  = train_test_split(dff,clean_tweets_ncw['cases'],test_size=0.3,random_state=45) #setting random state ensures split is same eveytime, so that the results are comparable"
   ]
  },
  {
   "cell_type": "code",
   "execution_count": 107,
   "metadata": {},
   "outputs": [
    {
     "name": "stdout",
     "output_type": "stream",
     "text": [
      "Number transactions X_train dataset:  (10, 13)\n",
      "Number transactions y_train dataset:  (10,)\n",
      "Number transactions X_test dataset:  (5, 13)\n",
      "Number transactions y_test dataset:  (5,)\n"
     ]
    }
   ],
   "source": [
    "from sklearn.model_selection import train_test_split \n",
    "  \n",
    "  \n",
    "# describes info about train and test set \n",
    "print(\"Number transactions X_train dataset: \", X_train.shape) \n",
    "print(\"Number transactions y_train dataset: \", y_train.shape) \n",
    "print(\"Number transactions X_test dataset: \", X_test.shape) \n",
    "print(\"Number transactions y_test dataset: \", y_test.shape) "
   ]
  },
  {
   "cell_type": "markdown",
   "metadata": {},
   "source": [
    "# Now train the model for handling Class Imbalance using SMOTE-SVM"
   ]
  },
  {
   "cell_type": "code",
   "execution_count": 110,
   "metadata": {},
   "outputs": [
    {
     "name": "stdout",
     "output_type": "stream",
     "text": [
      "Collecting SVM\n",
      "  Downloading svm-0.1.0.tar.gz (3.4 kB)\n",
      "Requirement already satisfied: requests in c:\\programdata\\anaconda3\\lib\\site-packages (from SVM) (2.22.0)\n",
      "Requirement already satisfied: colorama in c:\\programdata\\anaconda3\\lib\\site-packages (from SVM) (0.4.3)\n",
      "Requirement already satisfied: xmltodict in c:\\programdata\\anaconda3\\lib\\site-packages (from SVM) (0.12.0)\n",
      "Requirement already satisfied: certifi>=2017.4.17 in c:\\programdata\\anaconda3\\lib\\site-packages (from requests->SVM) (2019.11.28)\n",
      "Requirement already satisfied: idna<2.9,>=2.5 in c:\\programdata\\anaconda3\\lib\\site-packages (from requests->SVM) (2.8)\n",
      "Requirement already satisfied: chardet<3.1.0,>=3.0.2 in c:\\programdata\\anaconda3\\lib\\site-packages (from requests->SVM) (3.0.4)\n",
      "Requirement already satisfied: urllib3!=1.25.0,!=1.25.1,<1.26,>=1.21.1 in c:\\programdata\\anaconda3\\lib\\site-packages (from requests->SVM) (1.25.8)\n",
      "Building wheels for collected packages: SVM\n",
      "  Building wheel for SVM (setup.py): started\n",
      "  Building wheel for SVM (setup.py): finished with status 'done'\n",
      "  Created wheel for SVM: filename=svm-0.1.0-py3-none-any.whl size=3487 sha256=6c5923fe7f70f84973a487aa8e57998733b02c510a25ede4fc4f841d112a120a\n",
      "  Stored in directory: c:\\users\\soumya\\appdata\\local\\pip\\cache\\wheels\\17\\78\\bc\\2f7ee465ee53ccdf86e3332e6f2fd6b648f1b8278e18cab968\n",
      "Successfully built SVM\n",
      "Installing collected packages: SVM\n",
      "Successfully installed SVM-0.1.0\n"
     ]
    }
   ],
   "source": [
    "!pip install SVM"
   ]
  },
  {
   "cell_type": "code",
   "execution_count": 112,
   "metadata": {},
   "outputs": [
    {
     "data": {
      "image/png": "[encoded data removed]",
      "text/plain": [
       "<Figure size 288x216 with 1 Axes>"
      ]
     },
     "metadata": {},
     "output_type": "display_data"
    },
    {
     "data": {
      "image/png": "[encoded data removed]",
      "text/plain": [
       "<Figure size 288x216 with 1 Axes>"
      ]
     },
     "metadata": {},
     "output_type": "display_data"
    }
   ],
   "source": [
    "import svm\n",
    "import pandas as pd\n",
    "data = pd.DataFrame(index=clean_tweets_ncw.columns)\n",
    "import numpy as np\n",
    "import matplotlib.pyplot as plt\n",
    "from sklearn import svm\n",
    "\n",
    "# we create 40 separable points\n",
    "np.random.seed(0)\n",
    "X = np.r_[np.random.randn(20, 2) - [2, 2], np.random.randn(20, 2) + [2, 2]]\n",
    "Y = [0] * 20 + [1] * 20\n",
    "\n",
    "# figure number\n",
    "fignum = 1\n",
    "\n",
    "# fit the model\n",
    "for name, penalty in (('unreg', 1), ('reg', 0.05)):\n",
    "\n",
    "    clf = svm.SVC(kernel='linear', C=penalty)\n",
    "    clf.fit(X, Y)\n",
    "\n",
    "    # get the separating hyperplane\n",
    "    w = clf.coef_[0]\n",
    "    a = -w[0] / w[1]\n",
    "    xx = np.linspace(-5, 5)\n",
    "    yy = a * xx - (clf.intercept_[0]) / w[1]\n",
    "\n",
    "    # plot the parallels to the separating hyperplane that pass through the\n",
    "    # support vectors (margin away from hyperplane in direction\n",
    "    # perpendicular to hyperplane). This is sqrt(1+a^2) away vertically in\n",
    "    # 2-d.\n",
    "    margin = 1 / np.sqrt(np.sum(clf.coef_ ** 2))\n",
    "    yy_down = yy - np.sqrt(1 + a ** 2) * margin\n",
    "    yy_up = yy + np.sqrt(1 + a ** 2) * margin\n",
    "\n",
    "    # plot the line, the points, and the nearest vectors to the plane\n",
    "    plt.figure(fignum, figsize=(4, 3))\n",
    "    plt.clf()\n",
    "    plt.plot(xx, yy, 'k-')\n",
    "    plt.plot(xx, yy_down, 'k--')\n",
    "    plt.plot(xx, yy_up, 'k--')\n",
    "    plt.scatter(clf.support_vectors_[:, 0], clf.support_vectors_[:, 1], s=80,\n",
    "                facecolors='none', zorder=10, edgecolors='k')\n",
    "    plt.scatter(X[:, 0], X[:, 1], c=Y, zorder=10, cmap=plt.cm.Paired,\n",
    "                edgecolors='k')\n",
    "\n",
    "    plt.axis('tight')\n",
    "    x_min = -4.8\n",
    "    x_max = 4.2\n",
    "    y_min = -6\n",
    "    y_max = 6\n",
    "\n",
    "    XX, YY = np.mgrid[x_min:x_max:200j, y_min:y_max:200j]\n",
    "    Z = clf.predict(np.c_[XX.ravel(), YY.ravel()])\n",
    "\n",
    "    # Put the result into a color plot\n",
    "    Z = Z.reshape(XX.shape)\n",
    "    plt.figure(fignum, figsize=(4, 3))\n",
    "    plt.pcolormesh(XX, YY, Z, cmap=plt.cm.Paired)\n",
    "\n",
    "    plt.xlim(x_min, x_max)\n",
    "    plt.ylim(y_min, y_max)\n",
    "\n",
    "    plt.xticks(())\n",
    "    plt.yticks(())\n",
    "    fignum = fignum + 1\n",
    "\n",
    "plt.show()"
   ]
  },
  {
   "cell_type": "code",
   "execution_count": null,
   "metadata": {},
   "outputs": [],
   "source": []
  }
 ],
 "metadata": {
  "kernelspec": {
   "display_name": "Python 3",
   "language": "python",
   "name": "python3"
  },
  "language_info": {
   "codemirror_mode": {
    "name": "ipython",
    "version": 3
   },
   "file_extension": ".py",
   "mimetype": "text/x-python",
   "name": "python",
   "nbconvert_exporter": "python",
   "pygments_lexer": "ipython3",
   "version": "3.7.6"
  }
 },
 "nbformat": 4,
 "nbformat_minor": 4
}
